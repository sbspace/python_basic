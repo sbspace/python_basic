{
 "cells": [
  {
   "cell_type": "markdown",
   "metadata": {},
   "source": [
    "정규 표현식(regular expression) : 복잡한 문자열을 처리할 때 사용하는 기법. 파이썬만의 표현이 아니라 문자열 처리하는 모든곳에서 사용됨 "
   ]
  },
  {
   "cell_type": "markdown",
   "metadata": {},
   "source": [
    "정규표현식에서는 메타문자(meta characteristic)을 사용한다. \n",
    "메타문자란, 원래 그 문자가 가진 뜻이 아닌 특별한 의미를 가진 문자 =>       . ^ $ * + ? {} [] \\ | ()\n",
    "파이썬에서 정규표현식은 re (regular expression) 모듈(표준 라이브러리)을 통해 실행된다. "
   ]
  },
  {
   "cell_type": "markdown",
   "metadata": {},
   "source": [
    "[] 문자 클래스 : [ 와 ] 사이의 문자들과 매치를 뜻함\n",
    "[abc] 라면 ? 'a,b,c 중 한개의 문자와 매치' 를 뜻한다. 예를들어 dude 는 매치되지 않고 break 는 매치된다.ㅣ \n",
    "[a-d] 와 같이 두 문자 사이에 하이픈(-)을 사용하면, 두 문자 사이의 범위를 의미하게 된다. [a-d] 는 [abcd] 와 동일하다 [0-3] 은 [0123]과 동일\n",
    "[a-zA-Z] 는 모든 알파벳, [0-9]는 모든 숫자를 가르킴\n",
    "[] 안에 ^ 을 사용하면 반대(not)의 의미를 갖는다 [^0-9]는 숫자가 아닌 문자를 의미함"
   ]
  },
  {
   "cell_type": "markdown",
   "metadata": {},
   "source": [
    "자주 사용하는 정규 표현식 : 대문자와 소문자는 반대 기능\n",
    "\\d = [0-9]\n",
    "\\D = [^0-9]\n",
    "\\s = [ \\t\\n\\r\\f\\v] : 화이트스페이스 문자 (스페이스, 탭, 줄바꿈 등의 공백문자)\n",
    "\\S = [^ \\t\\n\\r\\f\\v]\n",
    "\\w = [a-zA-Z0-9_] : 문자+숫자와 매칭됨\n",
    "\\W = [^a-zA-Z0-9_] : 문자+숫자와 매칭됨"
   ]
  },
  {
   "cell_type": "markdown",
   "metadata": {},
   "source": [
    "- '.(dot)' 정규 표현식 : 줄바꿈 (\\n) 을 제외한 모든 문자와 매칭된다는 것을 의미함. \n",
    "a.b =>  \"a + 모든문자 + b\"  와 매칭됨 (aab, a0b 등..)\n",
    "a...b => askjb , a01vb \n",
    "\n",
    "- '*' 정규 표현식 : *바로 앞에 있는 문자가 0부터 무한대까지 반복가능하다는 의미\n",
    "- '+' 정규 표현식 : +바로 앞에 있는 문자가 1부터 무한대까지 반복가능하다는 의미 \n",
    "ca*t => ct, cat, caaaat 모두 매칭이 됨 \n",
    "ca+t => cat, caaaat 매칭이 됨 (ct는 안됨)\n",
    "\n",
    "- {} 을 이용한 반복 횟수 지정 \n",
    "- ? 정규 표현식 : {0,1} 을 의미함 \n",
    "ca{2}t => caat 랑만 매치\n",
    "ca{2,5}t => caat, caaat, caaaat, caaaaat 와 매치 \n",
    "ca{,5}t ca{2,}t => a가 각각 5개이하, 2개이상인 경우와만 매치 \n",
    "ab?c => b가 1개 있어도 되고 없어도됨"
   ]
  },
  {
   "cell_type": "markdown",
   "metadata": {},
   "source": [
    "** 컴파일된 패턴 객체는 4가지 메서드를 제공한다. **\n",
    "\n",
    "match : 문자열의 처음부터 정규식과 매치되는지 조사한다. \n",
    "search : 문자열 전체를 검색하여 정규식과 매치되는지 조사한다. \n",
    "findall : 정규식과 매치되는 모든 문자열(substring)을 리스트로 리턴한다. \n",
    "finditer : 정규식과 매치되는 모든 문자열(substring)을 이터레이터 객체로 리턴한다. \n",
    "\n",
    "이러한 메서드에 의해 반환된 객체를 '매치 객체' 라고 표현한다. "
   ]
  },
  {
   "cell_type": "code",
   "execution_count": 17,
   "metadata": {},
   "outputs": [
    {
     "name": "stdout",
     "output_type": "stream",
     "text": [
      "<re.Match object; span=(0, 6), match='python'> <re.Match object; span=(0, 6), match='python'>\n",
      "None <re.Match object; span=(2, 8), match='python'>\n",
      "['ife', 'is', 'too', 'short', 'years', 'at', 'most', 'a']\n",
      "<callable_iterator object at 0x00000149F59E5D80>\n",
      "<re.Match object; span=(1, 4), match='ife'>\n",
      "<re.Match object; span=(5, 7), match='is'>\n",
      "<re.Match object; span=(8, 11), match='too'>\n",
      "<re.Match object; span=(12, 17), match='short'>\n",
      "<re.Match object; span=(23, 28), match='years'>\n",
      "<re.Match object; span=(29, 31), match='at'>\n",
      "<re.Match object; span=(32, 36), match='most'>\n"
     ]
    }
   ],
   "source": [
    "import re \n",
    "\n",
    "p = re.compile('[a-z]+')   # [a-z]+ 라는 정규표현식을 p 라는 패턴 객체에 컴파일 한다는 의미. 패턴이란, 정규식을 컴파일한 결과이다. \n",
    "print(p.match(\"python\"), p.search(\"python\"))  # 실행 시 반환 결과를 'match 객체' 라고 표현함 \n",
    "print(p.match(\"3 python\"), p.search(\"3 python\"))  # match 는 처음부터 매치 조사를 하기때문에 처음에 문자가 아닌게 나오면 매치안시킴\n",
    "                                                  # match, search 둘 다 처음으로 매치되는 문자열만 반환한다.  \n",
    "\n",
    "print(p.findall(\"Life is too short. 100 years at most SaD\"))  #[a-z]+ 패턴과 매칭되는 문자열만 반환함\n",
    "\n",
    "result = p.finditer(\"Life is too short. 100 years at most\")\n",
    "print(result)\n",
    "\n",
    "for res in result:\n",
    "    print(res)"
   ]
  },
  {
   "cell_type": "code",
   "execution_count": 20,
   "metadata": {},
   "outputs": [
    {
     "name": "stdout",
     "output_type": "stream",
     "text": [
      "<re.Match object; span=(2, 8), match='python'> 2 8\n"
     ]
    },
    {
     "data": {
      "text/plain": [
       "10"
      ]
     },
     "execution_count": 20,
     "metadata": {},
     "output_type": "execute_result"
    }
   ],
   "source": [
    "p = re.compile('[a-z]+')\n",
    "m = p.search(\"3 python\")\n",
    "print(m, m.start(), m.end())\n",
    "m.start() + m.end()"
   ]
  },
  {
   "cell_type": "code",
   "execution_count": 22,
   "metadata": {},
   "outputs": [
    {
     "name": "stdout",
     "output_type": "stream",
     "text": [
      "Match found:  <re.Match object; span=(0, 11), match='01025123860'>\n",
      "01025123860 (0, 11)\n"
     ]
    }
   ],
   "source": [
    "# 파이썬 정규식 프로그램은 match 객체 혹은 None 을 반환하니 때문에 보통 아래와 같은 흐름으로 작성한다. \n",
    "\n",
    "q = re.compile('010....3860')\n",
    "m = q.match('01025123860')\n",
    "\n",
    "if m:\n",
    "    print('Match found: ', m)\n",
    "    print(m.group(), m.span())\n",
    "else:\n",
    "    print('No match')"
   ]
  },
  {
   "cell_type": "markdown",
   "metadata": {},
   "source": [
    "정리하면 re.compile 로 컴파일한 결과가 '패턴 객체'\n",
    "'패턴 객체' 에 메서드(match,search, finditer 등)을 적용했을 때 리턴된 결과가 '매치(match) 객체'\n",
    "\n",
    "** match 객체는 4가지 메서드를 제공한다. **\n",
    "→ 주 목적은, 매치된 문자열이 무엇이고 매치된 문자열의 인덱스가 어디서부터 어디까지인지 알 기 위함\n",
    "\n",
    "group : 매치된 문자열을 리턴한다. \n",
    "start : 매치된 문자열의 시작 위치를 리턴한다. \n",
    "end : 매치된 문자열의 끝 위치를 리턴한다. \n",
    "span : 매치된 문자열의 (시작,끝)에 해당하는 튜플을 리턴한다. \n"
   ]
  },
  {
   "cell_type": "code",
   "execution_count": 4,
   "metadata": {},
   "outputs": [
    {
     "name": "stdout",
     "output_type": "stream",
     "text": [
      "python 0 6 (0, 6)\n",
      "python 2 8 (2, 8)\n"
     ]
    }
   ],
   "source": [
    "m = p.match('python 3.0')\n",
    "n = p.search('3 python')\n",
    "print(m.group(), m.start(), m.end(), m.span())   # match.start() 는 항상 0 임. 첫문자 부터 찾기 때문 \n",
    "print(n.group(), n.start(), n.end(), n.span())"
   ]
  },
  {
   "cell_type": "code",
   "execution_count": 25,
   "metadata": {},
   "outputs": [
    {
     "name": "stdout",
     "output_type": "stream",
     "text": [
      "<re.Match object; span=(0, 6), match='python'> <re.Match object; span=(0, 6), match='python'>\n",
      "['python', 'evironment']\n"
     ]
    }
   ],
   "source": [
    "# 패턴객체로 컴파일링 + 문자열과 매칭 과정을 한번에 할 수 있다. \n",
    "\n",
    "p = re.compile('[a-z]+')\n",
    "m = p.match('python environment')\n",
    "\n",
    "n = re.match('[a-z]+', 'python environment')\n",
    "\n",
    "print(m, n)  # 동일하다 ! "
   ]
  },
  {
   "cell_type": "markdown",
   "metadata": {},
   "source": [
    "** 컴파일 옵션 : 정규식을 컴파일 할 때 몇가지 옵션을 사용할 수 있다. \n",
    "\n",
    "DOTALL(S) : .(dot) 이 줄바꿈 문자를 포함해 모든 문자와 매칭될 수 있게 해줌 \n",
    "IGNORECASE(I) : 대소문자 관계없이 매치될 수 있게 해줌 \n",
    "MULTILINE(M) : 여러 줄과 매치될 수 있게 해줌. ^, $ 메타 문자 사용과 관계 있는 옵션 (^, $ 메타 문자를 문자열의 각 줄마다 적용해줌)\n",
    "VERBOSE(X) : 정규식을 보기 편하게 만들고 주석등을 사용할 수 있게 해줌 (verbose 모드를 사용하게 해주는 것)\n",
    "              정규식 전문가들이 만든 정규식은 거의 암호수준처럼 어려움. 쉽게 보기 위해 verbose 모드를 사용함 \n",
    "\n",
    "괄호는 약어로, 실제 사용시 re.DOTALL = re.S"
   ]
  },
  {
   "cell_type": "code",
   "execution_count": 6,
   "metadata": {},
   "outputs": [
    {
     "name": "stdout",
     "output_type": "stream",
     "text": [
      "None <re.Match object; span=(0, 3), match='a\\nb'>\n",
      "<re.Match object; span=(0, 5), match='great'> <re.Match object; span=(0, 11), match='greatThings'>\n",
      "['python is']\n",
      "['python is', 'python is']\n"
     ]
    }
   ],
   "source": [
    "# DOTALL (S)\n",
    "p = re.compile('a.b')\n",
    "q = re.compile('a.b', re.DOTALL)\n",
    "\n",
    "print(p.match('a\\nb'), q.match('a\\nb'))\n",
    "\n",
    "# IGNORECASE (I)\n",
    "p = re.compile('[a-z]+')\n",
    "q = re.compile('[a-z]+', re.IGNORECASE)\n",
    "\n",
    "print(p.match('greatThings'), q.match('greatThings'))\n",
    "\n",
    "# MULTILINE (M)\n",
    "p = re.compile('^python\\s\\w+')\n",
    "q = re.compile('^python\\s\\w+', re.MULTILINE)\n",
    "data =\"\"\"python is\n",
    "all you need\n",
    "python is perfect\n",
    "you need python\"\"\"\n",
    "\n",
    "print(p.findall(data))\n",
    "print(q.findall(data))"
   ]
  },
  {
   "cell_type": "code",
   "execution_count": 27,
   "metadata": {},
   "outputs": [
    {
     "name": "stdout",
     "output_type": "stream",
     "text": [
      "<re.Match object; span=(6, 14), match='\\\\section'>\n"
     ]
    }
   ],
   "source": [
    "# 정규식에서 역슬래시 문제 \n",
    "# \\section 이라는 문자열을 찾기 위한 정규식을 만들려면 ? \n",
    "p = re.compile(r'\\\\section')\n",
    "m = p.search('great \\section')\n",
    "print(m)\n"
   ]
  },
  {
   "cell_type": "markdown",
   "metadata": {},
   "source": [
    "------------- 심화, 응용 ---------------"
   ]
  },
  {
   "cell_type": "markdown",
   "metadata": {},
   "source": [
    "이전까지의 + * [] {} 등의 메타문자는 매치가 성사되면, 문자열을 탐색하는 시작 위치가 변경된다 (소비된다고 표현)\n",
    "aac 라는 문자열에서 a+ 패턴을 찾으면 aa가 매치되어 소비되고, 남은 c가 시작 위치가 된다. \n",
    "이와 달리, 문자열 소비가 없는 메타 문자도 있다 "
   ]
  },
  {
   "cell_type": "code",
   "execution_count": 8,
   "metadata": {},
   "outputs": [
    {
     "name": "stdout",
     "output_type": "stream",
     "text": [
      "<re.Match object; span=(0, 4), match='Crow'>\n",
      "<re.Match object; span=(0, 4), match='Life'> None\n",
      "<re.Match object; span=(8, 13), match='short'> None\n",
      "<re.Match object; span=(3, 8), match='class'> None None\n",
      "None <re.Match object; span=(6, 11), match='class'> None\n"
     ]
    }
   ],
   "source": [
    "# | 메타 문자는 or 와 동일한 의미 \n",
    "p = re.compile('Crow|Servo')\n",
    "m = p.match('CrowHello')\n",
    "print(m)\n",
    "\n",
    "# ^ 메타 문자는 문자열의 맨 처음과 일치하는지를 의미 \n",
    "print(re.search(\"^Life\", 'Life is good'), re.search(\"^Life\", 'Bravo Life is good'))\n",
    "\n",
    "# $ 메타 문자는 ^ 와 반대로 문자열의 끝과 일치한다는 것을 의미 \n",
    "print(re.search(\"short$\", \"Life is short\"), re.search(\"short$\", \"Life is short, you need python\"))\n",
    "\n",
    "# ^ 와 $ 는 모두 re.MULTILINE 을 사용했을때 문자열 전체가 아닌, 각 줄에서의 문자열 처음과 매치된다. \n",
    "# \\A 와 \\Z 는 각각 ^, $ 와 동일한데, re.MULTILINE 과는 다르게 줄과 상관없이 전체 문자열의 처음하고만 매치된다. \n",
    "\n",
    "# \\b 는 단어 구분자(word boundray) 역할로, 화이트스페이스를 의미함. \\B 는 \\b 와 반대 역할\n",
    "# 주의할 점은 \\b 는 원래 파이썬 리터럴 규칙에서 백스페이스이기 때문에 이와 구분하기위해 r'' (raw string 표현을 사용해야함)\n",
    "p = re.compile(r'\\bclass\\b')\n",
    "q = re.compile(r'\\Bclass\\B')  # class 라는 단어 앞뒤에 화이트스페이스가 둘다 없어야 한다. \n",
    "print(p.search('no class today'), p.search('the declassified algorithm'), p.search('the classification problem'))\n",
    "print(q.search('no class today'), q.search('the declassified algorithm'), q.search('the classification problem'))\n",
    "\n"
   ]
  },
  {
   "cell_type": "code",
   "execution_count": 33,
   "metadata": {},
   "outputs": [
    {
     "name": "stdout",
     "output_type": "stream",
     "text": [
      "<re.Match object; span=(0, 9), match='ABCABCABC'> ABCABCABC\n",
      "<re.Match object; span=(0, 18), match='song 010-2512-3860'>\n",
      "song 010-2512-3860 ///// song 010 010-2512-3860\n",
      "the the\n",
      "song song 010-2512-3860 010\n",
      "the the\n"
     ]
    }
   ],
   "source": [
    "# ABC가 계속 반복되는지 조사하는 정규식 \n",
    "\n",
    "p = re.compile('(ABC)+')\n",
    "m = p.search('ABCABCABCAB OK?')\n",
    "print(m, m.group())\n",
    "\n",
    "p = re.compile(r'\\w+\\s+\\d+[-]\\d+[-]\\d+')\n",
    "m = p.search('song 010-2512-3860')\n",
    "print(m)\n",
    "\n",
    "p = re.compile(r'(\\w+)\\s+((\\d+)[-]\\d+[-]\\d+)')\n",
    "# 이런식으로 그루핑해서 원하는 그룹만 뽑아낼 수 있다. 그룹을 중첩하면 바깥쪽부터 인덱싱된다.  \n",
    "m = p.search('song 010-2512-3860')\n",
    "print(m.group(0),\"/////\", m.group(1), m.group(3), m.group(2))\n",
    "\n",
    "# \\1 을 이용하여 그루핑 된 문자열을 재참조 하기 \n",
    "\n",
    "p= re.compile(r'(\\b\\w+)\\s+\\1')  # (그룹) + \" \" + (그룹) 과 동일한 단어와 매칭하겠다는 의미 \n",
    "                                # 만약 두번째 그룹을 참조하고 싶다면 \\2 를 사용하면 된다. \n",
    "print(p.search('Paris in the the spring').group())\n",
    "\n",
    "# 그룹이 너무 많다면? 그룹이 추가/삭제 된다면 ? 그룹의 인덱스로 참조한 프로그램에서 인덱스 다시 다 바꿔줘야함.. \n",
    "# 이런 문제를 해결하고자, 인덱스가 아닌 이름으로 참조하는 방법이 있다. \n",
    "# 그룹에 이름을 지어주려면 (?P<그룹명>..)을 붙여준다. \n",
    "\n",
    "p = re.compile(r'(?P<name>\\w+)\\s+((\\d+)[-]\\d+[-]\\d+)')\n",
    "m = p.search('song 010-2512-3860')\n",
    "print(m.group('name'), m.group(1), m.group(2), m.group(3))\n",
    "\n",
    "# 그룹 이름으로 재참조 하기 \n",
    "p= re.compile(r'(?P<word>\\b\\w+)\\s+(?P=word)')  # (?P=그룹이름) 으로 재참조 \n",
    "print(p.search('Paris in the the spring').group())\n"
   ]
  },
  {
   "cell_type": "markdown",
   "metadata": {},
   "source": [
    "전방 탐색 : (전방탐색 확장구문). 긍정형과 부정형 2가지가 있다. \n",
    "- 긍정형 = ((?=...))  ... 에 해당하는 정규식과 매치되어야 하며, 조건이 통과되어도 문자열이 소비되지 않는다. \n",
    "- 부정형 = ((?!=...))  ... 에 해당하는 정규식과 매치되지 않아야 하며, 조건이 통과되어도 문자열이 소비되지 않는다. "
   ]
  },
  {
   "cell_type": "code",
   "execution_count": 10,
   "metadata": {},
   "outputs": [
    {
     "name": "stdout",
     "output_type": "stream",
     "text": [
      "파일확장자를 컴파일 하는 예시 great.py\n",
      "great.py\n",
      "bat 혹은 exe 입니다\n",
      "great.bats\n",
      "bat 혹은 exe 입니다\n",
      "great.ipynb\n"
     ]
    }
   ],
   "source": [
    "# 부정형 전방탐색의 예시 \n",
    "\n",
    "p=re.compile('.*[.].*$')\n",
    "m = p.search(\"great.py\")\n",
    "print('파일확장자를 컴파일 하는 예시', m.group())\n",
    "\n",
    "# '확장자가 bat인 파일은 제외해야 한다' 라는 조건을 추가한다면 ?\n",
    "\n",
    "p=re.compile('.*[.](?!bat$|exe$).*$')\n",
    "file_list = ['great.py','great.bat', 'great.bats', 'great.exe', 'great.ipynb'] \n",
    "for file in file_list:\n",
    "    m = p.search(file)\n",
    "    try:\n",
    "        print(m.group())\n",
    "    except:\n",
    "        print('bat 혹은 exe 입니다')"
   ]
  },
  {
   "cell_type": "markdown",
   "metadata": {},
   "source": [
    "문자열 바꾸기 : sub 매서드를 사용하면 정규식과 매치되는 부분을 다른 문자로 쉽게 바꿀 수 있음 "
   ]
  },
  {
   "cell_type": "code",
   "execution_count": 11,
   "metadata": {},
   "outputs": [
    {
     "name": "stdout",
     "output_type": "stream",
     "text": [
      "colour socks and colour shoes\n",
      "colour socks and red shoes\n",
      "('colour socks and colour shoes', 2)\n"
     ]
    }
   ],
   "source": [
    "# sub 메서드의 첫번째 인수는 '바꿀' 문자열이고, 두번째 인수는 '대상' 문자열이 된다. \n",
    "\n",
    "p = re.compile('(blue|white|red)')\n",
    "print(p.sub('colour', 'blue socks and red shoes'))\n",
    "print(p.sub('colour', 'blue socks and red shoes', count=1))  # count 는 바꾸기를 실행할 횟수를 의미함. \n",
    "print(p.subn('colour', 'blue socks and red shoes'))  # subn 메서드는 변경될 문자열과 변경 횟수를 튜플로 반환함 "
   ]
  },
  {
   "cell_type": "code",
   "execution_count": 12,
   "metadata": {},
   "outputs": [
    {
     "name": "stdout",
     "output_type": "stream",
     "text": [
      "010-2512-3860 song\n"
     ]
    },
    {
     "data": {
      "text/plain": [
       "'there are 1264 phones and 824 cups in the classroom'"
      ]
     },
     "execution_count": 12,
     "metadata": {},
     "output_type": "execute_result"
    }
   ],
   "source": [
    "# sub 메서드 사용 시 참조 구문 사용하기 \n",
    "p = re.compile(r'(?P<name>\\w+)\\s+(?P<phone>(\\d+)[-]\\d+[-]\\d+)')\n",
    "m = p.sub(r'\\g<phone> \\g<name>', 'song 010-2512-3860')  # group 의 순서를 바꿔주기 \n",
    "print(m)\n",
    "\n",
    "# sub 메서드의 매개변수로 함수를 넣기 \n",
    "\n",
    "def doublerepl(match):\n",
    "    value = int(match.group())\n",
    "    return str(value*2)\n",
    "\n",
    "p = re.compile(r'\\d+')\n",
    "p.sub(doublerepl, 'there are 632 phones and 412 cups in the classroom')"
   ]
  },
  {
   "cell_type": "code",
   "execution_count": null,
   "metadata": {},
   "outputs": [],
   "source": []
  }
 ],
 "metadata": {
  "kernelspec": {
   "display_name": "base",
   "language": "python",
   "name": "python3"
  },
  "language_info": {
   "codemirror_mode": {
    "name": "ipython",
    "version": 3
   },
   "file_extension": ".py",
   "mimetype": "text/x-python",
   "name": "python",
   "nbconvert_exporter": "python",
   "pygments_lexer": "ipython3",
   "version": "3.10.9"
  }
 },
 "nbformat": 4,
 "nbformat_minor": 2
}
