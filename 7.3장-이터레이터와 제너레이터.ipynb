{
 "cells": [
  {
   "cell_type": "markdown",
   "metadata": {},
   "source": [
    "이터레이터(iterator)란 ? 반복가능(iterable) 하면서 next 함수로 계속해서 그 다음값을 리턴하는 객체\n",
    "\n",
    "아래와 같이 반복가능하다고 해서 모두 next로 호출 가능한 이터레이터는 아니다. (리스트는 이터레이터 아님)\n",
    "하지만 반복가능하다면 iter 함수를 사용해 iterator로 만들어줄 수 있음"
   ]
  },
  {
   "cell_type": "code",
   "execution_count": 1,
   "metadata": {},
   "outputs": [
    {
     "name": "stdout",
     "output_type": "stream",
     "text": [
      "'list' object is not an iterator\n",
      "1 <class 'list_iterator'>\n"
     ]
    }
   ],
   "source": [
    "a = [1,2,3]\n",
    "\n",
    "try:\n",
    "    print(next(a))\n",
    "except TypeError as e:\n",
    "    print(e)\n",
    "\n",
    "iterator = iter(a)\n",
    "\n",
    "print(next(iterator), type(iterator))\n"
   ]
  },
  {
   "cell_type": "code",
   "execution_count": 3,
   "metadata": {},
   "outputs": [
    {
     "name": "stdout",
     "output_type": "stream",
     "text": [
      "1\n",
      "2\n",
      "3\n",
      "1\n",
      "2\n",
      "3\n",
      "리스트와 이터레이터의 차이?  [1, 2, 3] []\n"
     ]
    }
   ],
   "source": [
    "# iterator 로 만들면, for 나 next 로 한 번 읽으면 그 값을 다시 읽을 수 없다는 특징이 있다. \n",
    "\n",
    "a = [1,2,3]\n",
    "iterator = iter(a)\n",
    "\n",
    "for i in iterator:\n",
    "    print(i)\n",
    "\n",
    "for i in a:\n",
    "    print(i)\n",
    "\n",
    "print(\"리스트와 이터레이터의 차이? \", a, list(iterator))"
   ]
  },
  {
   "cell_type": "code",
   "execution_count": 4,
   "metadata": {},
   "outputs": [
    {
     "name": "stdout",
     "output_type": "stream",
     "text": [
      "s 1\n",
      "2\n",
      "3\n",
      "3\n",
      "2\n",
      "1\n"
     ]
    }
   ],
   "source": [
    "# 클래스로 이터레이터를 만들기 (iter 함수가 아닌..)\n",
    "\n",
    "class MyIterator:\n",
    "    def __init__(self,data):\n",
    "        self.data = data \n",
    "        self.position = 0\n",
    "\n",
    "    def __iter__(self):   # __iter__ 매서드는 해당 클래스로 생성한 객체가 반복가능하도록 만들어줌\n",
    "        return self\n",
    "    \n",
    "    def __next__(self):   # __next__ 는 __iter__ 와 세트로 반드시 같이 만들어줘야함. next 메서드는 for 나 next 함수 호출 시 수행됨 \n",
    "        if self.position >= len(self.data):\n",
    "            raise StopIteration    # data 의 길이가 0 이 되면 오류발생\n",
    "        result = self.data[self.position]\n",
    "        self.position += 1 \n",
    "        return result \n",
    "\n",
    "i = MyIterator([1,2,3])\n",
    "print(\"s\", next(i))\n",
    "for item in i:\n",
    "    print(item)\n",
    "\n",
    "\n",
    "\n",
    "# 거꾸로 출력되는 iterator 만들기 \n",
    "\n",
    "class ReverseIterator:\n",
    "    def __init__(self,data):\n",
    "        self.data = data \n",
    "        self.position = len(self.data)-1\n",
    "\n",
    "    def __iter__(self):   # __iter__ 매서드는 해당 클래스로 생성한 객체가 반복가능하도록 만들어줌\n",
    "        return self\n",
    "    \n",
    "    def __next__(self):   # __next__ 는 __iter__ 와 세트로 반드시 같이 만들어줘야함. next 메서드는 for 나 next 함수 호출 시 수행됨 \n",
    "        if self.position < 0:\n",
    "            raise StopIteration    # data 의 길이가 0 이 되면 오류발생\n",
    "        result = self.data[self.position]\n",
    "        self.position -= 1 \n",
    "        return result \n",
    "    \n",
    "i = ReverseIterator([1,2,3])\n",
    "for item in i:\n",
    "    print(item)"
   ]
  },
  {
   "cell_type": "markdown",
   "metadata": {},
   "source": [
    "제너레이터(generator)란 ? 이터레이터를 생성해주는 함수. 제너레이터에서는 차례대로 결과를 반환하고자 return 대신 yeild 를 사용한다. "
   ]
  },
  {
   "cell_type": "code",
   "execution_count": 7,
   "metadata": {},
   "outputs": [
    {
     "name": "stdout",
     "output_type": "stream",
     "text": [
      "<class 'generator'> a\n",
      "b\n",
      "c\n",
      "d\n"
     ]
    }
   ],
   "source": [
    "def mygen():\n",
    "    yield 'a'\n",
    "    yield 'b'\n",
    "    yield 'c'\n",
    "    yield 'd'\n",
    "\n",
    "gen = mygen()\n",
    "print(type(gen), next(gen))\n",
    "\n",
    "for g in gen:\n",
    "    print(g)"
   ]
  },
  {
   "cell_type": "code",
   "execution_count": 12,
   "metadata": {},
   "outputs": [
    {
     "name": "stdout",
     "output_type": "stream",
     "text": [
      "<class 'generator'>\n"
     ]
    }
   ],
   "source": [
    "def mygen():\n",
    "    for i in range(1,100):\n",
    "        result = i*i\n",
    "        yield result\n",
    "\n",
    "# 아래와 같이 위 함수와 똑같은 기능으로 제너레이터를 만들 수 있다. (리스트 컴프리헨션의 튜플 버전으로 보면됨)\n",
    "# 아래와 같은 표현식을 제너레이터 표현식(generator expression) 이라고 부른다. \n",
    "\n",
    "gen = (i*i for i in range(1,100))\n",
    "print(type(gen))"
   ]
  },
  {
   "cell_type": "code",
   "execution_count": 15,
   "metadata": {},
   "outputs": [
    {
     "name": "stdout",
     "output_type": "stream",
     "text": [
      "1\n",
      "4\n",
      "9\n",
      "16\n",
      "25\n",
      "36\n",
      "49\n"
     ]
    }
   ],
   "source": [
    "gen1 = mygen()\n",
    "\n",
    "for g in gen1:\n",
    "    if g > 50:\n",
    "        break\n",
    "    print(g)\n"
   ]
  },
  {
   "cell_type": "markdown",
   "metadata": {},
   "source": [
    "★ 간단한 이터레이터를 만들떄는 제너레이터를 사용하는게 쉽고, 가독성도 좋다. 복잡한 경우는 클래스를 이용한 이터레이터를 작성하는게 좋다 \n",
    "이터레이터나 제너레이터 모두 뭔가 반복되는 데이터를 만들고 싶을때 사용한다. "
   ]
  },
  {
   "cell_type": "code",
   "execution_count": 23,
   "metadata": {},
   "outputs": [
    {
     "name": "stdout",
     "output_type": "stream",
     "text": [
      "job start\n",
      "job start\n",
      "job start\n",
      "['done', 'done', 'done']\n",
      "job start\n",
      "done\n"
     ]
    }
   ],
   "source": [
    "# 제너레이터 활용하기 \n",
    "\n",
    "import time \n",
    "\n",
    "def longtime_job():\n",
    "    print('job start')\n",
    "    time.sleep(1)\n",
    "    return 'done'\n",
    "\n",
    "list_job = [longtime_job() for i in range(3)]\n",
    "print(list_job)\n",
    "\n",
    "# 위의 예제에 제너레이터를 적용해보자 \n",
    "\n",
    "list_job = (longtime_job() for i in range(3))\n",
    "# 위에 실행하면 longtime_job 함수가 실제로 실행되지 않고 실행 대기만 한다. 실제 실행하려면 next로 하나씩 불러오던가 for 써야함\n",
    "# 즉, 제너레이터는 시간이 오래걸리는 작업을 한번에 처리하기보다 필요한 경우 필요한 만큼 호출하여 사용할때 매우 유용하다. \n",
    "print(next(list_job))\n",
    "\n",
    "# 위에 두가지 케이스는 리스트 컴프리헨션과 제너레이터 표현식의 차이 "
   ]
  },
  {
   "cell_type": "code",
   "execution_count": null,
   "metadata": {},
   "outputs": [],
   "source": []
  }
 ],
 "metadata": {
  "kernelspec": {
   "display_name": "base",
   "language": "python",
   "name": "python3"
  },
  "language_info": {
   "codemirror_mode": {
    "name": "ipython",
    "version": 3
   },
   "file_extension": ".py",
   "mimetype": "text/x-python",
   "name": "python",
   "nbconvert_exporter": "python",
   "pygments_lexer": "ipython3",
   "version": "3.10.9"
  }
 },
 "nbformat": 4,
 "nbformat_minor": 2
}
