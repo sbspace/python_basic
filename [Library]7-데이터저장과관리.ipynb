{
 "cells": [
  {
   "cell_type": "markdown",
   "metadata": {},
   "source": [
    "규칙이 있는 데이터(객체)를 형식을 유지하며 파일로 저장하고 불러오기. "
   ]
  },
  {
   "cell_type": "code",
   "execution_count": 1,
   "metadata": {},
   "outputs": [
    {
     "name": "stdout",
     "output_type": "stream",
     "text": [
      "{1: {'no': 1, 'subject': '안녕 피클', 'content': '피클은 매우 간단합니다'}} <class 'dict'> <class 'dict'>\n"
     ]
    }
   ],
   "source": [
    "import pickle \n",
    "\n",
    "data = {}\n",
    "data[1] = {'no':1, 'subject': '안녕 피클', 'content': '피클은 매우 간단합니다'}\n",
    "print(data, type(data), type(data[1]))"
   ]
  },
  {
   "cell_type": "code",
   "execution_count": 24,
   "metadata": {},
   "outputs": [],
   "source": [
    "# 딕셔너리 데이터를 피클로 저장하기\n",
    "\n",
    "with open('data.p', 'wb') as f:  # 저장할 데이터가 바이너리 이므로 w 가 아닌 wb로 열어야함 // 피클은 클래스,딕셔너리 등 객체를 저장하기에 바이너리 버전으로.. \n",
    "    pickle.dump(data, f)   # data 를 data.p 라는 피클파일에 저장"
   ]
  },
  {
   "cell_type": "code",
   "execution_count": 27,
   "metadata": {},
   "outputs": [
    {
     "name": "stdout",
     "output_type": "stream",
     "text": [
      "{1: {'no': 1, 'subject': '안녕 피클', 'content': '피클은 매우 간단합니다'}, 2: {'no': 2, 'subject': '안녕못해 피클', 'content': '피클은 매우 안 간단합니다.'}}\n"
     ]
    }
   ],
   "source": [
    "with open('data.p', 'rb') as f:\n",
    "    datap = pickle.load(f)\n",
    "\n",
    "print(datap)"
   ]
  },
  {
   "cell_type": "code",
   "execution_count": 4,
   "metadata": {},
   "outputs": [
    {
     "name": "stdout",
     "output_type": "stream",
     "text": [
      "2\n",
      "안녕못해 피클\n",
      "피클은 매우 안 간단합니다.\n"
     ]
    }
   ],
   "source": [
    "def get_all_data():\n",
    "    try:\n",
    "        with open(\"data.p\", 'rb') as f:\n",
    "            return pickle.load(f)\n",
    "    except FileNotFoundError:\n",
    "        return {}\n",
    "\n",
    "def add_data(no, subject, content):\n",
    "    data = get_all_data()\n",
    "    assert no not in data\n",
    "    data[no] = {'no': no, 'subject': subject, 'content': content}\n",
    "    with open('data.p', 'wb') as f:\n",
    "        pickle.dump(data, f)\n",
    "\n",
    "def get_data(no):\n",
    "    data = get_all_data()\n",
    "    return data[no]\n",
    "\n",
    "# 데이터저장\n",
    "add_data(3, '안녕못해 피클', '피클은 매우 안 간단합니다.')\n",
    "\n",
    "# 데이터조회\n",
    "data = get_data(2)\n",
    "print(data['no'])\n",
    "print(data['subject'])\n",
    "print(data['content'])\n"
   ]
  },
  {
   "cell_type": "code",
   "execution_count": 34,
   "metadata": {},
   "outputs": [
    {
     "data": {
      "text/plain": [
       "{1, 2, 3, 4, 5}"
      ]
     },
     "execution_count": 34,
     "metadata": {},
     "output_type": "execute_result"
    }
   ],
   "source": [
    "# 딕셔너리를 파일로 저장하는 모듈 shelve. 피클의 하위개념. 딕셔너리만 저장할 수 있는 모듈\n",
    "\n",
    "import shelve\n",
    "\n",
    "def save(key, value):\n",
    "    with shelve.open('shelve.dat') as d:\n",
    "        d[key] = value\n",
    "\n",
    "def get(key):\n",
    "    with shelve.open('shelve.dat') as d:\n",
    "        return d[key]\n",
    "    \n",
    "save('number', {1,2,3,4,5})\n",
    "get('number')"
   ]
  }
 ],
 "metadata": {
  "kernelspec": {
   "display_name": "base",
   "language": "python",
   "name": "python3"
  },
  "language_info": {
   "codemirror_mode": {
    "name": "ipython",
    "version": 3
   },
   "file_extension": ".py",
   "mimetype": "text/x-python",
   "name": "python",
   "nbconvert_exporter": "python",
   "pygments_lexer": "ipython3",
   "version": "3.9.5"
  }
 },
 "nbformat": 4,
 "nbformat_minor": 2
}
