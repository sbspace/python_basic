{
 "cells": [
  {
   "cell_type": "markdown",
   "metadata": {},
   "source": [
    "파이썬은 프로그램 실행중에 변수의 타입을 동적으로 바꿀 수 있기 때문에 '동적 프로그래밍 언어' 라고 불린다."
   ]
  },
  {
   "cell_type": "code",
   "execution_count": 1,
   "metadata": {},
   "outputs": [
    {
     "name": "stdout",
     "output_type": "stream",
     "text": [
      "<class 'int'>\n",
      "<class 'str'>\n"
     ]
    }
   ],
   "source": [
    "a = 1\n",
    "print(type(a))\n",
    "a = '1'\n",
    "print(type(a))"
   ]
  },
  {
   "cell_type": "markdown",
   "metadata": {},
   "source": [
    "자바는 한번 변수에 타입 지정하면, 다른 타입은 대입할 수 없음\n",
    "장단점이 있는데, 파이썬은 유연한 프로그램이 가능한 대신 타입 잘못 사용해 버그 발생가능 \n",
    "이러한 단점 보완하고자 -> 타입 어노테이션 (타입에 대한 힌트를 알려주는 정도의 기능)"
   ]
  },
  {
   "cell_type": "code",
   "execution_count": 3,
   "metadata": {},
   "outputs": [
    {
     "name": "stdout",
     "output_type": "stream",
     "text": [
      "1 <class 'int'>\n",
      "7.15 <class 'float'>\n"
     ]
    }
   ],
   "source": [
    "num : int =1     # 말그대로 어노테이션일 뿐... 1대신 1.3 을 넣으면 num 변수는 float가 된다. \n",
    "print(num, type(num))  \n",
    "\n",
    "def add(a: int, b: int) -> int:\n",
    "    return a+b\n",
    "\n",
    "result = add(3,4.15)\n",
    "print(result, type(result))\n"
   ]
  }
 ],
 "metadata": {
  "kernelspec": {
   "display_name": "base",
   "language": "python",
   "name": "python3"
  },
  "language_info": {
   "codemirror_mode": {
    "name": "ipython",
    "version": 3
   },
   "file_extension": ".py",
   "mimetype": "text/x-python",
   "name": "python",
   "nbconvert_exporter": "python",
   "pygments_lexer": "ipython3",
   "version": "3.10.9"
  }
 },
 "nbformat": 4,
 "nbformat_minor": 2
}
