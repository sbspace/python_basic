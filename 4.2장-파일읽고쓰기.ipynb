{
 "cells": [
  {
   "cell_type": "markdown",
   "metadata": {},
   "source": [
    "파이썬을 이용한 입력과 출력을 크게 3가지 방식이다. \n",
    "1. 화면에 직접 입력(input) 하고 출력(print)받는 방법, \n",
    "2. 파일을 새로 만들어서 입력하고(=쓰고) 출력(=읽기)하는 방법\n",
    "3. 프로그램에서 입력과 출력을 하는 방법"
   ]
  },
  {
   "cell_type": "code",
   "execution_count": 1,
   "metadata": {},
   "outputs": [
    {
     "name": "stdout",
     "output_type": "stream",
     "text": [
      "32 <class 'str'>\n",
      "33 <class 'int'>\n"
     ]
    }
   ],
   "source": [
    "#사용자 입력 : input 함수는 입력값을 '문자열'로 저장함 \n",
    "age = input('나이를 입력하세요 : ')\n",
    "print(age, type(age))\n",
    "\n",
    "age_int = int(input('나이:'))\n",
    "print(age_int, type(age_int))"
   ]
  },
  {
   "cell_type": "code",
   "execution_count": 2,
   "metadata": {},
   "outputs": [],
   "source": [
    "### 1.파일의 쓰기 \n",
    "f = open(\"새파일.txt\", 'w')\n",
    "# 파일명이 기존에 없는 파일이면 새로생성,  r/w/a 는 각각 읽기/쓰기/추가 모드 \n",
    "# ★w 모드로 기존 파일을 open 하면 기존에 있는 내용 모두 사라지고 새로생김 // a 모드로 오픈하면 추가해서 작성 \n",
    "# 현재 디렉토리와 다른 경로에 생성하고싶다면 open(\"G:/내 드라이브/Research/0527새파일.txt\", 'w') 와 같은 형식으로 만들어야함\n",
    "# 경로를 표시할떄는 가급적 / 로 사용, \\는 \\\\로 두개씩 사용해야함 \n",
    "\n",
    "for i in range(1,4):\n",
    "    f.write(f'{i}번쨰 줄입니다. \\n')\n",
    "\n",
    "f.close()"
   ]
  },
  {
   "cell_type": "code",
   "execution_count": 3,
   "metadata": {},
   "outputs": [
    {
     "name": "stdout",
     "output_type": "stream",
     "text": [
      "1번쨰 줄입니다.\n",
      "2번쨰 줄입니다. \n",
      "\n"
     ]
    }
   ],
   "source": [
    "### 2.파일의 읽기\n",
    "# readline() : 첫번째 줄 읽기\n",
    "f = open(\"새파일.txt\", 'r')\n",
    "line = f.readline()\n",
    "line1 = f.readline()  # readline() 하면 읽고 커서가 다음 줄로 넘어감. \n",
    "print(line.strip()) \n",
    "print(line1)\n",
    "f.close()"
   ]
  },
  {
   "cell_type": "code",
   "execution_count": 4,
   "metadata": {},
   "outputs": [
    {
     "name": "stdout",
     "output_type": "stream",
     "text": [
      "1번쨰 줄입니다.\n",
      "2번쨰 줄입니다.\n",
      "3번쨰 줄입니다.\n",
      "4번째 줄입니다.\n",
      "5번째 줄입니다.\n",
      "6번째 줄입니다.\n"
     ]
    }
   ],
   "source": [
    "# readline() 으로 모든 줄 읽기 \n",
    "f = open(\"새파일.txt\", 'r')\n",
    "while True:  # 무한루프 \n",
    "    line = f.readline()\n",
    "    if not line: break \n",
    "    print(line.strip()) # .strip 함수를 사용하면 줄바꿈 문자를 제거할 수 있음 \n",
    "f.close()"
   ]
  },
  {
   "cell_type": "code",
   "execution_count": 5,
   "metadata": {},
   "outputs": [
    {
     "name": "stdout",
     "output_type": "stream",
     "text": [
      "['1번쨰 줄입니다. \\n', '2번쨰 줄입니다. \\n', '3번쨰 줄입니다. \\n'] <class 'list'>\n",
      "1번쨰 줄입니다.\n",
      "2번쨰 줄입니다.\n",
      "3번쨰 줄입니다.\n"
     ]
    }
   ],
   "source": [
    "# readlines() 로 각 줄을 리스트로 반환받기 \n",
    "f = open(\"새파일.txt\", 'r')\n",
    "lines = f.readlines()\n",
    "print(lines, type(lines))\n",
    "for line in lines:\n",
    "    print(line.strip()) # .strip 함수를 사용하면 줄바꿈 문자를 제거할 수 있음 "
   ]
  },
  {
   "cell_type": "code",
   "execution_count": 6,
   "metadata": {},
   "outputs": [
    {
     "name": "stdout",
     "output_type": "stream",
     "text": [
      "1번쨰 줄입니다. \n",
      "2번쨰 줄입니다. \n",
      "3번쨰 줄입니다. \n",
      "\n"
     ]
    }
   ],
   "source": [
    "# read() 로 읽기\n",
    "f = open(\"새파일.txt\", \"r\")\n",
    "data = f.read()\n",
    "print(data)\n",
    "f.close()"
   ]
  },
  {
   "cell_type": "code",
   "execution_count": 7,
   "metadata": {},
   "outputs": [
    {
     "name": "stdout",
     "output_type": "stream",
     "text": [
      "1번쨰 줄입니다. \n",
      "2번쨰 줄입니다. \n",
      "3번쨰 줄입니다. \n",
      "4번째 줄입니다.\n",
      "5번째 줄입니다.\n",
      "6번째 줄입니다.\n",
      "\n"
     ]
    }
   ],
   "source": [
    "### 3.파일에 새로운 내용 추가하기 \n",
    "f = open(\"새파일.txt\", \"a\")\n",
    "for i in range(4,7):\n",
    "    f.write(f'{i}번째 줄입니다.\\n')\n",
    "f.close()\n",
    "\n",
    "f = open(\"새파일.txt\", \"r\")\n",
    "print(f.read())"
   ]
  },
  {
   "cell_type": "code",
   "execution_count": 12,
   "metadata": {},
   "outputs": [
    {
     "name": "stdout",
     "output_type": "stream",
     "text": [
      "make new file\n",
      "\n",
      "[]\n"
     ]
    }
   ],
   "source": [
    "# with문: 파일을 열고 닫기 귀찮을때 한번에 해줌\n",
    "# 파일 close 하는거 잘 까먹으니 웬만하면 with 로 파일열어라 \n",
    "\n",
    "with open('새파일2.txt','w') as f:\n",
    "    f.write(\"make new file\")\n",
    "\n",
    "with open('새파일2.txt','r') as f:\n",
    "    print(f.read(), f.readline(), f.readlines(), sep='\\n')"
   ]
  }
 ],
 "metadata": {
  "kernelspec": {
   "display_name": "Python 3",
   "language": "python",
   "name": "python3"
  },
  "language_info": {
   "codemirror_mode": {
    "name": "ipython",
    "version": 3
   },
   "file_extension": ".py",
   "mimetype": "text/x-python",
   "name": "python",
   "nbconvert_exporter": "python",
   "pygments_lexer": "ipython3",
   "version": "3.9.7"
  }
 },
 "nbformat": 4,
 "nbformat_minor": 2
}
