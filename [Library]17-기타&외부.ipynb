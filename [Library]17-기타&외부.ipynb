{
 "cells": [
  {
   "cell_type": "code",
   "execution_count": null,
   "metadata": {},
   "outputs": [],
   "source": [
    "# 매개변수를 전달하여 실행하기 \n",
    "\n",
    "''' \n",
    "python 명령어 뒤에 전달한 모든 문자열은 공백을 기준으로 나뉘어 sys.argv 리스트의 요소가됨. \n",
    "프롬프트에 python argv_upper.py life is too short. you need python. 명령하면, \n",
    "sys.argv 리스트에 다음과 같이 저장됨 : ['argv_upper.py', 'life', 'is', 'too', 'short.', 'you', 'need', 'python.']\n",
    "\n",
    "'''"
   ]
  },
  {
   "cell_type": "code",
   "execution_count": null,
   "metadata": {},
   "outputs": [
    {
     "name": "stdout",
     "output_type": "stream",
     "text": [
      "오류가 발생했습니다.\n",
      "Traceback (most recent call last):\n",
      "  File \"C:\\Users\\bmseo\\AppData\\Local\\Temp\\ipykernel_153052\\1857104085.py\", line 13, in main\n",
      "    b()\n",
      "  File \"C:\\Users\\bmseo\\AppData\\Local\\Temp\\ipykernel_153052\\1857104085.py\", line 9, in b\n",
      "    return a()\n",
      "  File \"C:\\Users\\bmseo\\AppData\\Local\\Temp\\ipykernel_153052\\1857104085.py\", line 6, in a\n",
      "    return 1/0\n",
      "ZeroDivisionError: division by zero\n",
      "\n"
     ]
    }
   ],
   "source": [
    "# 오류의 위치추적. \n",
    "\n",
    "import traceback\n",
    "\n",
    "def a():\n",
    "    return 1/0\n",
    "\n",
    "def b():\n",
    "    return a()\n",
    "\n",
    "def main():\n",
    "    try:\n",
    "        b()\n",
    "    except:\n",
    "        print(\"오류가 발생했습니다.\")\n",
    "        print(traceback.format_exc())  # 오류추적 결과를 문자열로 반환해주는 함수. \n",
    "\n",
    "main()"
   ]
  },
  {
   "cell_type": "code",
   "execution_count": null,
   "metadata": {},
   "outputs": [],
   "source": [
    "# 패키지의 설치와 관리. \n",
    "# 패키지 버전 맞추기 \n",
    "\n",
    "'''\n",
    "pip freeze > requirements.txt  로 패키지 리스트와 버전 텍스트 파일로 저장하고 \n",
    "pip install -r requirements.txt 로 받아서 맞추기\n",
    "\n",
    "'''"
   ]
  },
  {
   "cell_type": "code",
   "execution_count": null,
   "metadata": {},
   "outputs": [
    {
     "name": "stdout",
     "output_type": "stream",
     "text": [
      "{'userId': 1, 'id': 1, 'title': 'sunt aut facere repellat provident occaecati excepturi optio reprehenderit', 'body': 'quia et suscipit\\nsuscipit recusandae consequuntur expedita et cum\\nreprehenderit molestiae ut ut quas totam\\nnostrum rerum est autem sunt rem eveniet architecto'}\n",
      "200\n",
      "{\n",
      "  \"userId\": 1,\n",
      "  \"id\": 1,\n",
      "  \"title\": \"sunt aut facere repellat provident occaecati excepturi optio reprehenderit\",\n",
      "  \"body\": \"quia et suscipit\\nsuscipit recusandae consequuntur expedita et cum\\nreprehenderit molestiae ut ut quas totam\\nnostrum rerum est autem sunt rem eveniet architecto\"\n",
      "}\n",
      "{'body': 'quia et suscipit\\n'\n",
      "         'suscipit recusandae consequuntur expedita et cum\\n'\n",
      "         'reprehenderit molestiae ut ut quas totam\\n'\n",
      "         'nostrum rerum est autem sunt rem eveniet architecto',\n",
      " 'id': 1,\n",
      " 'title': 'sunt aut facere repellat provident occaecati excepturi optio '\n",
      "          'reprehenderit',\n",
      " 'userId': 1}\n"
     ]
    }
   ],
   "source": [
    "# requests : (HTTP 클라이언트 라이브러리. HTTP 메서드를 테스트하기 위함) API 통신, 웹 페이지 요청 등 외부 데이터를 가져올 때\n",
    "# REST API란? 인터넷에 있는 컴퓨터(서버)와 대화하는 주소와 규칙의 모음. \n",
    "# GET 메서드를 통한 게시물 조회\n",
    "import requests\n",
    "import pprint\n",
    "\n",
    "url = 'https://jsonplaceholder.typicode.com/posts/1'   # REST API \n",
    "res = requests.get(url)   # GET 이 HTTP 의 메서드\n",
    "print(res.json())\n",
    "print(res.status_code)\n",
    "print(res.text)\n",
    "pprint.pprint(res.json())"
   ]
  },
  {
   "cell_type": "code",
   "execution_count": 15,
   "metadata": {},
   "outputs": [
    {
     "name": "stdout",
     "output_type": "stream",
     "text": [
      "[{'body': 'quia et suscipit\\n'\n",
      "          'suscipit recusandae consequuntur expedita et cum\\n'\n",
      "          'reprehenderit molestiae ut ut quas totam\\n'\n",
      "          'nostrum rerum est autem sunt rem eveniet architecto',\n",
      "  'id': 1,\n",
      "  'title': 'sunt aut facere repellat provident occaecati excepturi optio '\n",
      "           'reprehenderit',\n",
      "  'userId': 1}]\n"
     ]
    }
   ],
   "source": [
    "# id 에 상관없이 모든 게시물 데이터 확인 \n",
    "\n",
    "url = 'https://jsonplaceholder.typicode.com/posts' \n",
    "res = requests.get(url)\n",
    "# pprint.pprint(res.json())\n",
    "\n",
    "# 특정 id 에 해당하는 게시물만 확인\n",
    "params = {'id' : 1}\n",
    "res = requests.get(url, params=params)\n",
    "pprint.pprint(res.json())\n"
   ]
  },
  {
   "cell_type": "code",
   "execution_count": null,
   "metadata": {},
   "outputs": [
    {
     "name": "stdout",
     "output_type": "stream",
     "text": [
      "{'body': 'bar', 'id': 101, 'title': 'foo', 'userId': 1}\n"
     ]
    }
   ],
   "source": [
    "# 게시물 저장(POST) : 신규 데이터의 포스팅\n",
    "# 헤더는 딕셔너리로 전달하면 되지만, 데이터는 JSON 형태의 문자열로 전달해야함 \n",
    "\n",
    "import json\n",
    "\n",
    "url = 'https://jsonplaceholder.typicode.com/posts'\n",
    "headers = {'Content-type': 'application/json; charset=utf-8'}\n",
    "data = {\n",
    "    'title': 'foo',\n",
    "    'body': 'bar',\n",
    "    'userId': 1,\n",
    "}\n",
    "\n",
    "res = requests.post(url, headers=headers, data=json.dumps(data))  # jsonplaceholder 는 테스트용 가짜 API 라 실제로 101번째 데이터가 추가되진 않음..\n",
    "pprint.pprint(res.json())  "
   ]
  },
  {
   "cell_type": "code",
   "execution_count": null,
   "metadata": {},
   "outputs": [
    {
     "name": "stdout",
     "output_type": "stream",
     "text": [
      "{'body': '내용을 수정', 'id': 1, 'title': '제목을 수정', 'userId': 1}\n",
      "{'body': 'quia et suscipit\\n'\n",
      "         'suscipit recusandae consequuntur expedita et cum\\n'\n",
      "         'reprehenderit molestiae ut ut quas totam\\n'\n",
      "         'nostrum rerum est autem sunt rem eveniet architecto',\n",
      " 'id': 1,\n",
      " 'title': 'foo',\n",
      " 'userId': 1}\n"
     ]
    }
   ],
   "source": [
    "# 게시물 수정(PUT) : 데이터의 모든 속성값을 전달해야함. \n",
    "\n",
    "url = 'https://jsonplaceholder.typicode.com/posts/1'\n",
    "headers = {'Content-type': 'application/json; charset=utf-8'}\n",
    "data = {\n",
    "    'id': 1,\n",
    "    'title': '제목을 수정',\n",
    "    'body': '내용을 수정',\n",
    "    'userId': 1,\n",
    "}\n",
    "res = requests.put(url, headers=headers, data=json.dumps(data))\n",
    "pprint.pprint(res.json())\n",
    "\n",
    "# 게시물 일부 수정(PATCH) : 데이터의 수정하려는 속성값만 전달해도됨. \n",
    "\n",
    "url = 'https://jsonplaceholder.typicode.com/posts/1'\n",
    "headers = {'Content-type': 'application/json; charset=utf-8'}\n",
    "data = {\n",
    "    'title': 'foo',\n",
    "}\n",
    "res = requests.patch(url, headers=headers, data=json.dumps(data))\n",
    "pprint.pprint(res.json())\n"
   ]
  },
  {
   "cell_type": "code",
   "execution_count": 28,
   "metadata": {},
   "outputs": [
    {
     "name": "stdout",
     "output_type": "stream",
     "text": [
      "{}\n"
     ]
    }
   ],
   "source": [
    "# 게시물 삭제(DELETE) \n",
    "\n",
    "url = 'https://jsonplaceholder.typicode.com/posts/1'\n",
    "res = requests.delete(url)\n",
    "pprint.pprint(res.json())"
   ]
  },
  {
   "cell_type": "code",
   "execution_count": null,
   "metadata": {},
   "outputs": [],
   "source": []
  }
 ],
 "metadata": {
  "kernelspec": {
   "display_name": "base",
   "language": "python",
   "name": "python3"
  },
  "language_info": {
   "codemirror_mode": {
    "name": "ipython",
    "version": 3
   },
   "file_extension": ".py",
   "mimetype": "text/x-python",
   "name": "python",
   "nbconvert_exporter": "python",
   "pygments_lexer": "ipython3",
   "version": "3.10.9"
  }
 },
 "nbformat": 4,
 "nbformat_minor": 2
}
