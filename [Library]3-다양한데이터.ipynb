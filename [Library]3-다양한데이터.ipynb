{
 "cells": [
  {
   "cell_type": "markdown",
   "metadata": {},
   "source": [
    "날짜, 요일과 관련된 datetime, calender 모듈\n",
    "튜플과 딕셔너리를 특별하게 만들어 주는 collection 모듈 \n",
    "데이터를 보기 좋게 출력하는 pprint 모듈 "
   ]
  },
  {
   "cell_type": "code",
   "execution_count": 1,
   "metadata": {},
   "outputs": [
    {
     "name": "stdout",
     "output_type": "stream",
     "text": [
      "1231 days, 0:00:00\n",
      "1232\n"
     ]
    }
   ],
   "source": [
    "import datetime\n",
    "\n",
    "day1 = datetime.date(2021,8,17)\n",
    "day2 = datetime.date(2024,12,30)\n",
    "delta = day2-day1\n",
    "print(delta, delta.days + 1, sep='\\n')"
   ]
  },
  {
   "cell_type": "code",
   "execution_count": 6,
   "metadata": {},
   "outputs": [
    {
     "name": "stdout",
     "output_type": "stream",
     "text": [
      "2020-12-01 10:59:30\t10\t1\t12\n",
      "30 59\n",
      "1 2\n"
     ]
    }
   ],
   "source": [
    "day3 = datetime.datetime(2020,12,1,10,59,30)\n",
    "print(day3, day3.hour, day3.day, day3.month, sep='\\t')\n",
    "print(day3.second, day3.minute)\n",
    "print(day3.weekday(), day3.isoweekday())"
   ]
  },
  {
   "cell_type": "code",
   "execution_count": 9,
   "metadata": {},
   "outputs": [
    {
     "name": "stdout",
     "output_type": "stream",
     "text": [
      "2024-12-30\n",
      "100 days, 10:00:00\n",
      "2025-04-09\n",
      "2025-04-09 20:38:38.965780\n"
     ]
    }
   ],
   "source": [
    "today = datetime.date.today()\n",
    "now = datetime.datetime.now()\n",
    "diff_days = datetime.timedelta(days=100, hours=10)\n",
    "print(today, diff_days, today + diff_days, now + diff_days, sep='\\n')"
   ]
  },
  {
   "cell_type": "code",
   "execution_count": 10,
   "metadata": {},
   "outputs": [
    {
     "name": "stdout",
     "output_type": "stream",
     "text": [
      "2025-01-01 12:39:44.961391\n"
     ]
    }
   ],
   "source": [
    "print(datetime.datetime.now() + datetime.timedelta(hours=50))"
   ]
  },
  {
   "cell_type": "markdown",
   "metadata": {},
   "source": [
    "collections 모듈의 deque 는 앞/뒤에서 데이터를 처리할 수 있는 양방향 자료형"
   ]
  },
  {
   "cell_type": "code",
   "execution_count": 4,
   "metadata": {},
   "outputs": [
    {
     "name": "stdout",
     "output_type": "stream",
     "text": [
      "(4, 5, 1, 2, 3) deque([4, 5, 1, 2, 3])\n",
      "deque([1, 2, 3, 4, 5])\n"
     ]
    }
   ],
   "source": [
    "from collections import deque\n",
    "\n",
    "a = (1,2,3,4,5)\n",
    "q = deque(a)  # 리스트를 데크 자료형으로.. \n",
    "q.rotate(2)\n",
    "result = tuple(q)\n",
    "\n",
    "print(result, q)\n",
    "\n",
    "q.rotate(-2)\n",
    "print(q)"
   ]
  },
  {
   "cell_type": "code",
   "execution_count": 6,
   "metadata": {},
   "outputs": [
    {
     "name": "stdout",
     "output_type": "stream",
     "text": [
      "deque([1, 2, 3, 4, 5, 6])\n",
      "deque([0, 1, 2, 3, 4, 5, 6])\n",
      "deque([0, 1, 2, 3, 4, 5])\n",
      "deque([1, 2, 3, 4, 5])\n"
     ]
    }
   ],
   "source": [
    "# 데크는 리스트와 유사한 메서드들을 사용 가능\n",
    "d = deque([1,2,3,4,5])\n",
    "d.append(6)\n",
    "print(d)\n",
    "d.appendleft(0)\n",
    "print(d)\n",
    "d.pop()\n",
    "print(d)\n",
    "d.popleft()\n",
    "print(d)"
   ]
  },
  {
   "cell_type": "markdown",
   "metadata": {},
   "source": [
    "튜플은 인덱스를 통해 데이터에 접근하지만, 네임드 튜플은 인덱스뿐 아니라 키(key)로 접근이 가능"
   ]
  },
  {
   "cell_type": "code",
   "execution_count": 6,
   "metadata": {},
   "outputs": [
    {
     "name": "stdout",
     "output_type": "stream",
     "text": [
      "<class '__main__.empolyee'> <class 'type'>\n"
     ]
    }
   ],
   "source": [
    "from collections import namedtuple\n",
    "\n",
    "data = [\n",
    "    ('송범석', 32, '01025123860'),\n",
    "    ('정양숙', 62, '01076593860'),\n",
    "    ('송재성', 66, '01053024436'),\n",
    "]\n",
    "\n",
    "Employee = namedtuple('empolyee', 'name, age, cellphone') # Employee 라는 namedtuple 자료형 생성\n",
    "\n",
    "print(Employee, type(Employee))\n",
    "\n",
    "# data의 각 요소들을 tuple → namedtuple 자료형으로 변환. \n",
    "# 아래 두개 줄은 동일한 과정. _make() 를 이용해서 더 간편하게 만들 수 있음\n",
    "data_ = [Employee(emp[0], emp[1], emp[2]) for emp in data]\n",
    "data__ = [Employee._make(emp) for emp in data] "
   ]
  },
  {
   "cell_type": "code",
   "execution_count": 20,
   "metadata": {},
   "outputs": [
    {
     "data": {
      "text/plain": [
       "[empolyee(name='송범석', age=32, cellphone='01025123860'),\n",
       " empolyee(name='정양숙', age=62, cellphone='01076593860'),\n",
       " empolyee(name='송재성', age=66, cellphone='01053024436')]"
      ]
     },
     "execution_count": 20,
     "metadata": {},
     "output_type": "execute_result"
    }
   ],
   "source": [
    "data__"
   ]
  },
  {
   "cell_type": "code",
   "execution_count": 7,
   "metadata": {},
   "outputs": [
    {
     "name": "stdout",
     "output_type": "stream",
     "text": [
      "empolyee(name='송범석', age=32, cellphone='01025123860') 송범석 32 <class '__main__.empolyee'>\n",
      "{'name': '송범석', 'age': 32, 'cellphone': '01025123860'}\n",
      "empolyee(name='김범석', age=32, cellphone='01025123860')\n"
     ]
    }
   ],
   "source": [
    "# namedtuple 자료형 조회. key로 조회 가능 \n",
    "emp_0 = data__[0]\n",
    "print(emp_0, emp_0.name, emp_0.age, type(emp_0))\n",
    "\n",
    "# namedtuple → dictionary 자료형 변환\n",
    "print(emp_0._asdict())\n",
    "\n",
    "# tuple 은 immutable 하기 때문에 emp_0.name = ~  으로 속성을 변경할 수 없음. \n",
    "# ._replace()함수를 사용해서 새로운 객체를 만들어줘야함.  \n",
    "emp_0 = emp_0._replace(name='김범석')\n",
    "print(emp_0)\n"
   ]
  },
  {
   "cell_type": "markdown",
   "metadata": {},
   "source": [
    "리스트나 문자열과 같은 자료형에서 값이 같은 요소가 몇개인지를 확인하는 방법"
   ]
  },
  {
   "cell_type": "code",
   "execution_count": 23,
   "metadata": {},
   "outputs": [
    {
     "name": "stdout",
     "output_type": "stream",
     "text": [
      "['산에는', '꽃', '피네', '꽃이', '피네', '갈', '봄', '여름', '없이', '꽃이', '피네', '산에는', '꽃', '지네', '꽃이', '지네', '갈', '봄', '여름', '없이', '꽃이', '지네']\n",
      "Counter({'꽃이': 4, '피네': 3, '지네': 3, '산에는': 2, '꽃': 2, '갈': 2, '봄': 2, '여름': 2, '없이': 2})\n",
      "[('꽃이', 4), ('피네', 3)]\n"
     ]
    }
   ],
   "source": [
    "from collections import Counter\n",
    "import re\n",
    "\n",
    "data = \"\"\"\n",
    "산에는 꽃 피네.\n",
    "꽃이 피네.\n",
    "갈 봄 여름 없이\n",
    "꽃이 피네.\n",
    "\n",
    "산에는 꽃 지네\n",
    "꽃이 지네.\n",
    "갈 봄 여름 없이\n",
    "꽃이 지네.\n",
    "\"\"\"\n",
    "\n",
    "words = re.findall(r'\\w+', data)\n",
    "print(words)\n",
    "\n",
    "counter = Counter(words)\n",
    "print(counter)\n",
    "print(counter.most_common(2))\n"
   ]
  },
  {
   "cell_type": "code",
   "execution_count": null,
   "metadata": {},
   "outputs": [
    {
     "name": "stdout",
     "output_type": "stream",
     "text": [
      "{'L': 1, 'i': 2, 'f': 1, 'e': 3, ' ': 6, 's': 2, 't': 3, 'o': 5, 'h': 2, 'r': 1, ',': 1, 'Y': 1, 'u': 1, 'n': 2, 'd': 1, 'p': 1, 'y': 1, '.': 1}\n"
     ]
    }
   ],
   "source": [
    "from collections import defaultdict\n",
    "\n",
    "text = \"Life is too short, You need python.\"\n",
    "\n",
    "# 일반적인 방법 : 초기화 방어적 코드 사용 // \n",
    "d = dict()\n",
    "for t in text:\n",
    "    if t not in d:\n",
    "        d[t] = 0\n",
    "    d[t] += 1\n",
    "\n",
    "print(d)"
   ]
  },
  {
   "cell_type": "code",
   "execution_count": 26,
   "metadata": {},
   "outputs": [
    {
     "name": "stdout",
     "output_type": "stream",
     "text": [
      "defaultdict(<class 'int'>, {'L': 1, 'i': 2, 'f': 1, 'e': 3, ' ': 6, 's': 2, 't': 3, 'o': 5, 'h': 2, 'r': 1, ',': 1, 'Y': 1, 'u': 1, 'n': 2, 'd': 1, 'p': 1, 'y': 1, '.': 1})\n",
      "{'L': 1, 'i': 2, 'f': 1, 'e': 3, ' ': 6, 's': 2, 't': 3, 'o': 5, 'h': 2, 'r': 1, ',': 1, 'Y': 1, 'u': 1, 'n': 2, 'd': 1, 'p': 1, 'y': 1, '.': 1}\n"
     ]
    }
   ],
   "source": [
    "# defaultdict 를 사용하면 초기화를 대신해줌\n",
    "\n",
    "d = defaultdict(int)\n",
    "for t in text:\n",
    "    d[t] += 1\n",
    "\n",
    "print(d, dict(d), sep='\\n')"
   ]
  },
  {
   "cell_type": "markdown",
   "metadata": {},
   "source": [
    "우선순위 큐 구현 : 순위가 가장 높은 자료를 가장 먼저 꺼내는"
   ]
  },
  {
   "cell_type": "code",
   "execution_count": null,
   "metadata": {},
   "outputs": [
    {
     "name": "stdout",
     "output_type": "stream",
     "text": [
      "[(11.57, '차동현'), (11.92, '한시우'), (11.67, '차정웅'), (11.98, '박시우'), (11.99, '장준혁'), (12.23, '강보람'), (12.02, '박중수'), (12.31, '김지원'), (12.04, '고미숙'), (12.22, '이민석')]\n",
      "(11.57, '차동현')\n",
      "(11.67, '차정웅')\n",
      "(11.92, '한시우')\n"
     ]
    }
   ],
   "source": [
    "import heapq\n",
    "\n",
    "data = [\n",
    "    (12.23, \"강보람\"),\n",
    "    (12.31, \"김지원\"),\n",
    "    (11.98, \"박시우\"),\n",
    "    (11.99, \"장준혁\"),\n",
    "    (11.67, \"차정웅\"),\n",
    "    (12.02, \"박중수\"),\n",
    "    (11.57, \"차동현\"),\n",
    "    (12.04, \"고미숙\"),\n",
    "    (11.92, \"한시우\"),\n",
    "    (12.22, \"이민석\"),\n",
    "]\n",
    "\n",
    "h = [] # 힙으로 사용할 빈 리스트 생성\n",
    "for score in data:\n",
    "    heapq.heappush(h, score) # heapush 로 튜플을 추가할때는, 데이터 우선순위를 나타낼 항목이 튜플 내에서 첫번째 인덱스여야함 (기록,이름)\n",
    "print(h) # 이때는 힙 트리의 내부 구조만 보여지기에, score 순서대로 보이지 않는다. pop으로 꺼내보면 순서대로 잘 꺼내짐.. \n",
    "\n",
    "for i in range(3):\n",
    "    print(heapq.heappop(h))\n"
   ]
  },
  {
   "cell_type": "code",
   "execution_count": 35,
   "metadata": {},
   "outputs": [
    {
     "name": "stdout",
     "output_type": "stream",
     "text": [
      "[(11.57, '차동현'), (11.67, '차정웅'), (11.98, '박시우'), (11.92, '한시우'), (12.22, '이민석'), (12.02, '박중수'), (12.23, '강보람'), (12.04, '고미숙'), (11.99, '장준혁'), (12.31, '김지원')] <class 'list'>\n",
      "(11.57, '차동현')\n",
      "(11.67, '차정웅')\n",
      "(11.92, '한시우')\n"
     ]
    }
   ],
   "source": [
    "# 조금더 쉽게 힙 데이터를 생성하려면.. \n",
    "heapq.heapify(data)\n",
    "print(data, type(data))\n",
    "\n",
    "for i in range(3):\n",
    "    print(heapq.heappop(data))"
   ]
  },
  {
   "cell_type": "code",
   "execution_count": null,
   "metadata": {},
   "outputs": [
    {
     "name": "stdout",
     "output_type": "stream",
     "text": [
      "[(11.57, '차동현'), (11.67, '차정웅'), (11.92, '한시우')]\n"
     ]
    }
   ],
   "source": [
    "# 더 간단히 한번에 하려면 ?\n",
    "\n",
    "print(heapq.nsmallest(3,data))"
   ]
  },
  {
   "cell_type": "markdown",
   "metadata": {},
   "source": [
    "데이터를 보기 좋게 출력하는 방법 pprint (pretty print)"
   ]
  },
  {
   "cell_type": "code",
   "execution_count": 38,
   "metadata": {},
   "outputs": [
    {
     "name": "stdout",
     "output_type": "stream",
     "text": [
      "Using print:\n",
      "[{'name': '강보람', 'score': 12.23, 'subjects': ['math', 'science', 'history']}, {'name': '김지원', 'score': 12.31, 'subjects': ['literature', 'physics', 'art']}, {'name': '박시우', 'score': 11.98, 'subjects': ['biology', 'chemistry', 'math']}, {'name': '이민석', 'score': 12.22, 'subjects': ['geography', 'economics', 'math']}]\n",
      "\n",
      "Using pprint:\n",
      "[{'name': '강보람', 'score': 12.23, 'subjects': ['math', 'science', 'history']},\n",
      " {'name': '김지원', 'score': 12.31, 'subjects': ['literature', 'physics', 'art']},\n",
      " {'name': '박시우', 'score': 11.98, 'subjects': ['biology', 'chemistry', 'math']},\n",
      " {'name': '이민석',\n",
      "  'score': 12.22,\n",
      "  'subjects': ['geography', 'economics', 'math']}]\n"
     ]
    }
   ],
   "source": [
    "from pprint import pprint\n",
    "\n",
    "data = [\n",
    "    {\"name\": \"강보람\", \"score\": 12.23, \"subjects\": [\"math\", \"science\", \"history\"]},\n",
    "    {\"name\": \"김지원\", \"score\": 12.31, \"subjects\": [\"literature\", \"physics\", \"art\"]},\n",
    "    {\"name\": \"박시우\", \"score\": 11.98, \"subjects\": [\"biology\", \"chemistry\", \"math\"]},\n",
    "    {\"name\": \"이민석\", \"score\": 12.22, \"subjects\": [\"geography\", \"economics\", \"math\"]},\n",
    "]\n",
    "\n",
    "# 일반적인 print 사용\n",
    "print(\"Using print:\")\n",
    "print(data)\n",
    "\n",
    "# pprint 사용\n",
    "print(\"\\nUsing pprint:\")\n",
    "pprint(data)"
   ]
  },
  {
   "cell_type": "markdown",
   "metadata": {},
   "source": [
    "이진 탐색 알고리즘 : 점수에 따른 학점 구하는 문제 등 "
   ]
  },
  {
   "cell_type": "code",
   "execution_count": 42,
   "metadata": {},
   "outputs": [
    {
     "name": "stdout",
     "output_type": "stream",
     "text": [
      "0\n",
      "4\n",
      "2\n",
      "2\n",
      "3\n",
      "4\n",
      "4\n",
      "['F', 'A', 'C', 'C', 'B', 'A', 'A']\n",
      "[60, 70, 80, 85, 90]\n"
     ]
    }
   ],
   "source": [
    "import bisect\n",
    "\n",
    "result = []\n",
    "\n",
    "for score in [33, 90, 77, 70, 89, 90, 100]:\n",
    "    pos = bisect.bisect([60,70,80,90], score) # 점수를 삽입할 위치 (리스트내에서 몇번째 인덱스에 들어가는지) 반환  \n",
    "    print(pos)  \n",
    "    grade = 'FDCBA'[pos] # 그 인덱스에 맞는 문자열 배정 \n",
    "    result.append(grade)\n",
    "\n",
    "print(result)\n",
    "\n",
    "# 70점이면 C가 아닌 D를 받아야 한다면? C의 기준이 70점 이상이 아니라 초과라면\n",
    "# bisect.bisect_left 를 이용한다. \n",
    "\n",
    "# 정렬하여 삽입하기\n",
    "a = [60,70,80,90]\n",
    "bisect.insort(a, 85)\n",
    "print(a)"
   ]
  },
  {
   "cell_type": "markdown",
   "metadata": {},
   "source": [
    "위상 절열(topological sorting) : 순환하지 않는.. 선수과목 문제와 같은 그래프 규칙을 구현하는방법 "
   ]
  },
  {
   "cell_type": "code",
   "execution_count": 17,
   "metadata": {},
   "outputs": [
    {
     "name": "stdout",
     "output_type": "stream",
     "text": [
      "['영어초급', '영어중급', '영어문법', '영어고급', '영어회화']\n"
     ]
    }
   ],
   "source": [
    "from graphlib import TopologicalSorter\n",
    "\n",
    "ts = TopologicalSorter()\n",
    "\n",
    "# 규칙1\n",
    "ts.add('영어중급', '영어초급')  # 영어중급의 선수과목은 영어초급\n",
    "ts.add('영어고급', '영어중급')  # 영어고급의 선수과목은 영어중급\n",
    "\n",
    "# 규칙2\n",
    "ts.add('영어문법', '영어중급')  # 영어문법의 선수과목은 영어중급\n",
    "ts.add('영어고급', '영어문법')  # 영어고급의 선수과목은 영어문법\n",
    "\n",
    "# 규칙3\n",
    "ts.add('영어회화', '영어문법')  # 영어회화의 선수과목은 영어문법\n",
    "\n",
    "print(list(ts.static_order()))  # 위상정렬한 결과를 출력\n"
   ]
  }
 ],
 "metadata": {
  "kernelspec": {
   "display_name": "base",
   "language": "python",
   "name": "python3"
  },
  "language_info": {
   "codemirror_mode": {
    "name": "ipython",
    "version": 3
   },
   "file_extension": ".py",
   "mimetype": "text/x-python",
   "name": "python",
   "nbconvert_exporter": "python",
   "pygments_lexer": "ipython3",
   "version": "3.10.9"
  }
 },
 "nbformat": 4,
 "nbformat_minor": 2
}
