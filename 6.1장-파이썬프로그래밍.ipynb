{
 "cells": [
  {
   "cell_type": "markdown",
   "metadata": {},
   "source": [
    "프로그램을 짤때는 항상 전체적인 구조를 먼저 구상한다. \n",
    "특히, 가장 먼저 '입력' 과 '출력' 을 생각해야한다. "
   ]
  },
  {
   "cell_type": "code",
   "execution_count": 1,
   "metadata": {},
   "outputs": [
    {
     "name": "stdout",
     "output_type": "stream",
     "text": [
      "23\n"
     ]
    }
   ],
   "source": [
    "# 1000 미만의 자연수 중에서 3과 5의 배수를 모두 더하기 \n",
    "\n",
    "result = 0 \n",
    "\n",
    "for i in range(1,10):\n",
    "    if i % 3 == 0 or i % 5 == 0:\n",
    "        result +=i\n",
    "print(result)"
   ]
  },
  {
   "cell_type": "code",
   "execution_count": 2,
   "metadata": {},
   "outputs": [
    {
     "name": "stdout",
     "output_type": "stream",
     "text": [
      "4\n"
     ]
    }
   ],
   "source": [
    "# 게시물의 총개수 m , 한페이지에 보여줄 게시물 수 n -> 필요한 페이지 수는 ? \n",
    "\n",
    "def get_total_page(m,n):\n",
    "    if m % n == 0:\n",
    "        return m/n\n",
    "    else:\n",
    "        return m//n+1     \n",
    "    \n",
    "print(get_total_page(37,10))"
   ]
  },
  {
   "cell_type": "code",
   "execution_count": null,
   "metadata": {},
   "outputs": [],
   "source": [
    "# 원하는(입력받을) 메모를 텍스트 파일에 저장하고, 추가/조회/삭제가 가능한 메모장 만들기 \n",
    "\n",
    "'''\n",
    "명령창에서 python memo.py -a \"Life is too short\" -> 라고 실행했을때, 메모를 추가할 수 있도록 \n",
    "cmd 에서 py 파일 실행하려면 -> python memo.py 로 실행해야함 \n",
    "memo.py 파일 참고해서 cmd 에 실행해보기 \n",
    "'''"
   ]
  },
  {
   "cell_type": "code",
   "execution_count": null,
   "metadata": {},
   "outputs": [],
   "source": [
    "# 문서 파일 안에 있는 탭 문자를 공백 문자 4개로 바꾸기 \n",
    "\n",
    "'''\n",
    "명령창에서 python tabto4.py a.txt b.xtx -> 실행하면 a파일 받아서 탭을 공백전환해서 b로 저장 후 실행하기 \n",
    "tabto4.py 파일 참고해서 cmd 에 실행해보기\n",
    "'''"
   ]
  },
  {
   "cell_type": "code",
   "execution_count": 23,
   "metadata": {},
   "outputs": [],
   "source": [
    "# 특정 디렉터리의 (하위 디렉터리들도 포함) 모든 파일 중 파이썬 파일(*.py)만 전부 출력해주는 프로그램 \n",
    "\n",
    "'''\n",
    "sub_dir_search.py 파일 참고해서 cmd에 실행해보기 \n",
    "'''"
   ]
  },
  {
   "cell_type": "code",
   "execution_count": 8,
   "metadata": {},
   "outputs": [
    {
     "name": "stdout",
     "output_type": "stream",
     "text": [
      "G:/내 드라이브/파이썬공부\\memo.py <class 'str'>\n",
      "('G:/내 드라이브/파이썬공부\\\\memo', '.py')\n"
     ]
    }
   ],
   "source": [
    "import os\n",
    "file = os.path.join(\"G:/내 드라이브/파이썬공부\", 'memo.py')\n",
    "print(file, type(file))\n",
    "\n",
    "print(os.path.splitext(file))"
   ]
  }
 ],
 "metadata": {
  "kernelspec": {
   "display_name": "base",
   "language": "python",
   "name": "python3"
  },
  "language_info": {
   "codemirror_mode": {
    "name": "ipython",
    "version": 3
   },
   "file_extension": ".py",
   "mimetype": "text/x-python",
   "name": "python",
   "nbconvert_exporter": "python",
   "pygments_lexer": "ipython3",
   "version": "3.10.9"
  }
 },
 "nbformat": 4,
 "nbformat_minor": 2
}
