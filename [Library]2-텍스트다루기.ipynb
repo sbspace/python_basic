{
 "cells": [
  {
   "cell_type": "markdown",
   "metadata": {},
   "source": [
    "텍스트 다루기. \n",
    "문자열 자료형에서 나아가 textwrap, re 모듈을 활용해본다.\n",
    "1) textwrap - 문자열을 원하는 길이에 맞게 줄여서 표현하거나, 긴 문장을 줄바꿈하기 위함\n",
    "2) re - 정규표현식을 사용하여 복잡한 문자열을 처리. "
   ]
  },
  {
   "cell_type": "code",
   "execution_count": 4,
   "metadata": {},
   "outputs": [
    {
     "data": {
      "text/plain": [
       "'Life is [...]'"
      ]
     },
     "execution_count": 4,
     "metadata": {},
     "output_type": "execute_result"
    }
   ],
   "source": [
    "import textwrap\n",
    "textwrap.shorten(\"Life is too short, you need python\", width=13)"
   ]
  },
  {
   "cell_type": "code",
   "execution_count": 5,
   "metadata": {},
   "outputs": [
    {
     "data": {
      "text/plain": [
       "'인생은 짧으니...'"
      ]
     },
     "execution_count": 5,
     "metadata": {},
     "output_type": "execute_result"
    }
   ],
   "source": [
    "textwrap.shorten('인생은 짧으니 파이썬이 필요해', width=13, placeholder='...')"
   ]
  },
  {
   "cell_type": "code",
   "execution_count": 6,
   "metadata": {},
   "outputs": [
    {
     "data": {
      "text/plain": [
       "['Life is too short, you need python. Life is too',\n",
       " 'short, you need python. Life is too short, you',\n",
       " 'need python. Life is too short, you need python.',\n",
       " 'Life is too short, you need python. Life is too',\n",
       " 'short, you need python. Life is too short, you',\n",
       " 'need python. Life is too short, you need python.',\n",
       " 'Life is too short, you need python. Life is too',\n",
       " 'short, you need python.']"
      ]
     },
     "execution_count": 6,
     "metadata": {},
     "output_type": "execute_result"
    }
   ],
   "source": [
    "# wrap 함수는 원하는 길이로 문자열을 잘라서 리스트 형태로 반환\n",
    "\n",
    "long_text = \"Life is too short, you need python. \" * 10 \n",
    "result = textwrap.wrap(long_text, width=50)  \n",
    "result"
   ]
  },
  {
   "cell_type": "code",
   "execution_count": 7,
   "metadata": {},
   "outputs": [
    {
     "name": "stdout",
     "output_type": "stream",
     "text": [
      "Life is too short, you need python. Life is too\n",
      "short, you need python. Life is too short, you\n",
      "need python. Life is too short, you need python.\n",
      "Life is too short, you need python. Life is too\n",
      "short, you need python. Life is too short, you\n",
      "need python. Life is too short, you need python.\n",
      "Life is too short, you need python. Life is too\n",
      "short, you need python.\n"
     ]
    }
   ],
   "source": [
    "print('\\n'.join(result))"
   ]
  },
  {
   "cell_type": "code",
   "execution_count": 10,
   "metadata": {},
   "outputs": [
    {
     "name": "stdout",
     "output_type": "stream",
     "text": [
      "Life is too short, you need python. Life is too\n",
      "short, you need python. Life is too short, you\n",
      "need python. Life is too short, you need python.\n",
      "Life is too short, you need python. Life is too\n",
      "short, you need python. Life is too short, you\n",
      "need python. Life is too short, you need python.\n",
      "Life is too short, you need python. Life is too\n",
      "short, you need python.\n"
     ]
    }
   ],
   "source": [
    "# fill 함수는 wrap 과 join 을 합친 기능\n",
    "\n",
    "result_ = textwrap.fill(long_text, width=50)\n",
    "print(result_)"
   ]
  },
  {
   "cell_type": "code",
   "execution_count": 18,
   "metadata": {},
   "outputs": [
    {
     "name": "stdout",
     "output_type": "stream",
     "text": [
      "<re.Match object; span=(12, 26), match='800905-1049118'> 800905-1049118 800905\n",
      "\n",
      "홍길동의 주민번호는 800905-******* 입니다. \n",
      "그리고 고길동의 주민번호는 700905-******* 입니다.\n",
      "그렇다면 누가 형님일까요?\n",
      "\n",
      "\n",
      "홍길동의 주민번호는 안알랴줌 입니다. \n",
      "그리고 고길동의 주민번호는 안알랴줌 입니다.\n",
      "그렇다면 누가 형님일까요?\n",
      "\n"
     ]
    }
   ],
   "source": [
    "# re 모듈 (정규표현식)을 이용해서 개인정보 주민번호 가리기 예시 \n",
    "\n",
    "import re\n",
    "\n",
    "data = \"\"\"\n",
    "홍길동의 주민번호는 800905-1049118 입니다. \n",
    "그리고 고길동의 주민번호는 700905-1059119 입니다.\n",
    "그렇다면 누가 형님일까요?\n",
    "\"\"\"\n",
    "\n",
    "pat = re.compile(\"(\\d{6})[-](\\d{7})\") # () 를 통해 그룹을 지정해줬음 \n",
    "s = pat.search(data)\n",
    "print(s, s.group(0), s.group(1))\n",
    "\n",
    "print(pat.sub(\"\\g<1>-*******\", data)) # data 에서 pat과 컴파일 되는 부분을 sub 의 첫번째 입력값 형태로 바꾸어준다. \n",
    "print(pat.sub(\"안알랴줌\", data))"
   ]
  }
 ],
 "metadata": {
  "kernelspec": {
   "display_name": "base",
   "language": "python",
   "name": "python3"
  },
  "language_info": {
   "codemirror_mode": {
    "name": "ipython",
    "version": 3
   },
   "file_extension": ".py",
   "mimetype": "text/x-python",
   "name": "python",
   "nbconvert_exporter": "python",
   "pygments_lexer": "ipython3",
   "version": "3.10.9"
  }
 },
 "nbformat": 4,
 "nbformat_minor": 2
}
