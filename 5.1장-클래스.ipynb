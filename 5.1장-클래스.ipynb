{
 "cells": [
  {
   "cell_type": "markdown",
   "metadata": {},
   "source": [
    "** 클래스 (Class) ** \n",
    "\n",
    "클래스를 사용하는 이유 : 사용자 함수로도 할 수 있지만, \n",
    "똑같은 프로그램으로 여러개의 개체를 만들어야 할때 \n",
    "클래스가 없으면 객체의 개수만큼의 변수와 함수를 만들어줘야한다.\n",
    "\n",
    "클래스(Class)는 과자를 만드는 틀과 같고, 클래스로 만들어낸 과자는 객체(Object)라고한다.\n",
    "인스턴스(Instance)는 객체가 어떤 클래스로 부터 생성됬는지를 표현하기 위한 단어 : ex> A 라는 '객체'는 C라는 '클래스'의 '인스턴스'이다 \n",
    "서로다른 객체간에는 서로 영향을 주지 않는다.\n",
    "\n",
    "클래스 안에서 만든 함수(def)는 매서드(method)라고 부른다.\n",
    "매서드의 첫 번째 매개변수는 관례적으로 디폴트로 self 가 들어간다. 객체 자신을 호출한다는 뜻이다. \n",
    "\n",
    "객체에 생성되는 객체만의 변수를 '객체변수' = '속성'(attribute) 이라고 한다. \n",
    "속성값은 다른 객체에 의해 변경되지 않는다."
   ]
  },
  {
   "cell_type": "code",
   "execution_count": 1,
   "metadata": {},
   "outputs": [
    {
     "name": "stdout",
     "output_type": "stream",
     "text": [
      "5.0 10 2\n"
     ]
    }
   ],
   "source": [
    "## 생성자 \n",
    "\n",
    "''' 사실 객체변수(속성) 정의는 따로 매서드를 이용하기보다, 생성자(constructor)를 사용하는게 안전하다. \n",
    "__init__ 이라는 매서드명을 사용하면, 따로 매서드 호출없이 속성을 정의할 수 있다. '''\n",
    "\n",
    "class FourCal:\n",
    "    def __init__(self,first,second):\n",
    "        self.first = first\n",
    "        self.second = second\n",
    "    def add(self):\n",
    "        result = self.first + self.second\n",
    "        return result \n",
    "    def dev(self):\n",
    "        result = self.first / self.second\n",
    "        return result\n",
    "\n",
    "b = FourCal(10,2) \n",
    "print(b.dev(), b.first, b.second)"
   ]
  },
  {
   "cell_type": "code",
   "execution_count": 2,
   "metadata": {},
   "outputs": [
    {
     "name": "stdout",
     "output_type": "stream",
     "text": [
      "6 11\n",
      "15625\n"
     ]
    }
   ],
   "source": [
    "## 클래스의 상속 \n",
    "\n",
    "''' 다른 클래스의 기능을 물려받는 개념 \n",
    "클래스 정의할때 괄호안에 상속받을 클래스명 (=부모클래스) 을 써주면 된다 \n",
    "'''\n",
    "\n",
    "class MoreFourCal(FourCal):\n",
    "    def pow(self):\n",
    "        result = self.first ** self.second\n",
    "        return result\n",
    "\n",
    "c = MoreFourCal(5,6)\n",
    "print(c.second, c.add())  # Fourcal 의 매서드 사용가능 \n",
    "print(c.pow())"
   ]
  },
  {
   "cell_type": "code",
   "execution_count": 7,
   "metadata": {},
   "outputs": [
    {
     "name": "stdout",
     "output_type": "stream",
     "text": [
      "매서드 오버라이딩 되었는지 확인\n",
      "6 11 31250\n"
     ]
    }
   ],
   "source": [
    "## 매서드 오버라이딩\n",
    "\n",
    "''' 부모클래스의 매서드를 동일한 이름으로 다시 만드는것 (덮어버리는것)'''\n",
    "\n",
    "class MoreMoreFourCal(MoreFourCal):\n",
    "    def pow(self):\n",
    "        print('매서드 오버라이딩 되었는지 확인')\n",
    "        result = self.first ** self.second *2\n",
    "        return result\n",
    "    \n",
    "d = MoreMoreFourCal(5,6)\n",
    "print(d.second, d.add(), d.pow()) "
   ]
  },
  {
   "cell_type": "code",
   "execution_count": 12,
   "metadata": {},
   "outputs": [
    {
     "name": "stdout",
     "output_type": "stream",
     "text": [
      "김 이 박\n"
     ]
    }
   ],
   "source": [
    "## 클래스변수 \n",
    "\n",
    "'''객체변수(속성)과 달리 클래스 내부에서 직접 정의하는 변수'''\n",
    "\n",
    "class Family:\n",
    "    def __init__(self):\n",
    "        self.lastname = \"이\"\n",
    "    lastname = \"김\"\n",
    "\n",
    "a = Family()\n",
    "b = Family()\n",
    "b.lastname = \"박\"\n",
    "\n",
    "print(Family.lastname, a.lastname, b.lastname)"
   ]
  }
 ],
 "metadata": {
  "kernelspec": {
   "display_name": "sbs",
   "language": "python",
   "name": "python3"
  },
  "language_info": {
   "codemirror_mode": {
    "name": "ipython",
    "version": 3
   },
   "file_extension": ".py",
   "mimetype": "text/x-python",
   "name": "python",
   "nbconvert_exporter": "python",
   "pygments_lexer": "ipython3",
   "version": "3.10.9"
  }
 },
 "nbformat": 4,
 "nbformat_minor": 2
}
