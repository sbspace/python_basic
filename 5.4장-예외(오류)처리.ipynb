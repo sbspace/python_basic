{
 "cells": [
  {
   "cell_type": "markdown",
   "metadata": {},
   "source": [
    "** 오류 예외 처리 기법 ** \n",
    "\n",
    "try-except 문 : try 블록 수행 중 오류가 발생하면 except 블록이 수행된다. \n",
    "try 블록에서 오류가 발생하지 않으면 except 블록 수행이 안된다.\n",
    "except 뒤에 구문은 선택사항이다. 안써도되는데 사용하면 구문에 해당하는 오류발생시에만 except가 동작한다. \n",
    "\n",
    "try-finally 문 : try 블록의 오류 발생여부와 상관없이 항상 수행 필요한 코드를 finally절에 작성\n",
    "#사용한 리소스를 close 해야할 때 많이 사용함. 예를들어 try 문에서 파일열어서 작업하고 finally로 f.close()"
   ]
  },
  {
   "cell_type": "code",
   "execution_count": 6,
   "metadata": {},
   "outputs": [
    {
     "name": "stdout",
     "output_type": "stream",
     "text": [
      "division by zero 오류 발생\n",
      "division by zero\n"
     ]
    }
   ],
   "source": [
    "try:\n",
    "    print(4/0)\n",
    "except ZeroDivisionError as e:  \n",
    "    print(f'{e} 오류 발생')\n",
    "\n",
    "\n",
    "# 여러개 오류를 처리하는 방법\n",
    "try:\n",
    "    a=[1,2]\n",
    "    print(a[3])\n",
    "    4/0\n",
    "except (IndexError, ZeroDivisionError) as e:\n",
    "    print(e)"
   ]
  },
  {
   "cell_type": "code",
   "execution_count": 5,
   "metadata": {},
   "outputs": [
    {
     "name": "stdout",
     "output_type": "stream",
     "text": [
      "1\n",
      "end\n"
     ]
    }
   ],
   "source": [
    "try:\n",
    "    a=[1,2]\n",
    "    print(a[0])\n",
    "    4/0\n",
    "except :\n",
    "    print('error')\n",
    "finally:\n",
    "    print('end')"
   ]
  },
  {
   "cell_type": "code",
   "execution_count": 9,
   "metadata": {},
   "outputs": [
    {
     "name": "stdout",
     "output_type": "stream",
     "text": [
      "미성년자\n"
     ]
    }
   ],
   "source": [
    "# try-else 문 : 오류가 발생하지 않았을때 동작하는 절\n",
    "\n",
    "try:\n",
    "    age = int(input('나이를 입력하세요:'))\n",
    "except :\n",
    "    print('입력이 잘못됬습니다.')\n",
    "else:\n",
    "    if age > 18:\n",
    "        print('성인')\n",
    "    else:\n",
    "        print('미성년자')"
   ]
  },
  {
   "cell_type": "code",
   "execution_count": 13,
   "metadata": {},
   "outputs": [],
   "source": [
    "# 오류 회피하기 : 오류를 무시하고 진행할 필요가 있을 때 \n",
    "\n",
    "try:\n",
    "    f= open(\"새파일3.txt\", 'r')\n",
    "except FileNotFoundError:\n",
    "    pass\n"
   ]
  },
  {
   "cell_type": "code",
   "execution_count": 19,
   "metadata": {},
   "outputs": [
    {
     "name": "stdout",
     "output_type": "stream",
     "text": [
      "eagle is flying\n"
     ]
    }
   ],
   "source": [
    "\n",
    "'''\n",
    "오류 일부러 발생시키기 : raise 명령어를 이용 \n",
    "예를들어, 부모 클래스를 상속받는 자식 클래스가 반드시 부모 클래스의 특정 매서드를 구현하도록 (오버라이딩 하도록) 할때\n",
    "오류를 일부러 발생시키는 상황이 필요할 수 있다. \n",
    "'''\n",
    "\n",
    "class Bird():\n",
    "    def fly(self):\n",
    "        raise NotImplementedError\n",
    "    \n",
    "class Eagle(Bird):\n",
    "    def fly(self):\n",
    "        print('eagle is flying')  # <- 와 같이 오버라이딩 안하면 NotImpl 오류 발생  \n",
    "    pass\n",
    "\n",
    "eagle = Eagle()\n",
    "eagle.fly()"
   ]
  },
  {
   "cell_type": "code",
   "execution_count": 24,
   "metadata": {},
   "outputs": [
    {
     "name": "stdout",
     "output_type": "stream",
     "text": [
      "stupid\n",
      "내가만든 에러에러 발생\n"
     ]
    }
   ],
   "source": [
    "# 예외 만들기 : 파이썬 내장 클래스인 Exception 클래스를 상속하여 만든다. \n",
    "\n",
    "class MyError(Exception):\n",
    "    def __str__(self):   # 오류 메시지를 출력하고 싶다면 __str__ 매서드 구현해야함\n",
    "        return \"내가만든 에러\"\n",
    "\n",
    "def say_nick(nick):\n",
    "    if nick == '바보':\n",
    "        raise MyError()\n",
    "    print(nick)\n",
    "\n",
    "try:\n",
    "    say_nick('stupid')\n",
    "    say_nick('바보')\n",
    "except MyError as e:\n",
    "    print(f'{e}에러 발생')\n",
    "\n",
    "\n"
   ]
  }
 ],
 "metadata": {
  "kernelspec": {
   "display_name": "base",
   "language": "python",
   "name": "python3"
  },
  "language_info": {
   "codemirror_mode": {
    "name": "ipython",
    "version": 3
   },
   "file_extension": ".py",
   "mimetype": "text/x-python",
   "name": "python",
   "nbconvert_exporter": "python",
   "pygments_lexer": "ipython3",
   "version": "3.10.9"
  }
 },
 "nbformat": 4,
 "nbformat_minor": 2
}
