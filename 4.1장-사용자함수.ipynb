{
 "cells": [
  {
   "cell_type": "code",
   "execution_count": 1,
   "metadata": {},
   "outputs": [
    {
     "name": "stdout",
     "output_type": "stream",
     "text": [
      "7\n",
      "None 200\n"
     ]
    }
   ],
   "source": [
    "#### 사용자 정의함수 \n",
    "\n",
    "def add(a,d):   # 이때 a와 d는 매개변수 = parameter = 입력값\n",
    "    return a+d  # 반환값, 리턴값\n",
    "\n",
    "print(add(3,4))  # 이때 3과 4는 인수 = arguments\n",
    "\n",
    "# return 은 사용자 함수에서 break 용도로 사용가능\n",
    "def addifsame(a,b):\n",
    "    if a!=b:\n",
    "        return\n",
    "    return a+b\n",
    "\n",
    "print(addifsame(30,40),addifsame(100,100))"
   ]
  },
  {
   "cell_type": "code",
   "execution_count": 6,
   "metadata": {},
   "outputs": [
    {
     "name": "stdout",
     "output_type": "stream",
     "text": [
      "120 10\n"
     ]
    }
   ],
   "source": [
    "## 가변인자 (*args) : 함수의 매개변수(입력값)이 몇개가 될 지 모를떄\n",
    "# 개수를 알 수 없는 매개변수를 모두 곱하거나 더하는 함수\n",
    "def add_many(choice, *args):\n",
    "    if choice == 'add':\n",
    "        result = 0\n",
    "        for i in args:\n",
    "            result += i\n",
    "    elif choice == 'mul':\n",
    "        result = 1\n",
    "        for i in args:\n",
    "            result *= i\n",
    "    \n",
    "    return result \n",
    "\n",
    "print(add_many('mul', 1,2,3,4,5), add_many('add', 1,2,3,4))"
   ]
  },
  {
   "cell_type": "code",
   "execution_count": 7,
   "metadata": {},
   "outputs": [
    {
     "name": "stdout",
     "output_type": "stream",
     "text": [
      "{'name': 'song', 'age': 32} <class 'dict'>\n",
      "name 은 song\n",
      "age 은 32\n"
     ]
    }
   ],
   "source": [
    "## 키워드 매개변수 (**kwargs) : 매개변수에 **을 붙이면 Key=Value 형태로 입력값을 넣었을떄 딕셔너리로 저장함\n",
    "def kwargs(**kw):\n",
    "    print(kw, type(kw))\n",
    "    for k,v in kw.items():\n",
    "        print(f'{k} 은 {v}')\n",
    "\n",
    "kwargs(name = 'song', age=32)"
   ]
  },
  {
   "cell_type": "code",
   "execution_count": 8,
   "metadata": {},
   "outputs": [
    {
     "name": "stdout",
     "output_type": "stream",
     "text": [
      "my name is yeon and 33 old\n",
      "i am a woman\n"
     ]
    }
   ],
   "source": [
    "# 매개변수에 초기값을 주는 방식 : 초기값을 준 매개변수는 입력값을 줘도되고 안줘도 된다. \n",
    "# ★초기값이 있는 매개변수는 항상 맨 뒤에 놓아야한다. \n",
    "\n",
    "def introduce(name, age, sex='man'):\n",
    "    print(f'my name is {name} and {age} old')\n",
    "    if sex == 'man':\n",
    "        print('i am a man')\n",
    "    else:\n",
    "        print('i am a woman')\n",
    "\n",
    "introduce('yeon', 33, 'w')"
   ]
  },
  {
   "cell_type": "code",
   "execution_count": 8,
   "metadata": {},
   "outputs": [
    {
     "name": "stdout",
     "output_type": "stream",
     "text": [
      "27\n"
     ]
    }
   ],
   "source": [
    "## lambda : 간단한 함수를 만들때 사용 \n",
    "add = lambda a,b : a+b \n",
    "result = add(13,14)\n",
    "print(result)"
   ]
  },
  {
   "cell_type": "code",
   "execution_count": 9,
   "metadata": {},
   "outputs": [
    {
     "name": "stdout",
     "output_type": "stream",
     "text": [
      "None 60\n"
     ]
    }
   ],
   "source": [
    "addifsame = lambda a,b : a+b if a==b else None\n",
    "print(addifsame(10,30), addifsame(30,30))"
   ]
  }
 ],
 "metadata": {
  "kernelspec": {
   "display_name": "sbs",
   "language": "python",
   "name": "python3"
  },
  "language_info": {
   "codemirror_mode": {
    "name": "ipython",
    "version": 3
   },
   "file_extension": ".py",
   "mimetype": "text/x-python",
   "name": "python",
   "nbconvert_exporter": "python",
   "pygments_lexer": "ipython3",
   "version": "3.12.3"
  }
 },
 "nbformat": 4,
 "nbformat_minor": 2
}
