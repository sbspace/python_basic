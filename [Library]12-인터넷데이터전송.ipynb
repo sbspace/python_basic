{
 "cells": [
  {
   "cell_type": "code",
   "execution_count": 29,
   "metadata": {},
   "outputs": [
    {
     "name": "stdout",
     "output_type": "stream",
     "text": [
      "{'name': '송재성', 'birth': '0309', 'age': 67} <class 'dict'>\n"
     ]
    }
   ],
   "source": [
    "# JSON 데이터 다루기 \n",
    "\n",
    "import json\n",
    "\n",
    "# JSON 파일 생성하기 : dict -> json\n",
    "data = {'name': '송재성', 'birth': '0309', 'age': 67}\n",
    "with open('myinfo.json', 'w') as f:\n",
    "    json.dump(data, f)\n",
    "\n",
    "# JSON 파일 읽기 : json -> dict \n",
    "with open('myinfo.json') as f:\n",
    "    data = json.load(f)\n",
    "\n",
    "print(data, type(data))"
   ]
  },
  {
   "cell_type": "code",
   "execution_count": 34,
   "metadata": {},
   "outputs": [
    {
     "name": "stdout",
     "output_type": "stream",
     "text": [
      "<class 'str'>\n"
     ]
    }
   ],
   "source": [
    "print(type('Life is too short'))"
   ]
  }
 ],
 "metadata": {
  "kernelspec": {
   "display_name": "base",
   "language": "python",
   "name": "python3"
  },
  "language_info": {
   "codemirror_mode": {
    "name": "ipython",
    "version": 3
   },
   "file_extension": ".py",
   "mimetype": "text/x-python",
   "name": "python",
   "nbconvert_exporter": "python",
   "pygments_lexer": "ipython3",
   "version": "3.10.9"
  }
 },
 "nbformat": 4,
 "nbformat_minor": 2
}
