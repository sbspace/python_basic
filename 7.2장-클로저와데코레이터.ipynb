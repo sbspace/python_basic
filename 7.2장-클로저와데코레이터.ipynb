{
 "cells": [
  {
   "cell_type": "markdown",
   "metadata": {},
   "source": [
    "클로저란? 함수안에 내부 함수를 구현하고, 그 내부 함수를 리턴하는 함수 (이때 외부함수는 자신이 가진 변수값 등을 내부함수에 전달할 수 있다.)"
   ]
  },
  {
   "cell_type": "code",
   "execution_count": 1,
   "metadata": {},
   "outputs": [
    {
     "name": "stdout",
     "output_type": "stream",
     "text": [
      "30\n",
      "50\n"
     ]
    }
   ],
   "source": [
    "class Mul:\n",
    "    def __init__(self, m):\n",
    "        self.m = m \n",
    "\n",
    "    def mul(self, n):\n",
    "        return self.m*n\n",
    "    \n",
    "if __name__ == \"__main__\":\n",
    "    mul3 = Mul(3)\n",
    "    mul5 = Mul(5)\n",
    "    print(mul3.mul(10))\n",
    "    print(mul5.mul(10))\n",
    "\n"
   ]
  },
  {
   "cell_type": "code",
   "execution_count": 2,
   "metadata": {},
   "outputs": [
    {
     "name": "stdout",
     "output_type": "stream",
     "text": [
      "30\n",
      "50\n",
      "30\n",
      "50\n"
     ]
    }
   ],
   "source": [
    "# __call__ 매서드를 활용하면 더 쉽게 표현 가능 \n",
    "class Mul:\n",
    "    def __init__(self, m):\n",
    "        self.m = m \n",
    "\n",
    "    def __call__(self, n):\n",
    "        return self.m*n\n",
    "    \n",
    "    def mul(self, n):\n",
    "        return self.m*n\n",
    "    \n",
    "    \n",
    "if __name__ == \"__main__\":\n",
    "    mul3 = Mul(3)\n",
    "    mul5 = Mul(5)\n",
    "    print(mul3(10))\n",
    "    print(mul5(10))\n",
    "    print(mul3.mul(10))\n",
    "    print(mul5.mul(10))\n"
   ]
  },
  {
   "cell_type": "code",
   "execution_count": 3,
   "metadata": {},
   "outputs": [
    {
     "name": "stdout",
     "output_type": "stream",
     "text": [
      "24\n"
     ]
    }
   ],
   "source": [
    "# 위의 예시를 클로저를 사용하면 더 간단하게 만들 수 있다. \n",
    "# 아래 예시에서와 같이, 내부함수를 반환하는 mul과 같은 외부함수를 클로저(closure)라고 한다. \n",
    "\n",
    "def mul(m):\n",
    "    def wrapper(n):\n",
    "        return m*n\n",
    "    return wrapper\n",
    "\n",
    "print(mul(3)(8))  \n"
   ]
  },
  {
   "cell_type": "markdown",
   "metadata": {},
   "source": [
    "데코레이터란 ? 아래 예시에서와 같이 기존 함수를 바꾸지 않고 기능을 추가할 수 있게 하는 elapsed 함수와 같은 클로저를 데코레이터라고한다. \n",
    "아래 예시에서, 데코레이터를 안썻다면 wrapper 함수 자체를 바꿔야한다. "
   ]
  },
  {
   "cell_type": "code",
   "execution_count": 4,
   "metadata": {},
   "outputs": [
    {
     "name": "stdout",
     "output_type": "stream",
     "text": [
      "내 함수 실행\n",
      "수행시간 : 0.000000초\n",
      "내 함수 실행\n"
     ]
    }
   ],
   "source": [
    "import time \n",
    "\n",
    "def elapsed(origin_func):\n",
    "    def wrapper():\n",
    "        start = time.time()\n",
    "        result = origin_func()\n",
    "        end = time.time()\n",
    "        print(f\"수행시간 : {end-start:0.6f}초\")\n",
    "        return result \n",
    "    return wrapper\n",
    "\n",
    "def myfunc():\n",
    "    print('내 함수 실행')\n",
    "\n",
    "decorated_myfunc = elapsed(myfunc)\n",
    "decorated_myfunc()\n",
    "\n",
    "myfunc()"
   ]
  },
  {
   "cell_type": "code",
   "execution_count": 5,
   "metadata": {},
   "outputs": [
    {
     "name": "stdout",
     "output_type": "stream",
     "text": [
      "내 함수 실행\n",
      "수행시간 : 0.0000초\n"
     ]
    }
   ],
   "source": [
    "# @ 을 이용한 데코레이터 사용법 \n",
    "\n",
    "def elapsed(origin_func):\n",
    "    def wrapper():\n",
    "        start = time.time()\n",
    "        result = origin_func()\n",
    "        end = time.time()\n",
    "        print(f\"수행시간 : {end-start:0.4f}초\")\n",
    "        return result \n",
    "    return wrapper\n",
    "\n",
    "@ elapsed    # 파이썬은 함수위에 '@+함수명' 이 있으면 데코레이터 함수로 인식하다. \n",
    "def myfunc():\n",
    "    print('내 함수 실행')\n",
    "\n",
    "myfunc()   # myfunc 함수만 실행해도 elapsed 데코레이터를 통해 실행된다. "
   ]
  },
  {
   "cell_type": "code",
   "execution_count": 6,
   "metadata": {},
   "outputs": [
    {
     "name": "stdout",
     "output_type": "stream",
     "text": [
      "가, 나를 출력합니다.\n",
      "수행시간 : 0.0000초\n"
     ]
    }
   ],
   "source": [
    "# 만약에 myfunc 함수에 입력인자가 있을수도 있고 없을수도 있다면? 인자가 몇개있을지도 모른다면 ? *arg, **kwarg 사용\n",
    "\n",
    "def elapsed(origin_func):\n",
    "    def wrapper(*arg, **kwarg):\n",
    "        start = time.time()\n",
    "        result = origin_func(*arg, **kwarg)\n",
    "        end = time.time()\n",
    "        print(f\"수행시간 : {end-start:0.4f}초\")\n",
    "        return result \n",
    "    return wrapper\n",
    "\n",
    "@ elapsed\n",
    "def myfunc(msg, msg2):\n",
    "    print(f'{msg}, {msg2}를 출력합니다.')\n",
    "\n",
    "myfunc('가', '나') "
   ]
  }
 ],
 "metadata": {
  "kernelspec": {
   "display_name": "base",
   "language": "python",
   "name": "python3"
  },
  "language_info": {
   "codemirror_mode": {
    "name": "ipython",
    "version": 3
   },
   "file_extension": ".py",
   "mimetype": "text/x-python",
   "name": "python",
   "nbconvert_exporter": "python",
   "pygments_lexer": "ipython3",
   "version": "3.10.9"
  }
 },
 "nbformat": 4,
 "nbformat_minor": 2
}
