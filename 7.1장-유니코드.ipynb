{
 "cells": [
  {
   "cell_type": "markdown",
   "metadata": {},
   "source": [
    "아스키코드(ASCII)는, 최초의 문자 셋 표준으로 영어/숫자만 매핑된다 (127개)\n",
    "유니코드(unicode)는, 모든 나라의 문자를 포함하도록 넉넉히 설계되어 세계표준으로 사용. \n",
    "유니코드던, 아스키코드던 컴퓨터가 우리가 쓰는 문자열을 0과 1로 바꾸어 인식하게 해주는 표준체계\n",
    "파이썬에서 사용하는 문자열은 모두 유니코드 문자열이다. "
   ]
  },
  {
   "cell_type": "markdown",
   "metadata": {},
   "source": [
    "유니코드 문자열을 파일에 적거나, 전송하려면 인코딩(encoding) 해야한다. \n",
    "유니코드 문자열은 단순히 문자 셋의 규칙이기 때문에, 바이트(byte)문자열로 변환해야한다. = '인코딩' 의 정의 \n",
    "반대로 파일을 읽거나, 바이트 문자열을 수신할때는 어떤 인코딩 방식을 사용했는지 알아야 디코딩을 할 수 있다. "
   ]
  },
  {
   "cell_type": "code",
   "execution_count": 1,
   "metadata": {},
   "outputs": [
    {
     "name": "stdout",
     "output_type": "stream",
     "text": [
      "b'Life is too short' <class 'bytes'> <class 'str'>\n",
      "b'\\xec\\x9d\\xb8\\xec\\x83\\x9d\\xec\\x9d\\x80 \\xec\\xa7\\xa7\\xeb\\x8b\\xa4.' <class 'bytes'>\n",
      "아스키로 한글 인코딩이 불가함\n",
      "Life is too short 인생은 짧다.\n"
     ]
    }
   ],
   "source": [
    "# 유니코드 문자열 인코딩하기 \n",
    "\n",
    "a = 'Life is too short'\n",
    "b = a.encode('utf-8')\n",
    "print(b, type(b), type(a))\n",
    "\n",
    "c = '인생은 짧다.'\n",
    "d = c.encode('utf-8')\n",
    "print(d, type(d))\n",
    "\n",
    "try:\n",
    "    e = c.encode('ascii')\n",
    "except:\n",
    "    print('아스키로 한글 인코딩이 불가함')\n",
    "\n",
    "# 디코딩 \n",
    "print(b.decode('utf-8'), d.decode('utf-8'))  # 인코딩과 디코딩 방식이 동일해야함."
   ]
  },
  {
   "cell_type": "markdown",
   "metadata": {},
   "source": [
    "※ 파일을 읽거나 네트워크를 통해 데이터를 주고 받을 때 \n",
    "1. 입력으로 받은 바이트 문자열은 되도록 빨리 유니코드 문자열로 디코딩한다. \n",
    "2. 함수나 클래스 등에서는 유니코드 문자열만 사용한다. \n",
    "3. 입력에 대한 결과를 전송하는 마지막 부분에서만 유니코드 문자열을 바이트 문자열로 인코딩하여 반환한다.  "
   ]
  },
  {
   "cell_type": "code",
   "execution_count": 1,
   "metadata": {},
   "outputs": [
    {
     "ename": "FileNotFoundError",
     "evalue": "[Errno 2] No such file or directory: 'euc-kr.txt'",
     "output_type": "error",
     "traceback": [
      "\u001b[1;31m---------------------------------------------------------------------------\u001b[0m",
      "\u001b[1;31mFileNotFoundError\u001b[0m                         Traceback (most recent call last)",
      "Cell \u001b[1;32mIn[1], line 4\u001b[0m\n\u001b[0;32m      1\u001b[0m \u001b[38;5;66;03m# euc-kr 방식으로 작성한 파일을 읽고 변경하기 \u001b[39;00m\n\u001b[0;32m      2\u001b[0m \n\u001b[0;32m      3\u001b[0m \u001b[38;5;66;03m# 1. euc-kr 로 작성된 파일 읽기 \u001b[39;00m\n\u001b[1;32m----> 4\u001b[0m \u001b[38;5;28;01mwith\u001b[39;00m \u001b[38;5;28;43mopen\u001b[39;49m\u001b[43m(\u001b[49m\u001b[38;5;124;43m'\u001b[39;49m\u001b[38;5;124;43meuc-kr.txt\u001b[39;49m\u001b[38;5;124;43m'\u001b[39;49m\u001b[43m,\u001b[49m\u001b[43m \u001b[49m\u001b[43mencoding\u001b[49m\u001b[38;5;241;43m=\u001b[39;49m\u001b[38;5;124;43m'\u001b[39;49m\u001b[38;5;124;43meuc-kr\u001b[39;49m\u001b[38;5;124;43m'\u001b[39;49m\u001b[43m)\u001b[49m \u001b[38;5;28;01mas\u001b[39;00m f:\n\u001b[0;32m      5\u001b[0m     data \u001b[38;5;241m=\u001b[39m f\u001b[38;5;241m.\u001b[39mread()   \u001b[38;5;66;03m# <- data는 유니코드 문자열이다. open 할때 encoding 을 지정해주면, 지정한 방식대로 디코딩해서 불러오기 때문 \u001b[39;00m\n\u001b[0;32m      7\u001b[0m \u001b[38;5;66;03m# 2. 유니코드 문자열로 데이터 수정하기 \u001b[39;00m\n",
      "File \u001b[1;32mc:\\Users\\bmseo\\anaconda3\\lib\\site-packages\\IPython\\core\\interactiveshell.py:282\u001b[0m, in \u001b[0;36m_modified_open\u001b[1;34m(file, *args, **kwargs)\u001b[0m\n\u001b[0;32m    275\u001b[0m \u001b[38;5;28;01mif\u001b[39;00m file \u001b[38;5;129;01min\u001b[39;00m {\u001b[38;5;241m0\u001b[39m, \u001b[38;5;241m1\u001b[39m, \u001b[38;5;241m2\u001b[39m}:\n\u001b[0;32m    276\u001b[0m     \u001b[38;5;28;01mraise\u001b[39;00m \u001b[38;5;167;01mValueError\u001b[39;00m(\n\u001b[0;32m    277\u001b[0m         \u001b[38;5;124mf\u001b[39m\u001b[38;5;124m\"\u001b[39m\u001b[38;5;124mIPython won\u001b[39m\u001b[38;5;124m'\u001b[39m\u001b[38;5;124mt let you open fd=\u001b[39m\u001b[38;5;132;01m{\u001b[39;00mfile\u001b[38;5;132;01m}\u001b[39;00m\u001b[38;5;124m by default \u001b[39m\u001b[38;5;124m\"\u001b[39m\n\u001b[0;32m    278\u001b[0m         \u001b[38;5;124m\"\u001b[39m\u001b[38;5;124mas it is likely to crash IPython. If you know what you are doing, \u001b[39m\u001b[38;5;124m\"\u001b[39m\n\u001b[0;32m    279\u001b[0m         \u001b[38;5;124m\"\u001b[39m\u001b[38;5;124myou can use builtins\u001b[39m\u001b[38;5;124m'\u001b[39m\u001b[38;5;124m open.\u001b[39m\u001b[38;5;124m\"\u001b[39m\n\u001b[0;32m    280\u001b[0m     )\n\u001b[1;32m--> 282\u001b[0m \u001b[38;5;28;01mreturn\u001b[39;00m io_open(file, \u001b[38;5;241m*\u001b[39margs, \u001b[38;5;241m*\u001b[39m\u001b[38;5;241m*\u001b[39mkwargs)\n",
      "\u001b[1;31mFileNotFoundError\u001b[0m: [Errno 2] No such file or directory: 'euc-kr.txt'"
     ]
    }
   ],
   "source": [
    "# euc-kr 방식으로 작성한 파일을 읽고 변경하기 \n",
    "\n",
    "# 1. euc-kr 로 작성된 파일 읽기 \n",
    "with open('euc-kr.txt', encoding='euc-kr') as f:\n",
    "    data = f.read()   # <- data는 유니코드 문자열이다. open 할때 encoding 을 지정해주면, 지정한 방식대로 디코딩해서 불러오기 때문 \n",
    "\n",
    "# 2. 유니코드 문자열로 데이터 수정하기 \n",
    "data = data + '\\n' + '추가 문자열'\n",
    "\n",
    "# 3. euc-kr로 수정된 문자열 저장하기 \n",
    "with open('euc-kr.txt', encoding = 'euc-kr', mode='w') as f:  # encoding 항목 생략하면 자동으로 utf-8로 지정됨 \n",
    "    f.write(data)"
   ]
  }
 ],
 "metadata": {
  "kernelspec": {
   "display_name": "base",
   "language": "python",
   "name": "python3"
  },
  "language_info": {
   "codemirror_mode": {
    "name": "ipython",
    "version": 3
   },
   "file_extension": ".py",
   "mimetype": "text/x-python",
   "name": "python",
   "nbconvert_exporter": "python",
   "pygments_lexer": "ipython3",
   "version": "3.10.9"
  }
 },
 "nbformat": 4,
 "nbformat_minor": 2
}
