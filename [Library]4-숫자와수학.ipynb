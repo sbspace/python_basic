{
 "cells": [
  {
   "cell_type": "markdown",
   "metadata": {},
   "source": [
    "math 모듈을 이용한 다양한 수학 기능들 : 최대 공약수, "
   ]
  },
  {
   "cell_type": "code",
   "execution_count": 1,
   "metadata": {},
   "outputs": [
    {
     "name": "stdout",
     "output_type": "stream",
     "text": [
      "5 60\n"
     ]
    }
   ],
   "source": [
    "import math \n",
    "gcd = math.gcd(30,35,100) # greatest common divisor\n",
    "lcm = math.lcm(4,6,10) # least common multipier\n",
    "print(gcd, lcm)"
   ]
  },
  {
   "cell_type": "markdown",
   "metadata": {},
   "source": [
    "한치의 오차도 없는 소수점 연산이 필요하다면 "
   ]
  },
  {
   "cell_type": "code",
   "execution_count": 2,
   "metadata": {},
   "outputs": [
    {
     "name": "stdout",
     "output_type": "stream",
     "text": [
      "False\t0.30000000000000004\n",
      "0.3 0.3\n",
      "True\n",
      "unsupported operand type(s) for *: 'decimal.Decimal' and 'float'\n",
      "Decimal 객체는 정수연산만 가능. 실수연산시 오류발생\n"
     ]
    }
   ],
   "source": [
    "print(0.1 * 3 == 0.3, 0.1*3, sep='\\t')\n",
    "\n",
    "from decimal import Decimal\n",
    "result = Decimal('0.1') * 3\n",
    "print(result, float(result))\n",
    "print(float(result) == 0.3)\n",
    "\n",
    "# 파이썬 연산은 이진수 기반이라 10진수의 소수점 계산 시 미세한 오차 발생, \n",
    "# 따라서 정확한 소수점 계산을 원하면 decimal 모듈을 사용해야함\n",
    "\n",
    "try:\n",
    "    Decimal('0.1') * 3.0\n",
    "except Exception as e:\n",
    "    print(e)\n",
    "    print('Decimal 객체는 정수연산만 가능. 실수연산시 오류발생')"
   ]
  },
  {
   "cell_type": "markdown",
   "metadata": {},
   "source": [
    "분수(유리수) 형태로 계산이 필요하다면 ?"
   ]
  },
  {
   "cell_type": "code",
   "execution_count": 3,
   "metadata": {},
   "outputs": [
    {
     "name": "stdout",
     "output_type": "stream",
     "text": [
      "0.6000000000000001 파이썬은 분수(유리수)연산 결과를 실수로 반환해버린다.\n"
     ]
    }
   ],
   "source": [
    "print(1/5 + 2/5 , '파이썬은 분수(유리수)연산 결과를 실수로 반환해버린다.')"
   ]
  },
  {
   "cell_type": "code",
   "execution_count": 4,
   "metadata": {},
   "outputs": [
    {
     "name": "stdout",
     "output_type": "stream",
     "text": [
      "1/5\t2/5\t3/5\n",
      "<class 'fractions.Fraction'> 0.6\n",
      "2 5\n"
     ]
    }
   ],
   "source": [
    "from fractions import Fraction\n",
    "\n",
    "# 유리수를 만드는 두가지 방식\n",
    "a = Fraction(1,5)\n",
    "b = Fraction('2/5')\n",
    "print(a,b,a+b, sep='\\t')\n",
    "print(type(a+b), float(a+b))\n",
    "\n",
    "# 분자와 분모 확인\n",
    "print(b.numerator, b.denominator)"
   ]
  },
  {
   "cell_type": "markdown",
   "metadata": {},
   "source": [
    "난수 생성   "
   ]
  },
  {
   "cell_type": "code",
   "execution_count": 5,
   "metadata": {},
   "outputs": [
    {
     "name": "stdout",
     "output_type": "stream",
     "text": [
      "[6, 12, 38, 26, 21, 30]\n"
     ]
    }
   ],
   "source": [
    "import random\n",
    "\n",
    "result = []\n",
    "\n",
    "while len(result) < 6:\n",
    "    rv = random.randint(1,45)\n",
    "    if rv not in result:\n",
    "        result.append(rv)\n",
    "\n",
    "print(result)"
   ]
  },
  {
   "cell_type": "code",
   "execution_count": 6,
   "metadata": {},
   "outputs": [
    {
     "name": "stdout",
     "output_type": "stream",
     "text": [
      "[6, 30, 26, 38, 21, 12]\n",
      "38\n"
     ]
    }
   ],
   "source": [
    "random.shuffle(result)\n",
    "print(result)\n",
    "print(random.choice(result))"
   ]
  },
  {
   "cell_type": "markdown",
   "metadata": {},
   "source": [
    "평균과 중앙값 구하기"
   ]
  },
  {
   "cell_type": "code",
   "execution_count": 7,
   "metadata": {},
   "outputs": [
    {
     "name": "stdout",
     "output_type": "stream",
     "text": [
      "75.25 50.0\n"
     ]
    }
   ],
   "source": [
    "import statistics\n",
    "marks = [1, 10, 90, 200]\n",
    "\n",
    "print(statistics.mean(marks), statistics.median(marks))\n",
    "# 짝수 개수의 숫자에서 중앙값을 구하면 가운데 두값의 평균을 반환함. (10+90)/2"
   ]
  }
 ],
 "metadata": {
  "kernelspec": {
   "display_name": "base",
   "language": "python",
   "name": "python3"
  },
  "language_info": {
   "codemirror_mode": {
    "name": "ipython",
    "version": 3
   },
   "file_extension": ".py",
   "mimetype": "text/x-python",
   "name": "python",
   "nbconvert_exporter": "python",
   "pygments_lexer": "ipython3",
   "version": "3.10.9"
  }
 },
 "nbformat": 4,
 "nbformat_minor": 2
}
