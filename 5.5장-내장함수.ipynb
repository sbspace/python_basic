{
 "cells": [
  {
   "cell_type": "markdown",
   "metadata": {},
   "source": [
    "알파벳 순서로 내장함수 정리"
   ]
  },
  {
   "cell_type": "code",
   "execution_count": 1,
   "metadata": {},
   "outputs": [
    {
     "name": "stdout",
     "output_type": "stream",
     "text": [
      "True False False True\n",
      "False True False\n"
     ]
    }
   ],
   "source": [
    "# all() 은 iterable 의 모든 값이 참이면 True, 하나라도 거짓이면 False를 반환\n",
    "print(\n",
    "all([1,2,3])\n",
    ", all(i for i in range(0,5))\n",
    ", all([0])\n",
    ", all([])\n",
    ")\n",
    "\n",
    "# any() 는 iterable 의 모든 값이 거짓이면 False, 하나라도 참이면 True를 반환\n",
    "print(\n",
    "any([0,\"\"])\n",
    ", any(i for i in range(0,5))\n",
    ", any([])\n",
    ")"
   ]
  },
  {
   "cell_type": "code",
   "execution_count": 2,
   "metadata": {},
   "outputs": [
    {
     "name": "stdout",
     "output_type": "stream",
     "text": [
      "가 44032\n"
     ]
    }
   ],
   "source": [
    "# chr(i)는 유니코드 숫자 값을 입력받아 그 코드에 해당하는 문자를 리턴하는 함수 : character\n",
    "# ord(i)는 반대로 문자 값을 입력받아 해당하는 유니코드 숫자를 리턴함 : ordinal position \n",
    "# 유니코드란, 전 세계의 모든 문자를 컴퓨터에서 일관되게 표현할 수 있게 표준화한 코드 \n",
    "\n",
    "print(chr(44032), ord('가'))"
   ]
  },
  {
   "cell_type": "code",
   "execution_count": 4,
   "metadata": {},
   "outputs": [
    {
     "name": "stdout",
     "output_type": "stream",
     "text": [
      "['__add__', '__class__', '__class_getitem__', '__contains__', '__delattr__', '__delitem__', '__dir__', '__doc__', '__eq__', '__format__', '__ge__', '__getattribute__', '__getitem__', '__gt__', '__hash__', '__iadd__', '__imul__', '__init__', '__init_subclass__', '__iter__', '__le__', '__len__', '__lt__', '__mul__', '__ne__', '__new__', '__reduce__', '__reduce_ex__', '__repr__', '__reversed__', '__rmul__', '__setattr__', '__setitem__', '__sizeof__', '__str__', '__subclasshook__', 'append', 'clear', 'copy', 'count', 'extend', 'index', 'insert', 'pop', 'remove', 'reverse', 'sort']\n",
      "['__class__', '__class_getitem__', '__contains__', '__delattr__', '__delitem__', '__dir__', '__doc__', '__eq__', '__format__', '__ge__', '__getattribute__', '__getitem__', '__gt__', '__hash__', '__init__', '__init_subclass__', '__ior__', '__iter__', '__le__', '__len__', '__lt__', '__ne__', '__new__', '__or__', '__reduce__', '__reduce_ex__', '__repr__', '__reversed__', '__ror__', '__setattr__', '__setitem__', '__sizeof__', '__str__', '__subclasshook__', 'clear', 'copy', 'fromkeys', 'get', 'items', 'keys', 'pop', 'popitem', 'setdefault', 'update', 'values']\n",
      "['__abs__', '__add__', '__and__', '__bool__', '__ceil__', '__class__', '__delattr__', '__dir__', '__divmod__', '__doc__', '__eq__', '__float__', '__floor__', '__floordiv__', '__format__', '__ge__', '__getattribute__', '__getnewargs__', '__gt__', '__hash__', '__index__', '__init__', '__init_subclass__', '__int__', '__invert__', '__le__', '__lshift__', '__lt__', '__mod__', '__mul__', '__ne__', '__neg__', '__new__', '__or__', '__pos__', '__pow__', '__radd__', '__rand__', '__rdivmod__', '__reduce__', '__reduce_ex__', '__repr__', '__rfloordiv__', '__rlshift__', '__rmod__', '__rmul__', '__ror__', '__round__', '__rpow__', '__rrshift__', '__rshift__', '__rsub__', '__rtruediv__', '__rxor__', '__setattr__', '__sizeof__', '__str__', '__sub__', '__subclasshook__', '__truediv__', '__trunc__', '__xor__', 'as_integer_ratio', 'bit_count', 'bit_length', 'conjugate', 'denominator', 'from_bytes', 'imag', 'numerator', 'real', 'to_bytes']\n"
     ]
    }
   ],
   "source": [
    "# dir()은 객체가 지닌 변수나 함수를 보여준다. \n",
    "\n",
    "print(dir([1,2,3]))\n",
    "print(dir({'age':32, 'name':'song'}))"
   ]
  },
  {
   "cell_type": "code",
   "execution_count": 10,
   "metadata": {},
   "outputs": [
    {
     "name": "stdout",
     "output_type": "stream",
     "text": [
      "(21, 3)\n"
     ]
    }
   ],
   "source": [
    "# divmod() 는 나눗셈의 몫과 나머지를 반환\n",
    "\n",
    "print(divmod(150,7))"
   ]
  },
  {
   "cell_type": "code",
   "execution_count": 11,
   "metadata": {},
   "outputs": [
    {
     "name": "stdout",
     "output_type": "stream",
     "text": [
      "[(0, 'a'), (1, 'b'), (2, 'c')]\n",
      "[(0, 'a'), (1, 'b'), (2, 'c')]\n"
     ]
    }
   ],
   "source": [
    "# enumerate() 는 iterable 을 인덱스와 함꼐 반환해준다. \n",
    "\n",
    "l1 = [t for t in enumerate(['a','b','c'])]\n",
    "l2 = [(i,e) for i,e in enumerate(['a','b','c'])]\n",
    "\n",
    "print(l1, l2, sep='\\n')"
   ]
  },
  {
   "cell_type": "code",
   "execution_count": 13,
   "metadata": {},
   "outputs": [
    {
     "data": {
      "text/plain": [
       "('Hi Hi Hi ', 3, (2, 2))"
      ]
     },
     "execution_count": 13,
     "metadata": {},
     "output_type": "execute_result"
    }
   ],
   "source": [
    "# eval() 은 문자열로 구성된 표현식을 입력으로 받아 실행 결과를 리턴하는 함수 \n",
    "\n",
    "eval(\"'Hi '*3, 1+2, divmod(8,3)\")"
   ]
  },
  {
   "cell_type": "code",
   "execution_count": 15,
   "metadata": {},
   "outputs": [
    {
     "data": {
      "text/plain": [
       "'HiHiHiYes'"
      ]
     },
     "execution_count": 15,
     "metadata": {},
     "output_type": "execute_result"
    }
   ],
   "source": [
    "eval(\"'Hi'*3+'Yes'\")"
   ]
  },
  {
   "cell_type": "code",
   "execution_count": 16,
   "metadata": {},
   "outputs": [
    {
     "name": "stdout",
     "output_type": "stream",
     "text": [
      "[1, 4, 5, 10]\n"
     ]
    },
    {
     "data": {
      "text/plain": [
       "[1, 4, 5, 10]"
      ]
     },
     "execution_count": 16,
     "metadata": {},
     "output_type": "execute_result"
    }
   ],
   "source": [
    "# filter(함수, iterable) iterable의 각 데이터를 함수에 대입하여 참인 값만 필터링해서 반환한다\n",
    "\n",
    "def positive(x):\n",
    "    return x>0\n",
    "\n",
    "print(list(filter(positive, [1,-3,4,5,-9,10])))  # filter,map 과 같은 함수는 보통 list를 씌워서 출력한다\n",
    "\n",
    "# 더 쉽게 표현하려면?\n",
    "list(filter(lambda x:x>0, [1,-3,4,5,-9,10]))"
   ]
  },
  {
   "cell_type": "code",
   "execution_count": 10,
   "metadata": {},
   "outputs": [
    {
     "name": "stdout",
     "output_type": "stream",
     "text": [
      "3058650775856 3058650775856\n",
      "5 3 3058650775920 3058650775856\n"
     ]
    }
   ],
   "source": [
    "# id()는 객체가 저장된 고유 주솟값(레퍼런스)를 반환한다. \n",
    "\n",
    "a = 3\n",
    "b = a\n",
    "print(id(a), id(b))\n",
    "a=5\n",
    "print(a,b,id(a),id(b))"
   ]
  },
  {
   "cell_type": "code",
   "execution_count": 18,
   "metadata": {},
   "outputs": [
    {
     "name": "stdout",
     "output_type": "stream",
     "text": [
      "True False\n"
     ]
    }
   ],
   "source": [
    "# isinstance(객체,클래스) 입력으로 받은 객체가 해당 클래스의 인스턴스가 맞는지를 확인함 \n",
    "\n",
    "class Person: pass\n",
    "class Dog: pass\n",
    "song = Person()\n",
    "dodge = Dog()\n",
    "print(isinstance(song,Person),isinstance(dodge,Person))"
   ]
  },
  {
   "cell_type": "code",
   "execution_count": 19,
   "metadata": {},
   "outputs": [
    {
     "name": "stdout",
     "output_type": "stream",
     "text": [
      "[2, 4, 6, 8, 10]\n",
      "[2, 4, 6, 8]\n"
     ]
    }
   ],
   "source": [
    "# map(function, iterable) iterable 의 각 원소에 f 를 적용한 결과를 리턴\n",
    "\n",
    "def two_times(x):\n",
    "    return x*2\n",
    "\n",
    "print(list(map(two_times, [1,2,3,4,5])))\n",
    "print(list(map(lambda x:x*2, [1,2,3,4])))"
   ]
  },
  {
   "cell_type": "code",
   "execution_count": 20,
   "metadata": {},
   "outputs": [
    {
     "data": {
      "text/plain": [
       "[('a', 100, 1), ('b', 120, 2), ('c', 130, 3), ('d', 140, 4), ('e', 200, 5)]"
      ]
     },
     "execution_count": 20,
     "metadata": {},
     "output_type": "execute_result"
    }
   ],
   "source": [
    "# zip(*iterable) 크기가 같은 여러개 iterable 끼리 동일한 인덱스 기준으로 묶어서 반환 \n",
    "\n",
    "l1 = ['a','b','c','d','e']\n",
    "l2 = [100,120,130,140,200]\n",
    "l3 = [1,2,3,4,5]\n",
    "\n",
    "list(zip(l1,l2,l3))"
   ]
  }
 ],
 "metadata": {
  "kernelspec": {
   "display_name": "Python 3",
   "language": "python",
   "name": "python3"
  },
  "language_info": {
   "codemirror_mode": {
    "name": "ipython",
    "version": 3
   },
   "file_extension": ".py",
   "mimetype": "text/x-python",
   "name": "python",
   "nbconvert_exporter": "python",
   "pygments_lexer": "ipython3",
   "version": "3.10.9"
  }
 },
 "nbformat": 4,
 "nbformat_minor": 2
}
