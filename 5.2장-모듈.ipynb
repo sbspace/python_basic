{
 "cells": [
  {
   "cell_type": "markdown",
   "metadata": {},
   "source": [
    "모듈이란? 함수,변수,클래스 등을 모아놓은 파이썬 '파일'(.py)\n",
    "\n",
    "모듈 불러오는 방법\n",
    "1) import 모듈 -> 모듈 전체 불러오기. 불러온 모듈안의 매서드 사용하려면 '모듈.매서드' 로 실행\n",
    "2) from 모듈 import 매서드 ->  '모듈.매서드' 말고 그냥 바로 매서드를 호출가능 (하지만 다른 매서드는 못씀)\n",
    "3) from 모듈 import * -> 모듈 전체를 불러오되, 모듈. 없이 매서드 바로 호출 가능 "
   ]
  },
  {
   "cell_type": "code",
   "execution_count": 1,
   "metadata": {},
   "outputs": [
    {
     "name": "stdout",
     "output_type": "stream",
     "text": [
      "7\n",
      "1 19\n",
      "mod1 __main__\n"
     ]
    }
   ],
   "source": [
    "### if__name__ == \"__main__\":   의 의미 \n",
    "''' 모듈에 함수만 불러오고 싶다면, 실행문들은 if__name__ 문으로 감싸줘야함''' \n",
    "\n",
    "import mod1\n",
    "print(mod1.add(3,4))\n",
    "\n",
    "from mod1 import add, sub\n",
    "print(sub(10,9), add(10,9))\n",
    "\n",
    "# __name__ 변수란?  모듈을 불러올때는 그 모듈의 이름이 저장되고, 자기자신 모듈일 경우 __main__을 저장함\n",
    "print(mod1.__name__, __name__)"
   ]
  },
  {
   "cell_type": "code",
   "execution_count": 2,
   "metadata": {},
   "outputs": [
    {
     "name": "stdout",
     "output_type": "stream",
     "text": [
      "3.141592 28.274328 6\n"
     ]
    }
   ],
   "source": [
    "## 클래스와 변수를 포함한 모듈 \n",
    "\n",
    "from mod2 import *\n",
    "\n",
    "circle = Math()\n",
    "print(PI, circle.solv(3), addd(3,3))"
   ]
  },
  {
   "cell_type": "code",
   "execution_count": 4,
   "metadata": {},
   "outputs": [
    {
     "name": "stdout",
     "output_type": "stream",
     "text": [
      "['c:\\\\Users\\\\bmseo\\\\AppData\\\\Local\\\\Programs\\\\Python\\\\Python312\\\\python312.zip', 'c:\\\\Users\\\\bmseo\\\\AppData\\\\Local\\\\Programs\\\\Python\\\\Python312\\\\DLLs', 'c:\\\\Users\\\\bmseo\\\\AppData\\\\Local\\\\Programs\\\\Python\\\\Python312\\\\Lib', 'c:\\\\Users\\\\bmseo\\\\AppData\\\\Local\\\\Programs\\\\Python\\\\Python312', '', 'C:\\\\Users\\\\bmseo\\\\AppData\\\\Roaming\\\\Python\\\\Python312\\\\site-packages', 'C:\\\\Users\\\\bmseo\\\\AppData\\\\Roaming\\\\Python\\\\Python312\\\\site-packages\\\\win32', 'C:\\\\Users\\\\bmseo\\\\AppData\\\\Roaming\\\\Python\\\\Python312\\\\site-packages\\\\win32\\\\lib', 'C:\\\\Users\\\\bmseo\\\\AppData\\\\Roaming\\\\Python\\\\Python312\\\\site-packages\\\\Pythonwin', 'c:\\\\Users\\\\bmseo\\\\AppData\\\\Local\\\\Programs\\\\Python\\\\Python312\\\\Lib\\\\site-packages'] <class 'list'>\n",
      "3.141592\n"
     ]
    },
    {
     "name": "stderr",
     "output_type": "stream",
     "text": [
      "<>:12: SyntaxWarning: invalid escape sequence '\\P'\n",
      "<>:12: SyntaxWarning: invalid escape sequence '\\P'\n",
      "C:\\Users\\bmseo\\AppData\\Local\\Temp\\ipykernel_13472\\1869075321.py:12: SyntaxWarning: invalid escape sequence '\\P'\n",
      "  sys.path.append(\"G:\\내 드라이브\\Python\\점프투파이썬\\모듈모음\")\n"
     ]
    }
   ],
   "source": [
    "## 다른 디렉토리에 있는 모듈 불러오기 \n",
    "\n",
    "import sys\n",
    "'''sys.path 는 파이썬 라이브러리가 설치된 디렉터리 목록을 리스트 형태로 보여줌, \n",
    "이 디렉터리 안에 저장된 파이썬 모듈은 디렉터리 이동없이 바로 불러올 수 있음\n",
    "따라서, 불러오고자 하는 모듈의 디렉토리 경로를 sys.path 에 추가하면 모듈을 쉽게 불러올 수 있다.\n",
    "\n",
    "이렇게 하지 않고, 다른 방법으로 다른 디렉터리에 있는 파일 불러오는 법은? \n",
    "'''\n",
    "print(sys.path, type(sys.path))  \n",
    "\n",
    "sys.path.append(\"G:\\내 드라이브\\Python\\점프투파이썬\\모듈모음\")\n",
    "\n",
    "import mod3\n",
    "print(mod3.PI)"
   ]
  },
  {
   "cell_type": "markdown",
   "metadata": {},
   "source": [
    "명령 프롬프트에서 다른 디렉터리 모듈을 불러오려면?\n",
    "set 명령어를 사용해서 -> set PYTHONPATH='경로' -> python 실행 -> import "
   ]
  }
 ],
 "metadata": {
  "kernelspec": {
   "display_name": "base",
   "language": "python",
   "name": "python3"
  },
  "language_info": {
   "codemirror_mode": {
    "name": "ipython",
    "version": 3
   },
   "file_extension": ".py",
   "mimetype": "text/x-python",
   "name": "python",
   "nbconvert_exporter": "python",
   "pygments_lexer": "ipython3",
   "version": "3.10.9"
  }
 },
 "nbformat": 4,
 "nbformat_minor": 2
}
