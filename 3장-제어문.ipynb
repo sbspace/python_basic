{
 "cells": [
  {
   "cell_type": "code",
   "execution_count": 3,
   "metadata": {},
   "outputs": [],
   "source": [
    "#### if 문 \n",
    "money, card= 2000, False\n",
    "pocket = ['paper', 'card', 'phone']\n",
    "\n",
    "if money >= 3000 or card or 'cards' in pocket:\n",
    "    print('taxi')\n",
    "elif 'phone' not in pocket:\n",
    "    pass\n",
    "else:\n",
    "    print('just walk')"
   ]
  },
  {
   "cell_type": "code",
   "execution_count": 4,
   "metadata": {},
   "outputs": [
    {
     "name": "stdout",
     "output_type": "stream",
     "text": [
      "sol = just walk\n"
     ]
    }
   ],
   "source": [
    "# 변수를 통한 조건부 표현식    \n",
    "solution = \"taxi\" if money >= 3000 or card or 'card1' in pocket  else \"just walk\" # elif 는 사용못함 \n",
    "print('sol =', solution)"
   ]
  },
  {
   "cell_type": "code",
   "execution_count": 10,
   "metadata": {},
   "outputs": [
    {
     "name": "stdout",
     "output_type": "stream",
     "text": [
      "잔돈과 커피를 드립니다\n",
      "잔돈은 200원 입니다. 잔여 커피 개수는9개 입니다.\n",
      "커피를 드리겠습니다.\n",
      "잔여 커피 개수는8개 입니다.\n",
      "커피를 드리겠습니다.\n",
      "잔여 커피 개수는7개 입니다.\n"
     ]
    },
    {
     "ename": "ValueError",
     "evalue": "invalid literal for int() with base 10: ''",
     "output_type": "error",
     "traceback": [
      "\u001b[1;31m---------------------------------------------------------------------------\u001b[0m",
      "\u001b[1;31mValueError\u001b[0m                                Traceback (most recent call last)",
      "Cell \u001b[1;32mIn[10], line 6\u001b[0m\n\u001b[0;32m      3\u001b[0m coffee \u001b[38;5;241m=\u001b[39m \u001b[38;5;241m10\u001b[39m \n\u001b[0;32m      5\u001b[0m \u001b[38;5;28;01mwhile\u001b[39;00m \u001b[38;5;28;01mTrue\u001b[39;00m:\n\u001b[1;32m----> 6\u001b[0m     money \u001b[38;5;241m=\u001b[39m \u001b[38;5;28;43mint\u001b[39;49m\u001b[43m(\u001b[49m\u001b[38;5;28;43minput\u001b[39;49m\u001b[43m(\u001b[49m\u001b[43m)\u001b[49m\u001b[43m)\u001b[49m\n\u001b[0;32m      7\u001b[0m     \u001b[38;5;28;01mif\u001b[39;00m money \u001b[38;5;241m>\u001b[39m \u001b[38;5;241m300\u001b[39m:\n\u001b[0;32m      8\u001b[0m         \u001b[38;5;28mprint\u001b[39m(\u001b[38;5;124m'\u001b[39m\u001b[38;5;124m잔돈과 커피를 드립니다\u001b[39m\u001b[38;5;124m'\u001b[39m)\n",
      "\u001b[1;31mValueError\u001b[0m: invalid literal for int() with base 10: ''"
     ]
    }
   ],
   "source": [
    "#### while 문\n",
    "\n",
    "coffee = 10 \n",
    "\n",
    "while True:\n",
    "    money = int(input())\n",
    "    if money > 300:\n",
    "        print('잔돈과 커피를 드립니다')\n",
    "        coffee -= 1\n",
    "        print(f'잔돈은 {money-300}원 입니다. 잔여 커피 개수는{coffee}개 입니다.')\n",
    "    elif money == 300:\n",
    "        print('커피를 드리겠습니다.')\n",
    "        coffee -= 1\n",
    "        print(f'잔여 커피 개수는{coffee}개 입니다.')\n",
    "    else:\n",
    "        print('금액이 부족합니다')\n",
    "        print(f'{money}원을 돌려드리겠습니다. 잔여 커피 개수는 {coffee}개 입니다.')\n",
    "    if coffee ==0:\n",
    "        print('장사 끝')\n",
    "        break"
   ]
  },
  {
   "cell_type": "code",
   "execution_count": 11,
   "metadata": {},
   "outputs": [
    {
     "name": "stdout",
     "output_type": "stream",
     "text": [
      "1\n",
      "2\n",
      "4\n",
      "5\n",
      "7\n",
      "8\n",
      "10\n"
     ]
    }
   ],
   "source": [
    "# 1~10 까지 3의배수 빼고 출력\n",
    "\n",
    "a = 0 \n",
    "while a < 10 :\n",
    "    a += 1\n",
    "    if a%3 == 0:\n",
    "        continue  # continue 는 while 문의 처음으로 돌아감, pass를 쓴다면?\n",
    "    print(a)"
   ]
  }
 ],
 "metadata": {
  "kernelspec": {
   "display_name": "sbs",
   "language": "python",
   "name": "python3"
  },
  "language_info": {
   "codemirror_mode": {
    "name": "ipython",
    "version": 3
   },
   "file_extension": ".py",
   "mimetype": "text/x-python",
   "name": "python",
   "nbconvert_exporter": "python",
   "pygments_lexer": "ipython3",
   "version": "3.12.3"
  }
 },
 "nbformat": 4,
 "nbformat_minor": 2
}
