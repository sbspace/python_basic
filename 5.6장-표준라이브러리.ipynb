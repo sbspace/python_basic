{
 "cells": [
  {
   "cell_type": "markdown",
   "metadata": {},
   "source": [
    "표준 라이브러리란, 파이썬 설치 시 기본으로 깔려있는 라이브러리 "
   ]
  },
  {
   "cell_type": "code",
   "execution_count": 2,
   "metadata": {},
   "outputs": [
    {
     "name": "stdout",
     "output_type": "stream",
     "text": [
      "2024-05-29\t2021-08-17\t1016 days, 0:00:00\n",
      "<class 'datetime.date'> <class 'datetime.timedelta'>\n",
      "1 2\n"
     ]
    }
   ],
   "source": [
    "# datetime.date 는 연,월,일로 날짜를 표현할 떄 사용\n",
    "\n",
    "import datetime\n",
    "day1 = datetime.date(2021, 8, 17)\n",
    "day2 = datetime.date(2024, 5, 29)\n",
    "print(day2, day1, day2-day1, sep='\\t')\n",
    "print(type(day2), type(day2-day1))\n",
    "print(day1.weekday(), day1.isoweekday())  # iso는 1부터 월요일"
   ]
  },
  {
   "cell_type": "code",
   "execution_count": 8,
   "metadata": {},
   "outputs": [
    {
     "name": "stdout",
     "output_type": "stream",
     "text": [
      "2025-01-10\t2025-01-10 13:47:35.274452\t2025-01-10 15:20:30\n",
      "<class 'datetime.date'> <class 'datetime.datetime'> <class 'datetime.datetime'>\n",
      "1 10 <class 'int'>\n",
      "13 35 <class 'int'> <class 'int'>\n",
      "13 47 <class 'str'>\n",
      "2025년---01월---10일 /// 13::시::47::분::35초\n"
     ]
    }
   ],
   "source": [
    "# 오늘 날짜, 현재 시간 출력\n",
    "\n",
    "today = datetime.date.today()\n",
    "now = datetime.datetime.now()\n",
    "sometime = datetime.datetime(2025,1,10,15,20,30)\n",
    "print(today, now, sometime, sep='\\t')\n",
    "print(type(today), type(now), type(sometime))\n",
    "\n",
    "# 오늘날짜에서 월과 일 뽑기 \n",
    "print(today.month, today.day, type(today.month))\n",
    "print(now.hour, now.second, type(now.hour), type(now.second))\n",
    "\n",
    "# 현재시간에서 시간과 분 뽑기\n",
    "print(now.strftime(\"%H\"), now.strftime(\"%M\"), type(now.strftime(\"%H\")))  # string format time\n",
    "print(now.strftime(\"%Y년---%m월---%d일 /// %H::시::%M::분::%S초\"))"
   ]
  },
  {
   "cell_type": "code",
   "execution_count": 4,
   "metadata": {},
   "outputs": [
    {
     "name": "stdout",
     "output_type": "stream",
     "text": [
      "1730697172.9655435\n",
      "time.struct_time(tm_year=2024, tm_mon=11, tm_mday=4, tm_hour=14, tm_min=12, tm_sec=52, tm_wday=0, tm_yday=309, tm_isdst=0)\n",
      "Mon Nov  4 14:12:52 2024\n",
      "Mon Nov  4 14:12:52 2024\n",
      "11/04/24 -- 14:12:52\n"
     ]
    },
    {
     "data": {
      "text/plain": [
       "' localtime, asctime, strftime 은 인수없이 사용하면 현재시간 기준으로해줌'"
      ]
     },
     "execution_count": 4,
     "metadata": {},
     "output_type": "execute_result"
    }
   ],
   "source": [
    "# time 모듈의 여러가지 함수 \n",
    "import time \n",
    "\n",
    "print(time.time())    #현재 시간을 실수로 반환  \n",
    "print(time.localtime(time.time()))    # 실수의 현재시간을 구조적 형태로 변경\n",
    "print(time.asctime(time.localtime(time.time())))   #localtime 을 알아보기 쉽게 변경 \n",
    "print(time.ctime())  # ctime 은 현재시간에 대해서만 작동 time.time() 을 알아보기 쉽게 변경하는 기능 \n",
    "print(time.strftime('%x -- %X',time.localtime(time.time())))  # 출력하고자하는 포맷에 맞추어 문자열로 표현해줌\n",
    "\n",
    "''' localtime, asctime, strftime 은 인수없이 사용하면 현재시간 기준으로해줌'''"
   ]
  },
  {
   "cell_type": "code",
   "execution_count": null,
   "metadata": {},
   "outputs": [],
   "source": [
    "for i in range(5):\n",
    "    print(i)\n",
    "    time.sleep(1)"
   ]
  },
  {
   "cell_type": "code",
   "execution_count": null,
   "metadata": {},
   "outputs": [],
   "source": [
    "# 최대공약수와 최소공배수 \n",
    "import math\n",
    "print(math.gcd(60,80,100), math.lcm(16,20,15))"
   ]
  },
  {
   "cell_type": "code",
   "execution_count": 5,
   "metadata": {},
   "outputs": [
    {
     "name": "stdout",
     "output_type": "stream",
     "text": [
      "0.4942346327267123 43\n"
     ]
    }
   ],
   "source": [
    "# random 모듈\n",
    "\n",
    "import random\n",
    "print(random.random(), random.randint(1,55))"
   ]
  },
  {
   "cell_type": "code",
   "execution_count": 8,
   "metadata": {},
   "outputs": [
    {
     "name": "stdout",
     "output_type": "stream",
     "text": [
      "3\n",
      "1\n",
      "2\n",
      "4\n",
      "5\n"
     ]
    }
   ],
   "source": [
    "data = [1,2,3,4,5]\n",
    "\n",
    "def random_pop(data):\n",
    "    number = random.randint(0,len(data)-1)\n",
    "    return data.pop(number)\n",
    "\n",
    "while data:\n",
    "    print(random_pop(data))\n",
    "\n"
   ]
  },
  {
   "cell_type": "code",
   "execution_count": 24,
   "metadata": {},
   "outputs": [
    {
     "name": "stdout",
     "output_type": "stream",
     "text": [
      "2\n",
      "5\n",
      "3\n",
      "4\n",
      "1\n"
     ]
    }
   ],
   "source": [
    "data = [1,2,3,4,5]\n",
    "\n",
    "def random_pop_rev(data):\n",
    "    number = random.choice(data)\n",
    "    data.remove(number)\n",
    "    return number\n",
    "\n",
    "while data:\n",
    "    print(random_pop_rev(data))"
   ]
  },
  {
   "cell_type": "code",
   "execution_count": 25,
   "metadata": {},
   "outputs": [
    {
     "name": "stdout",
     "output_type": "stream",
     "text": [
      "[('a', 'A'), ('b', 'B'), ('c', 'C'), ('X', 'D'), ('X', 'E')]\n",
      "[('a', 'A'), ('b', 'B'), ('c', 'C')]\n"
     ]
    }
   ],
   "source": [
    "# itertools.zip_logest(*iterables, fillvalue=None) : zip 함수와 동일한데 서로다른 길이의 iterable 에도 적용가능함 \n",
    "\n",
    "import itertools\n",
    "\n",
    "l1 = ['a','b','c']\n",
    "l2 = ['A','B','C','D','E']\n",
    "\n",
    "print(list(itertools.zip_longest(l1,l2,fillvalue='X')))\n",
    "print(list(zip(l1,l2)))"
   ]
  },
  {
   "cell_type": "code",
   "execution_count": 26,
   "metadata": {},
   "outputs": [
    {
     "name": "stdout",
     "output_type": "stream",
     "text": [
      "[(1, 2), (1, 3), (2, 1), (2, 3), (3, 1), (3, 2)]\n",
      "[(1, 2), (1, 3), (2, 3)]\n",
      "45 <class 'itertools.combinations'>\n"
     ]
    }
   ],
   "source": [
    "# itertools.permutations(iterable,r) : 순열(p)을 구해주는 함수 \n",
    "# itertools.combination(iterable,r) : 조합(c)을 구해주는 함수 \n",
    "\n",
    "import itertools\n",
    "print(list(itertools.permutations([1,2,3],2)))\n",
    "print(list(itertools.combinations([1,2,3],2)))\n",
    "\n",
    "\n",
    "it = itertools.combinations([i for i in range(10)],2)\n",
    "\n",
    "'''for comb in it:\n",
    "    print(comb)'''\n",
    "\n",
    "print(len(list(it)), type(it))"
   ]
  },
  {
   "cell_type": "code",
   "execution_count": 27,
   "metadata": {},
   "outputs": [
    {
     "name": "stdout",
     "output_type": "stream",
     "text": [
      "sum =  15  max =  5\n"
     ]
    }
   ],
   "source": [
    "# functools.reduce(function, iterable) : function 을 iterable 의 요소에 왼쪽에서 오른쪽으로 차례대로 누적하여 적용하는것 \n",
    "\n",
    "import functools\n",
    "\n",
    "l1 = [3,2,1,5,4]\n",
    "sum = functools.reduce(lambda x,y : x + y, l1)\n",
    "max = functools.reduce(lambda x,y : x if x>y else y, l1)\n",
    "print('sum = ', sum, ' max = ', max) "
   ]
  },
  {
   "cell_type": "code",
   "execution_count": 32,
   "metadata": {},
   "outputs": [
    {
     "name": "stdout",
     "output_type": "stream",
     "text": [
      "[('koo', 28, 'C'), ('song', 32, 'B'), ('baek', 55, 'A')]\n",
      "[{'name': 'koo', 'age': 28}, {'name': 'song', 'age': 32}, {'name': 'baek', 'age': 55}]\n"
     ]
    }
   ],
   "source": [
    "# operator.itemgetter: 주로 sorted 와 같은 함수의 key 매개변수에 적용하여 다양한 기준으로 정렬할 수 있게 도와줌 \n",
    "\n",
    "from operator import itemgetter\n",
    "\n",
    "students = [('song',32,'B'), ('baek',55,'A'), ('koo',28,'C')]\n",
    "result = sorted(students, key=itemgetter(2), reverse=True)\n",
    "print(result)\n",
    "\n",
    "studentsdict = [{'name':'song', 'age':32}, {'name':'baek', 'age':55}, {'name':'koo', 'age':28}]\n",
    "result = sorted(studentsdict, key=itemgetter('age'))\n",
    "print(result)"
   ]
  },
  {
   "cell_type": "code",
   "execution_count": 13,
   "metadata": {},
   "outputs": [
    {
     "name": "stdout",
     "output_type": "stream",
     "text": [
      "['G:/내 드라이브/Python\\\\3분_파이토치', 'G:/내 드라이브/Python\\\\점프투파이썬', 'G:/내 드라이브/Python\\\\WSL', 'G:/내 드라이브/Python\\\\wikidocs_12.html', 'G:/내 드라이브/Python\\\\점투파-라이브러리']\n",
      "['G:/내 드라이브/Python/점프투파이썬\\\\점프투.txt', 'G:/내 드라이브/Python/점프투파이썬\\\\myargv.py', 'G:/내 드라이브/Python/점프투파이썬\\\\4.3장-프로그램입출력.py', 'G:/내 드라이브/Python/점프투파이썬\\\\새파일2.txt', 'G:/내 드라이브/Python/점프투파이썬\\\\새파일.txt', 'G:/내 드라이브/Python/점프투파이썬\\\\__pycache__', 'G:/내 드라이브/Python/점프투파이썬\\\\mod1.py', 'G:/내 드라이브/Python/점프투파이썬\\\\mod2.py', 'G:/내 드라이브/Python/점프투파이썬\\\\모듈모음', 'G:/내 드라이브/Python/점프투파이썬\\\\game', 'G:/내 드라이브/Python/점프투파이썬\\\\5.6장-표준라이브러리.ipynb', 'G:/내 드라이브/Python/점프투파이썬\\\\5.5장-내장함수.ipynb', 'G:/내 드라이브/Python/점프투파이썬\\\\test.txt', 'G:/내 드라이브/Python/점프투파이썬\\\\5.7장-외부라이브러리.ipynb', 'G:/내 드라이브/Python/점프투파이썬\\\\wikidocs_12.html', 'G:/내 드라이브/Python/점프투파이썬\\\\6.1장-파이썬프로그래밍.ipynb', 'G:/내 드라이브/Python/점프투파이썬\\\\memo.py', 'G:/내 드라이브/Python/점프투파이썬\\\\memo.txt', 'G:/내 드라이브/Python/점프투파이썬\\\\a.txt', 'G:/내 드라이브/Python/점프투파이썬\\\\tabto4.py', 'G:/내 드라이브/Python/점프투파이썬\\\\b.txt', 'G:/내 드라이브/Python/점프투파이썬\\\\sub_dir_search.py', 'G:/내 드라이브/Python/점프투파이썬\\\\7.1장-유니코드.ipynb', 'G:/내 드라이브/Python/점프투파이썬\\\\7.2장-클로저와데코레이터.ipynb', 'G:/내 드라이브/Python/점프투파이썬\\\\7.3장-이터레이터와 제너레이터.ipynb', 'G:/내 드라이브/Python/점프투파이썬\\\\7.4장-타입어노테이션.ipynb', 'G:/내 드라이브/Python/점프투파이썬\\\\8장-정규표현식.ipynb', 'G:/내 드라이브/Python/점프투파이썬\\\\5.4장-예외(오류)처리.ipynb', 'G:/내 드라이브/Python/점프투파이썬\\\\5.3장-패키지.ipynb', 'G:/내 드라이브/Python/점프투파이썬\\\\5.2장-모듈.ipynb', 'G:/내 드라이브/Python/점프투파이썬\\\\5.1장-클래스.ipynb', 'G:/내 드라이브/Python/점프투파이썬\\\\4.3장-프로그램입출력.ipynb', 'G:/내 드라이브/Python/점프투파이썬\\\\4.2장-파일읽고쓰기.ipynb', 'G:/내 드라이브/Python/점프투파이썬\\\\4.1장-사용자함수.ipynb', 'G:/내 드라이브/Python/점프투파이썬\\\\3장-제어문.ipynb', 'G:/내 드라이브/Python/점프투파이썬\\\\2장-자료형.ipynb', 'G:/내 드라이브/Python/점프투파이썬\\\\퀴즈.ipynb', 'G:/내 드라이브/Python/점프투파이썬\\\\abc.txt', 'G:/내 드라이브/Python/점프투파이썬\\\\sample.txt', 'G:/내 드라이브/Python/점프투파이썬\\\\result.txt']\n",
      "['G:/내 드라이브/Python/점프투파이썬\\\\5.6장-표준라이브러리.ipynb', 'G:/내 드라이브/Python/점프투파이썬\\\\5.5장-내장함수.ipynb', 'G:/내 드라이브/Python/점프투파이썬\\\\5.7장-외부라이브러리.ipynb', 'G:/내 드라이브/Python/점프투파이썬\\\\5.4장-예외(오류)처리.ipynb', 'G:/내 드라이브/Python/점프투파이썬\\\\5.3장-패키지.ipynb', 'G:/내 드라이브/Python/점프투파이썬\\\\5.2장-모듈.ipynb', 'G:/내 드라이브/Python/점프투파이썬\\\\5.1장-클래스.ipynb']\n",
      "['G:/내 드라이브/Python/점프투파이썬\\\\4.3장-프로그램입출력.ipynb', 'G:/내 드라이브/Python/점프투파이썬\\\\4.2장-파일읽고쓰기.ipynb', 'G:/내 드라이브/Python/점프투파이썬\\\\4.1장-사용자함수.ipynb']\n"
     ]
    }
   ],
   "source": [
    "# glob : 디렉터리에 있는 모든 파일을 읽어야할때 \n",
    "\n",
    "import glob\n",
    "print(glob.glob(\"G:/내 드라이브/Python/*\"))\n",
    "print(glob.glob(\"G:/내 드라이브/Python/점프투파이썬/*\"))\n",
    "# G:/내 드라이브/파이썬공부/    라는 경로의 디렉터리 안에 5로 시작하는 모든 파일 명\n",
    "print(glob.glob(\"G:/내 드라이브/Python/점프투파이썬/5.*\"))\n",
    "print(glob.glob(\"G:/내 드라이브/Python/점프투파이썬/4*-*.ipynb\"))"
   ]
  },
  {
   "cell_type": "code",
   "execution_count": 14,
   "metadata": {},
   "outputs": [
    {
     "name": "stdout",
     "output_type": "stream",
     "text": [
      "{3: 'java', 4: 'you dont need'} {1: 'python', 2: 'you need'}\n"
     ]
    }
   ],
   "source": [
    "# pickle : 객체의 형태를 그대로 유지하면서 파일에 저장하고, 불러오게 할 수 있는 모듈\n",
    "# pickle 모듈의 dump 와 load 를 이용하면 어떠한 자료형이든 저장하고 불러올 수 있다. \n",
    "\n",
    "import pickle \n",
    "\n",
    "f = open(\"test.txt\", 'wb')\n",
    "data = {1:'python', 2:'you need'}\n",
    "data2 = {3:'java', 4:'you dont need'}\n",
    "\n",
    "pickle.dump(data2, f)   # data 라는 딕셔너리 객체의 형태 그대로 f 라는 파일에 저장\n",
    "pickle.dump(data, f)\n",
    "f.close()\n",
    "\n",
    "f = open(\"test.txt\", 'rb')\n",
    "d = pickle.load(f)   # pickle.load()는 객체를 하나씩 불러온다. 파일에서 첫 번째 객체를 불러온 다음, 파일 포인터가 첫 번째 객체 끝에 위치합니다. \n",
    "c = pickle.load(f)\n",
    "print(d,c)"
   ]
  },
  {
   "cell_type": "code",
   "execution_count": 16,
   "metadata": {},
   "outputs": [
    {
     "name": "stdout",
     "output_type": "stream",
     "text": [
      "environ({'ALLUSERSPROFILE': 'C:\\\\ProgramData', 'APPDATA': 'C:\\\\Users\\\\bmseo\\\\AppData\\\\Roaming', 'CHROME_CRASHPAD_PIPE_NAME': '\\\\\\\\.\\\\pipe\\\\crashpad_160800_MVYUKAGOFMOKCCVG', 'COMMONPROGRAMFILES': 'C:\\\\Program Files\\\\Common Files', 'COMMONPROGRAMFILES(X86)': 'C:\\\\Program Files (x86)\\\\Common Files', 'COMMONPROGRAMW6432': 'C:\\\\Program Files\\\\Common Files', 'COMPUTERNAME': 'LAPTOP-1HLMSM59', 'COMSPEC': 'C:\\\\Windows\\\\system32\\\\cmd.exe', 'CONDA_DEFAULT_ENV': 'base', 'CONDA_EXE': 'C:\\\\Users\\\\bmseo\\\\anaconda3\\\\Scripts\\\\conda.exe', 'CONDA_PREFIX': 'C:\\\\Users\\\\bmseo\\\\anaconda3', 'CONDA_PROMPT_MODIFIER': '(base) ', 'CONDA_PYTHON_EXE': 'C:\\\\Users\\\\bmseo\\\\anaconda3\\\\python.exe', 'CONDA_ROOT': 'C:\\\\Users\\\\bmseo\\\\anaconda3', 'CONDA_SHLVL': '1', 'DRIVERDATA': 'C:\\\\Windows\\\\System32\\\\Drivers\\\\DriverData', 'ELECTRON_RUN_AS_NODE': '1', 'HOMEDRIVE': 'C:', 'HOMEPATH': '\\\\Users\\\\bmseo', 'JPY_INTERRUPT_EVENT': '2384', 'LOCALAPPDATA': 'C:\\\\Users\\\\bmseo\\\\AppData\\\\Local', 'LOGONSERVER': '\\\\\\\\LAPTOP-1HLMSM59', 'NUMBER_OF_PROCESSORS': '12', 'ONEDRIVE': 'C:\\\\Users\\\\bmseo\\\\OneDrive', 'ONEDRIVECONSUMER': 'C:\\\\Users\\\\bmseo\\\\OneDrive', 'ORIGINAL_XDG_CURRENT_DESKTOP': 'undefined', 'OS': 'Windows_NT', 'PATH': 'c:\\\\Users\\\\bmseo\\\\anaconda3;C:\\\\Users\\\\bmseo\\\\anaconda3;C:\\\\Users\\\\bmseo\\\\anaconda3\\\\Library\\\\mingw-w64\\\\bin;C:\\\\Users\\\\bmseo\\\\anaconda3\\\\Library\\\\usr\\\\bin;C:\\\\Users\\\\bmseo\\\\anaconda3\\\\Library\\\\bin;C:\\\\Users\\\\bmseo\\\\anaconda3\\\\Scripts;C:\\\\Users\\\\bmseo\\\\anaconda3\\\\bin;C:\\\\Users\\\\bmseo\\\\anaconda3\\\\condabin;C:\\\\Windows\\\\system32;C:\\\\Windows;C:\\\\Windows\\\\System32\\\\Wbem;C:\\\\Windows\\\\System32\\\\WindowsPowerShell\\\\v1.0;C:\\\\Windows\\\\System32\\\\OpenSSH;C:\\\\Program Files\\\\Git\\\\cmd;C:\\\\Users\\\\bmseo\\\\anaconda3;C:\\\\Users\\\\bmseo\\\\anaconda3\\\\Library\\\\mingw-w64\\\\bin;C:\\\\Users\\\\bmseo\\\\anaconda3\\\\Library\\\\usr\\\\bin;C:\\\\Users\\\\bmseo\\\\anaconda3\\\\Library\\\\bin;C:\\\\Users\\\\bmseo\\\\anaconda3\\\\Scripts;C:\\\\Users\\\\bmseo\\\\AppData\\\\Local\\\\Microsoft\\\\WindowsApps;C:\\\\Users\\\\bmseo\\\\AppData\\\\Local\\\\Programs\\\\Microsoft VS Code\\\\bin;C:\\\\Users\\\\bmseo\\\\AppData\\\\Local\\\\GitHubDesktop\\\\bin', 'PATHEXT': '.COM;.EXE;.BAT;.CMD;.VBS;.VBE;.JS;.JSE;.WSF;.WSH;.MSC', 'PROCESSOR_ARCHITECTURE': 'AMD64', 'PROCESSOR_IDENTIFIER': 'Intel64 Family 6 Model 141 Stepping 1, GenuineIntel', 'PROCESSOR_LEVEL': '6', 'PROCESSOR_REVISION': '8d01', 'PROGRAMDATA': 'C:\\\\ProgramData', 'PROGRAMFILES': 'C:\\\\Program Files', 'PROGRAMFILES(X86)': 'C:\\\\Program Files (x86)', 'PROGRAMW6432': 'C:\\\\Program Files', 'PROMPT': '(base) $P$G', 'PSMODULEPATH': 'C:\\\\Program Files\\\\WindowsPowerShell\\\\Modules;C:\\\\Windows\\\\system32\\\\WindowsPowerShell\\\\v1.0\\\\Modules', 'PUBLIC': 'C:\\\\Users\\\\Public', 'PYDEVD_IPYTHON_COMPATIBLE_DEBUGGING': '1', 'PYTHONIOENCODING': 'utf-8', 'PYTHONUNBUFFERED': '1', 'PYTHONUTF8': '1', 'PYTHON_FROZEN_MODULES': 'on', 'SESSIONNAME': 'Console', 'SYSTEMDRIVE': 'C:', 'SYSTEMROOT': 'C:\\\\Windows', 'TEMP': 'C:\\\\Users\\\\bmseo\\\\AppData\\\\Local\\\\Temp', 'TMP': 'C:\\\\Users\\\\bmseo\\\\AppData\\\\Local\\\\Temp', 'USERDOMAIN': 'LAPTOP-1HLMSM59', 'USERDOMAIN_ROAMINGPROFILE': 'LAPTOP-1HLMSM59', 'USERNAME': 'bmseo', 'USERPROFILE': 'C:\\\\Users\\\\bmseo', 'VSCODE_CODE_CACHE_PATH': 'C:\\\\Users\\\\bmseo\\\\AppData\\\\Roaming\\\\Code\\\\CachedData\\\\fabdb6a30b49f79a7aba0f2ad9df9b399473380f', 'VSCODE_CRASH_REPORTER_PROCESS_TYPE': 'extensionHost', 'VSCODE_CWD': 'C:\\\\Users\\\\bmseo\\\\AppData\\\\Local\\\\Programs\\\\Microsoft VS Code', 'VSCODE_ESM_ENTRYPOINT': 'vs/workbench/api/node/extensionHostProcess', 'VSCODE_HANDLES_UNCAUGHT_ERRORS': 'true', 'VSCODE_IPC_HOOK': '\\\\\\\\.\\\\pipe\\\\4a14b2e9-1.96.2-main-sock', 'VSCODE_L10N_BUNDLE_LOCATION': '', 'VSCODE_NLS_CONFIG': '{\"userLocale\":\"en-us\",\"osLocale\":\"ko\",\"resolvedLanguage\":\"en\",\"defaultMessagesFile\":\"C:\\\\\\\\Users\\\\\\\\bmseo\\\\\\\\AppData\\\\\\\\Local\\\\\\\\Programs\\\\\\\\Microsoft VS Code\\\\\\\\resources\\\\\\\\app\\\\\\\\out\\\\\\\\nls.messages.json\",\"locale\":\"en-us\",\"availableLanguages\":{}}', 'VSCODE_PID': '160800', 'WINDIR': 'C:\\\\Windows', 'ZES_ENABLE_SYSMAN': '1', '_CONDA_OLD_CHCP': '949', 'PYDEVD_USE_FRAME_EVAL': 'NO', 'TERM': 'xterm-color', 'CLICOLOR': '1', 'FORCE_COLOR': '1', 'CLICOLOR_FORCE': '1', 'PAGER': 'cat', 'GIT_PAGER': 'cat', 'MPLBACKEND': 'module://matplotlib_inline.backend_inline'})\n",
      "c:\\Users\\bmseo\\anaconda3;C:\\Users\\bmseo\\anaconda3;C:\\Users\\bmseo\\anaconda3\\Library\\mingw-w64\\bin;C:\\Users\\bmseo\\anaconda3\\Library\\usr\\bin;C:\\Users\\bmseo\\anaconda3\\Library\\bin;C:\\Users\\bmseo\\anaconda3\\Scripts;C:\\Users\\bmseo\\anaconda3\\bin;C:\\Users\\bmseo\\anaconda3\\condabin;C:\\Windows\\system32;C:\\Windows;C:\\Windows\\System32\\Wbem;C:\\Windows\\System32\\WindowsPowerShell\\v1.0;C:\\Windows\\System32\\OpenSSH;C:\\Program Files\\Git\\cmd;C:\\Users\\bmseo\\anaconda3;C:\\Users\\bmseo\\anaconda3\\Library\\mingw-w64\\bin;C:\\Users\\bmseo\\anaconda3\\Library\\usr\\bin;C:\\Users\\bmseo\\anaconda3\\Library\\bin;C:\\Users\\bmseo\\anaconda3\\Scripts;C:\\Users\\bmseo\\AppData\\Local\\Microsoft\\WindowsApps;C:\\Users\\bmseo\\AppData\\Local\\Programs\\Microsoft VS Code\\bin;C:\\Users\\bmseo\\AppData\\Local\\GitHubDesktop\\bin\n"
     ]
    }
   ],
   "source": [
    "# os : os모듈은 환경 변수, 디렉터리, 파일 등의 OS 자원을 제어할 수 있도록 하는 모듈이다. \n",
    "\n",
    "import os\n",
    "'''\n",
    "환경변수란? 프로세스(프로그램)가 컴퓨터에서 동작하는 방식에 영향을 미치는, 동적인 값들의 모임\n",
    "PATH 환경변수란? \"프로그램을 찾는 디폴트 경로\" -> 여기에 특정 경로를 추가해주면 어떤 디렉토리(경로)에서 실행하던 실행이됨 \n",
    "'''\n",
    "print(os.environ)   # 현재 시스템의 환경변수값을 딕셔너리 형태로 반환 \n",
    "print(os.environ['PATH'])  # PATH 환경변수 반환"
   ]
  },
  {
   "cell_type": "code",
   "execution_count": 17,
   "metadata": {},
   "outputs": [
    {
     "name": "stdout",
     "output_type": "stream",
     "text": [
      "['c:\\\\Users\\\\bmseo\\\\anaconda3', 'C:\\\\Users\\\\bmseo\\\\anaconda3', 'C:\\\\Users\\\\bmseo\\\\anaconda3\\\\Library\\\\mingw-w64\\\\bin']\n"
     ]
    }
   ],
   "source": [
    "print(os.environ['PATH'].split(\";\")[:3])"
   ]
  },
  {
   "cell_type": "code",
   "execution_count": 19,
   "metadata": {},
   "outputs": [
    {
     "name": "stdout",
     "output_type": "stream",
     "text": [
      "dict_keys(['ALLUSERSPROFILE', 'APPDATA', 'CHROME_CRASHPAD_PIPE_NAME', 'COMMONPROGRAMFILES', 'COMMONPROGRAMFILES(X86)', 'COMMONPROGRAMW6432', 'COMPUTERNAME', 'COMSPEC', 'CONDA_DEFAULT_ENV', 'CONDA_EXE', 'CONDA_PREFIX', 'CONDA_PROMPT_MODIFIER', 'CONDA_PYTHON_EXE', 'CONDA_ROOT', 'CONDA_SHLVL', 'DRIVERDATA', 'ELECTRON_RUN_AS_NODE', 'HOMEDRIVE', 'HOMEPATH', 'JPY_INTERRUPT_EVENT', 'LOCALAPPDATA', 'LOGONSERVER', 'NUMBER_OF_PROCESSORS', 'ONEDRIVE', 'ONEDRIVECONSUMER', 'ORIGINAL_XDG_CURRENT_DESKTOP', 'OS', 'PATH', 'PATHEXT', 'PROCESSOR_ARCHITECTURE', 'PROCESSOR_IDENTIFIER', 'PROCESSOR_LEVEL', 'PROCESSOR_REVISION', 'PROGRAMDATA', 'PROGRAMFILES', 'PROGRAMFILES(X86)', 'PROGRAMW6432', 'PROMPT', 'PSMODULEPATH', 'PUBLIC', 'PYDEVD_IPYTHON_COMPATIBLE_DEBUGGING', 'PYTHONIOENCODING', 'PYTHONUNBUFFERED', 'PYTHONUTF8', 'PYTHON_FROZEN_MODULES', 'SESSIONNAME', 'SYSTEMDRIVE', 'SYSTEMROOT', 'TEMP', 'TMP', 'USERDOMAIN', 'USERDOMAIN_ROAMINGPROFILE', 'USERNAME', 'USERPROFILE', 'VSCODE_CODE_CACHE_PATH', 'VSCODE_CRASH_REPORTER_PROCESS_TYPE', 'VSCODE_CWD', 'VSCODE_ESM_ENTRYPOINT', 'VSCODE_HANDLES_UNCAUGHT_ERRORS', 'VSCODE_IPC_HOOK', 'VSCODE_L10N_BUNDLE_LOCATION', 'VSCODE_NLS_CONFIG', 'VSCODE_PID', 'WINDIR', 'ZES_ENABLE_SYSMAN', '_CONDA_OLD_CHCP', 'PYDEVD_USE_FRAME_EVAL', 'TERM', 'CLICOLOR', 'FORCE_COLOR', 'CLICOLOR_FORCE', 'PAGER', 'GIT_PAGER', 'MPLBACKEND'])\n"
     ]
    }
   ],
   "source": [
    "print(dict(os.environ).keys())"
   ]
  },
  {
   "cell_type": "code",
   "execution_count": 59,
   "metadata": {},
   "outputs": [],
   "source": [
    "# os 모듈의 다양한 기능 \n",
    "\n",
    "os.chdir(\"G:\")  # 디렉터리 위치 변경\n"
   ]
  },
  {
   "cell_type": "code",
   "execution_count": 60,
   "metadata": {},
   "outputs": [
    {
     "data": {
      "text/plain": [
       "'G:\\\\내 드라이브\\\\Python'"
      ]
     },
     "execution_count": 60,
     "metadata": {},
     "output_type": "execute_result"
    }
   ],
   "source": [
    "os.getcwd()   # 디렉터리 위치 돌려받기\n"
   ]
  },
  {
   "cell_type": "code",
   "execution_count": 20,
   "metadata": {},
   "outputs": [
    {
     "data": {
      "text/plain": [
       "0"
      ]
     },
     "execution_count": 20,
     "metadata": {},
     "output_type": "execute_result"
    }
   ],
   "source": [
    "os.system(\"dir\")   # 시스템 자체의 명령어를 파이썬에서 호출. 현재 디렉토리에서 시스템 명령어 dir을 실행하는 예시 \n",
    "                   # CMD 에서 dir 명령하는것과 같은 효과\n",
    "                   # dir은 현재 디렉토리에 있는 모든 디렉토리 및 파일 리스트 반환\n",
    "                   # 대화형 인터프리터 (파이썬 셸) 에서 실행하면 dir 결과를 보여줌.. \n"
   ]
  },
  {
   "cell_type": "code",
   "execution_count": 21,
   "metadata": {},
   "outputs": [
    {
     "ename": "UnicodeDecodeError",
     "evalue": "'utf-8' codec can't decode byte 0xb5 in position 3: invalid start byte",
     "output_type": "error",
     "traceback": [
      "\u001b[1;31m---------------------------------------------------------------------------\u001b[0m",
      "\u001b[1;31mUnicodeDecodeError\u001b[0m                        Traceback (most recent call last)",
      "Cell \u001b[1;32mIn[21], line 2\u001b[0m\n\u001b[0;32m      1\u001b[0m f \u001b[38;5;241m=\u001b[39m os\u001b[38;5;241m.\u001b[39mpopen(\u001b[38;5;124m\"\u001b[39m\u001b[38;5;124mdir\u001b[39m\u001b[38;5;124m\"\u001b[39m)  \u001b[38;5;66;03m# 실행한 시스템 명령어의 결과값 돌려받기\u001b[39;00m\n\u001b[1;32m----> 2\u001b[0m \u001b[43mf\u001b[49m\u001b[38;5;241;43m.\u001b[39;49m\u001b[43mread\u001b[49m\u001b[43m(\u001b[49m\u001b[43m)\u001b[49m\n",
      "File \u001b[1;32mc:\\Users\\bmseo\\anaconda3\\lib\\codecs.py:322\u001b[0m, in \u001b[0;36mBufferedIncrementalDecoder.decode\u001b[1;34m(self, input, final)\u001b[0m\n\u001b[0;32m    319\u001b[0m \u001b[38;5;28;01mdef\u001b[39;00m \u001b[38;5;21mdecode\u001b[39m(\u001b[38;5;28mself\u001b[39m, \u001b[38;5;28minput\u001b[39m, final\u001b[38;5;241m=\u001b[39m\u001b[38;5;28;01mFalse\u001b[39;00m):\n\u001b[0;32m    320\u001b[0m     \u001b[38;5;66;03m# decode input (taking the buffer into account)\u001b[39;00m\n\u001b[0;32m    321\u001b[0m     data \u001b[38;5;241m=\u001b[39m \u001b[38;5;28mself\u001b[39m\u001b[38;5;241m.\u001b[39mbuffer \u001b[38;5;241m+\u001b[39m \u001b[38;5;28minput\u001b[39m\n\u001b[1;32m--> 322\u001b[0m     (result, consumed) \u001b[38;5;241m=\u001b[39m \u001b[38;5;28;43mself\u001b[39;49m\u001b[38;5;241;43m.\u001b[39;49m\u001b[43m_buffer_decode\u001b[49m\u001b[43m(\u001b[49m\u001b[43mdata\u001b[49m\u001b[43m,\u001b[49m\u001b[43m \u001b[49m\u001b[38;5;28;43mself\u001b[39;49m\u001b[38;5;241;43m.\u001b[39;49m\u001b[43merrors\u001b[49m\u001b[43m,\u001b[49m\u001b[43m \u001b[49m\u001b[43mfinal\u001b[49m\u001b[43m)\u001b[49m\n\u001b[0;32m    323\u001b[0m     \u001b[38;5;66;03m# keep undecoded input until the next call\u001b[39;00m\n\u001b[0;32m    324\u001b[0m     \u001b[38;5;28mself\u001b[39m\u001b[38;5;241m.\u001b[39mbuffer \u001b[38;5;241m=\u001b[39m data[consumed:]\n",
      "\u001b[1;31mUnicodeDecodeError\u001b[0m: 'utf-8' codec can't decode byte 0xb5 in position 3: invalid start byte"
     ]
    }
   ],
   "source": [
    "f = os.popen(\"dir\")  # 실행한 시스템 명령어의 결과값 돌려받기\n",
    "f.read()"
   ]
  },
  {
   "cell_type": "code",
   "execution_count": 64,
   "metadata": {},
   "outputs": [
    {
     "name": "stdout",
     "output_type": "stream",
     "text": [
      "(5, 'C:\\\\Users\\\\bmseo\\\\AppData\\\\Local\\\\Temp\\\\tmp9ibivd1o') <class 'tuple'>\n",
      "임시 파일을 mkstemp로 생성함\n"
     ]
    }
   ],
   "source": [
    "# tempfile 로 임시파일 만들기 : mkstemp() 로 만들면 (파일 디스크립터, 경로) 튜플을 반환해서 경로를 이용해 파일을 따로 열어줘야함 \n",
    "\n",
    "import tempfile\n",
    "filename = tempfile.mkstemp()   # 임시파일의 이름을 무작위 생성\n",
    "print(filename, type(filename))\n",
    "path = filename[1]\n",
    "\n",
    "os.close(filename[0])\n",
    "\n",
    "with open(path, 'w') as f1:\n",
    "    f1.write('임시 파일을 mkstemp로 생성함')\n",
    "\n",
    "with open(path, 'r') as f1:\n",
    "    print(f1.read())\n",
    "\n",
    "os.remove(path)\n"
   ]
  },
  {
   "cell_type": "code",
   "execution_count": 66,
   "metadata": {},
   "outputs": [
    {
     "name": "stdout",
     "output_type": "stream",
     "text": [
      "b''\n"
     ]
    }
   ],
   "source": [
    "# tempfile.Temporaryfile() 은 파일 객체자체를 만들어줌. (이 파일은 기본적으로 wb 모드) open할 필요없이 열린 상태로 생성함\n",
    "\n",
    "f = tempfile.TemporaryFile()  \n",
    "f.write(b'Hello, World!')\n",
    "f.seek(0)\n",
    "print(f.read())\n",
    "f.close()  # close 호출하면 이 파일 삭제 됨"
   ]
  },
  {
   "cell_type": "code",
   "execution_count": 69,
   "metadata": {},
   "outputs": [
    {
     "name": "stdout",
     "output_type": "stream",
     "text": [
      "오류가 발생했습니다.\n",
      "Traceback (most recent call last):\n",
      "  File \"C:\\Users\\bmseo\\AppData\\Local\\Temp\\ipykernel_48876\\2977331063.py\", line 11, in main\n",
      "    b()\n",
      "  File \"C:\\Users\\bmseo\\AppData\\Local\\Temp\\ipykernel_48876\\2977331063.py\", line 8, in b\n",
      "    a()\n",
      "  File \"C:\\Users\\bmseo\\AppData\\Local\\Temp\\ipykernel_48876\\2977331063.py\", line 6, in a\n",
      "    1/0\n",
      "ZeroDivisionError: division by zero\n",
      "\n"
     ]
    }
   ],
   "source": [
    "# traceback : 프로그램 실행 중 발생한 오류를 추적하기위해 사용하는 모듈 \n",
    "\n",
    "import traceback\n",
    "\n",
    "def a():\n",
    "    1/0 \n",
    "def b():\n",
    "    a()\n",
    "def main():\n",
    "    try:\n",
    "        b()\n",
    "    except:\n",
    "        print(\"오류가 발생했습니다.\")\n",
    "        print(traceback.format_exc()) # 오류추적 문자를 문자로 반환하는 함수 \n",
    "\n",
    "main()"
   ]
  },
  {
   "cell_type": "code",
   "execution_count": 24,
   "metadata": {},
   "outputs": [
    {
     "name": "stdout",
     "output_type": "stream",
     "text": [
      "{'name': 'song', 'birth': '1026', 'age': 32} <class 'dict'>\n",
      "{'name': 'jung', 'birth': '4250', 'age': 62} <class 'dict'>\n"
     ]
    }
   ],
   "source": [
    "# json : JSON 데이터를 쉽게 처리하고자 사용하는 모듈\n",
    "# 피클과 마찬가지로, load를 통해 json파일로 부터 딕셔너리로 가져올 수 있고, dump를 통해 json파일에 딕셔너리 저장가능 \n",
    "\n",
    "import json\n",
    "\n",
    "with open('G:/내 드라이브/Python/점프투파이썬/모듈모음/myinfo.json') as f:\n",
    "    data = json.load(f)   # JSON 파일을 읽어 → 딕셔너리로 변환 \n",
    "\n",
    "print(data, type(data))\n",
    "\n",
    "# 반댕로 딕셔너리 자료형을 → JSON 파일로 생성\n",
    "dict = {'name': 'jung', 'birth': '4250', 'age': 62}\n",
    "\n",
    "with open('G:/내 드라이브/Python/점프투파이썬/모듈모음/mominfo.json', 'w') as f:\n",
    "    json.dump(dict, f)\n",
    "\n",
    "with open('G:/내 드라이브/Python/점프투파이썬/모듈모음/mominfo.json') as f:\n",
    "    data2 = json.load(f)\n",
    "\n",
    "print(data2, type(data2))\n"
   ]
  },
  {
   "cell_type": "code",
   "execution_count": 82,
   "metadata": {},
   "outputs": [
    {
     "name": "stdout",
     "output_type": "stream",
     "text": [
      "{\n",
      "  \"name\": \"송\",\n",
      "  \"birth\": \"931026\",\n",
      "  \"age\": 32\n",
      "} <class 'str'>\n",
      "{'name': '송', 'birth': '931026', 'age': 32} <class 'dict'>\n",
      "[1, 2, 3] <class 'str'>\n"
     ]
    }
   ],
   "source": [
    "# 자료형을 JSON 문자열로 바꾸기 : json.dumps ↔ 반대는 json.loads\n",
    "\n",
    "dict = {'name': '송', 'birth': '931026', 'age': 32}\n",
    "\n",
    "json_data = json.dumps(dict, indent=2, ensure_ascii=False) # ensure_ascii 는 유니코드가 아스키로 변하는것 방지 \n",
    "print(json_data, type(json_data))\n",
    "\n",
    "dict_back = json.loads(json_data)\n",
    "print(dict_back, type(dict_back))\n",
    "\n",
    "# 리스트, 튜플 등도 JSON 문자열로 변경 가능\n",
    "print(json.dumps([1,2,3]), type(json.dumps([1,2,3])))"
   ]
  },
  {
   "cell_type": "code",
   "execution_count": 86,
   "metadata": {},
   "outputs": [
    {
     "name": "stdout",
     "output_type": "stream",
     "text": [
      "['\\n', '\\n', '\\n', '<!DOCTYPE HTML>\\n', '<html lang=\"ko\">\\n', '<head>\\n', '    <meta http-equiv=\"Content-Type\" content=\"text/html; charset=utf-8\">\\n', '    <meta name=\"viewport\" content=\"width=device-width, initial-scale=1.0\">\\n', '    <meta name=\"google-site-verification\" content=\"mzkAy71X1qQFWihQN535LoiToXg34MUg9nuor7Og9E8\" />\\n', '    <meta name=\"naver-site-verification\" content=\"a7b53e9ea172d3cefcc05eaba6ebf7180eca08fa\" />\\n', '    \\n', '<meta name=\"description\" content=\"숫자형(Number)이란 숫자 형태로 이루어진 자료형으로, 우리가 이미 잘 알고 있는 것이다. 우리가 흔히 사용하는 숫자들을 생각해 보자. 123과 같은 정수, 12.34와 같은…\">\\n', '<meta property=\"og:type\" content=\"website\">\\n', '<meta property=\"og:site_name\" content=\"위키독스\">\\n', '<meta property=\"og:title\" content=\"02-1 숫자형\">\\n', '<meta property=\"og:description\" content=\"숫자형(Number)이란 숫자 형태로 이루어진 자료형으로, 우리가 이미 잘 알고 있는 것이다. 우리가 흔히 사용하는 숫자들을 생각해 보자. 123과 같은 정수, 12.34와 같은…\">\\n', '<meta property=\"og:image\" content=\"https://wikidocs.net/images/book/j2p_cover_4pwFNUD_Lirmdrv_U1UQjo8_e0LkdJf_RfBYr9e_HuNZjDQ_GPEKYKk_TiflQiw_bpi6gBP_c_nzQpBHv.jpg\">\\n', '<meta property=\"og:url\" content=\"https://wikidocs.net/12\">\\n', '\\n', '    <link rel=\"shortcut icon\" type=\"image/x-icon\" href=\"/static/img/favicon.ico\">\\n', '    <link rel=\"canonical\" href=\"https://wikidocs.net/book/1\">\\n', '    <link rel=\"preconnect\" href=\"https://fonts.googleapis.com\">\\n', '    <link rel=\"preconnect\" href=\"https://fonts.gstatic.com\" crossorigin>\\n', '    <link rel=\"stylesheet\" type=\"text/css\" href=\"https://fonts.googleapis.com/css2?family=Noto+Sans+KR:wght@100;300;400;500;700;900&display=swap\">\\n', '    <title>02-1 숫자형 - 점프 투 파이썬</title>\\n', '    <link rel=\"stylesheet\" href=\"https://maxcdn.bootstrapcdn.com/bootstrap/3.3.7/css/bootstrap.min.css\" integrity=\"sha384-BVYiiSIFeK1dGmJRAkycuHAHRg32OmUcww7on3RYdg4Va+PmSTsz/K68vbdEjh4u\" crossorigin=\"anonymous\">\\n', '    \\n', '\\n', '    \\n', '    <link type=\"text/css\" id=\"main-stylesheet\" href=\"/static/book/css/style_stack.css?v=15\" rel=\"stylesheet\"  media=\"screen\" />\\n', '    \\n', '    <script src=\"https://ajax.googleapis.com/ajax/libs/jquery/1.12.4/jquery.min.js\"></script>\\n', '    <script src=\"https://maxcdn.bootstrapcdn.com/bootstrap/3.3.7/js/bootstrap.min.js\" integrity=\"sha384-Tc5IQib027qvyjSMfHjOMaLkfuWVxZxUPnCJA7l2mCWNIpG9mGCD8wGNIcPD7Txa\" crossorigin=\"anonymous\"></script>\\n', '    <script type=\"text/javascript\" src=\"/static/book/js/utils.js\"></script>\\n', '    <script type=\"text/javascript\" src=\"/static/book/js/base.js?v=1\"></script>\\n', '    <script type=\"text/javascript\">\\n', '    function recommend_book(book_id) {\\n', '        var msg = [];\\n', '        msg.push(\\'<div class=\"alert alert-info\">\\');\\n', \"        msg.push('<p><strong>책을 추천합니다.</strong></p>');\\n\", \"        msg.push('정말로 추천하시겠습니까?</p>');\\n\", \"        msg.push('</div>');\\n\", '        msg.push(\\'<span class=\"muted\">※ 추천취소는 불가능합니다.</span>\\');\\n', \"        apprise(msg.join(''), {'verify':true}, function(r) {\\n\", '            if(r) {\\n', '                location.href = \"/book/recommend/\"+book_id;\\n', '            }\\n', '        });\\n', '        return;\\n', '    }\\n', '    </script>\\n', '    \\n', '\\n', '<!-- 자동광고 -->\\n', '\\n', '<!-- 포인트 광고 -->\\n', '<script async src=\"https://pagead2.googlesyndication.com/pagead/js/adsbygoogle.js?client=ca-pub-9470517771012578\" crossorigin=\"anonymous\"></script>\\n', '\\n', '<script type=\"text/javascript\" src=\"/static/book/js/ads.js?v=18\"></script>\\n', '\\n', '\\n', '\\n', '\\n', '\\n', '<link type=\"text/css\" href=\"/static/apprise/apprise.min.css\" rel=\"stylesheet\"  />\\n', '\\n', '<link type=\"text/css\" id=\"markdown-stylesheet\" href=\"/static/book/css/markdown_stack.css?v=13\" rel=\"stylesheet\" />\\n', '<link rel=\"stylesheet\" id=\"highlight-stylesheet\" href=\"//cdnjs.cloudflare.com/ajax/libs/highlight.js/11.5.1/styles/default.min.css\">\\n', '\\n', '<link type=\"text/css\" href=\"/static/treeview/bootstrap-treeview.min.css\" rel=\"stylesheet\" />\\n', '<link type=\"text/css\" href=\"/static/book/css/copycode.css\" rel=\"stylesheet\" />\\n', '<script type=\"text/javascript\" src=\"/static/apprise/apprise-1.5.min.js\"></script>\\n', '<script type=\"text/javascript\" src=\"/static/scroll/jquery.nicescroll.js\"></script>\\n', '<script src=\"//cdnjs.cloudflare.com/ajax/libs/highlight.js/11.5.1/highlight.min.js\"></script>\\n', '<!-- 수식입력 mathjax -->\\n', '<script>\\n', 'window.MathJax = {\\n', '  options: {\\n', \"    ignoreHtmlClass: 'tex2jax_ignore',\\n\", \"    processHtmlClass: 'tex2jax_process'\\n\", '  },\\n', \"  loader: {load: ['[tex]/physics', '[tex]/braket']},\\n\", '  tex: {\\n', \"    inlineMath: [['$','$'], ['\\\\\\\\(','\\\\\\\\)']],\\n\", \"    packages: {'[+]': ['physics', 'braket']}\\n\", '  }\\n', '};\\n', '</script>\\n', '<script id=\"MathJax-script\" async src=\"https://cdn.jsdelivr.net/npm/mathjax@3/es5/tex-mml-chtml.js\"></script>\\n', '<script>\\n', '$(document).ready(function () {\\n', '    $(\"#show_toc_btn\").click(function () {\\n', '        $(\".toc\").removeClass(\"hide\");\\n', '        $(\".toc\").show();\\n', '        $(\"#show_toc_btn\").hide();\\n', '    });\\n', '    $(\"#feedback_btn\").click(function () {\\n', '        var page_id = $(\"#page_id\").val();\\n', '        var email = $(\"#email\").val();\\n', '        var feedback = $(\"#feedback\").val();\\n', '        if (!email) {\\n', \"            apprise('답장받을 이메일을 입력하세요.', {}, function () {\\n\", '                $(\"#email\").focus();\\n', '            });\\n', '            return;\\n', '        }\\n', '        if (!validateEmail(email)) {\\n', \"            apprise('이메일을 정확하게 입력 해 주세요.', {}, function () {\\n\", '                $(\"#email\").focus();\\n', '            });\\n', '            return;\\n', '        }\\n', '        if (!feedback) {\\n', \"            apprise('피드백을 입력하세요.', {}, function () {\\n\", '                $(\"#feedback\").focus();\\n', '            });\\n', '            return;\\n', '        }\\n', '        $.post(\"/feedback\", {\\n', '            \"page_id\": page_id,\\n', '            \"email\": email,\\n', '            \"feedback\": feedback\\n', '        }, function (data) {\\n', \"            apprise('피드백을 남겨주셔서 감사합니다.', {}, function () {\\n\", \"                $('#myModal').modal('hide');\\n\", '            });\\n', '        }, \"html\");\\n', '    });\\n', '    $(\"#report_btn\").click(function () {\\n', '        var comment_id = $(\"#comment_id\").val();\\n', '        var report = $(\"#report\").val();\\n', '        if (!report) {\\n', \"            apprise('신고사유를 입력하세요.', {}, function () {\\n\", '                $(\"#report\").focus();\\n', '            });\\n', '            return;\\n', '        }\\n', '        $.post(\"/page/comment/report\", {\\n', '            \"comment_id\": comment_id,\\n', '            \"report\": report\\n', '        }, function (result) {\\n', '            if(result.success) {\\n', \"                apprise('신고가 접수되었습니다. 검토까지는 최대 24시간 소요됩니다.', {}, function () {\\n\", \"                    $('#reportModal').modal('hide');\\n\", '                });\\n', '            }else {\\n', \"                $('#reportModal').modal('hide');\\n\", '                alert(result.message);\\n', '            }\\n', '        }, \"json\");\\n', '    });\\n', '    $(\"body\").on(\\'click\\', \"#comment_btn\", function () {\\n', '        var content = $(\"#content\").val();\\n', '        if (!content) {\\n', \"            apprise('댓글을 입력해 주세요', {verify: false}, function (r) {\\n\", '                $(\"#content\").focus();\\n', '            });\\n', '            return false;\\n', '        }\\n', '        $.post(\"/page/comment/save\", {\\n', '            \"page_id\": $(\"#page_id\").val(),\\n', '            \"content\": content\\n', '        }, function (result) {\\n', '            if (result.success) {\\n', '                get_page_comments(result.page_id);\\n', '            }else {\\n', '                alert(result.message);\\n', '            }\\n', '        }, \"json\");\\n', '    });\\n', '    $(\\'a[href=\"#top\"]\\').click(function () {\\n', '        $(\\'html,body\\').animate({ scrollTop: $(\"body\").offset().top},\\n', \"            {duration: 'normal', easing: 'swing'});\\n\", '        return false;\\n', '    });\\n', '    var hash = window.location.hash;\\n', '    if(hash.indexOf(\"#comment\") != -1) {\\n', '        show_comments();\\n', '    }\\n', '    // 외부 링크는 새창으로 열도록 수정.\\n', \"    $('a').each(function() {\\n\", \"        var a = new RegExp('/' + window.location.host + '/');\\n\", '        try {\\n', \"            if(this.href && !a.test(this.href) && this.href.indexOf('wikidocs.net') === -1 && this.href.startsWith('http')) {\\n\", '                $(this).click(function(event) {\\n', '                    event.preventDefault();\\n', '                    event.stopPropagation();\\n', \"                    window.open(this.href, '_blank');\\n\", '                });\\n', '            }\\n', '        }catch(e) {\\n', '        }\\n', '    });\\n', '    var is_mobile = \"True\";\\n', \"    let _trigger = 'click';  // focus(다른 곳 클릭시 팝업 닫힘), click \\n\", '    let _hide = 0;  // focus일 때는 200이 적당\\n', '    if (is_mobile == \"True\") {\\n', \"        _trigger = 'click';\\n\", '        _hide = 0;\\n', '    }\\n', \"    $('.wiki_link').on('click', function(event) {\\n\", '        var el = $(this);\\n', '        el.off(event);\\n', \"        let _title = el.data('title');\\n\", '        _title = \"<a class=\\'wiki_title\\' href=\\'/wiki/\"+_title+\"\\' target=\\'_wiki\\'>\" +_title + \"</a>\"+\\n', '                \\'<button style=\"margin-left:10px;\" type=\"button\" id=\"close\" class=\"close\">&times;</button>\\';\\n', '        // add initial popovers with LOADING text\\n', '        el.popover({\\n', '            title: _title,\\n', '            content: \"loading...\", // maybe some loading animation like <img src=\\'loading.gif />\\n', '            html: true,\\n', '            placement: \"bottom\",\\n', \"            container: 'body',\\n\", '            trigger: _trigger,\\n', '            delay: {\"show\": 0, \"hide\": _hide}\\n', \"        }).on('shown.bs.popover', function (eventShown) {\\n\", \"            var $popup = $('#' + $(eventShown.target).attr('aria-describedby'));\\n\", \"            $popup.find('button.close, a.wiki_title, a.inner_link').click(function (e) {\\n\", \"                el.trigger('click');\\n\", '            });\\n', '        });\\n', '        // requesting data from unsing url from data-poload attribute\\n', \"        $.get(el.data('wiki'), function (d) {\\n\", \"            let $tempDiv = $('<div>').html(d);\\n\", \"            $tempDiv.find('a').attr('target', '_blank');\\n\", '            d = $tempDiv.html();\\n', '            // set new content to popover\\n', \"            el.data('bs.popover').options.content = d;\\n\", '            // reshow popover with new content\\n', \"            // el.popover('show');\\n\", \"            el.trigger('click');\\n\", '        });\\n', '    });\\n', '});\\n', '\\n', '$(window).load(function () {\\n', '    if (!TOC_HEIGHT) {\\n', '//        init_toc();\\n', '    }\\n', '    resizeMenu();\\n', '});\\n', '\\n', 'function resizeMenu() {\\n', '    var wh = $(window).height() - 220;\\n', '    var ph = get_height(\".page\");\\n', '    var h = Math.max(wh, ph);\\n', '    $(\".scrollable-menu\").css(\"max-height\", h+\"px\");\\n', '}\\n', '\\n', 'function touch_toc() {\\n', '    if ($(\".page img\").length == 0) {\\n', '        init_toc();\\n', '    }\\n', '}\\n', '\\n', 'var TOC_HEIGHT;\\n', 'function init_toc() {\\n', '    var selected_toc_li_top = $(\".selected_toc_li\").offset().top;\\n', '    var page_height = get_height(\".page\");\\n', '    var toc_height = get_height(\".toc-area\");\\n', '    TOC_HEIGHT = toc_height;\\n', '    if (toc_height >= 480) {\\n', '        if (page_height - 145 <= 480) {\\n', '            $(\".toc-area\").css(\"height\", (page_height - 145) + \"px\");\\n', '            $(\".toc-open\").show();\\n', '            $(\".toc-area\").niceScroll({\"cursorcolor\": \"#888\"});\\n', '            $(\".toc-area\").scrollTop(selected_toc_li_top - 200);\\n', '        } else if (toc_height > 480) {\\n', '            $(\".toc-area\").css(\"height\", \"480px\");\\n', '            $(\".toc-open\").show();\\n', '            $(\".toc-area\").niceScroll({\"cursorcolor\": \"#888\"});\\n', '            $(\".toc-area\").scrollTop(selected_toc_li_top - 200);\\n', '        }\\n', '    }\\n', '    if (page_height > 480 + 300) {\\n', '        $(\".toc-ads\").show();\\n', '    }\\n', '}\\n', '\\n', 'function open_toc() {\\n', '    $(\".toc-area\").css(\"overflow-y\", \"visible\");\\n', '    $(\".toc-area\").css(\"height\", TOC_HEIGHT + \"px\");\\n', '    $(\".toc-open\").hide();\\n', '}\\n', '\\n', 'function get_height(element) {\\n', '    var _height = $(element).css(\"height\");\\n', '    return parseInt(_height.split(\"px\")[0]);\\n', '}\\n', '\\n', 'function remove_comment(comment_id) {\\n', \"    apprise('정말로 삭제하시겠습니까?', {verify: true}, function (r) {\\n\", '        if (r) {\\n', '            $.post(\"/page/comment/remove\", {\\n', '                \"comment_id\": comment_id\\n', '            }, function (result) {\\n', '                if (result.success) {\\n', '                    get_page_comments(result.page_id);\\n', '                }else {\\n', '                    alert(result.message);\\n', '                }\\n', '            }, \"json\");\\n', '        }\\n', '    });\\n', '}\\n', '\\n', 'function reply_comment(comment_name) {\\n', '    $(\".user_comments #content\").val(\"@\"+comment_name+\"님 \");\\n', '    $(\".user_comments #content\").focus();\\n', '}\\n', '\\n', 'function show_comments() {\\n', '    $(\".user_comments\").toggle();\\n', '}\\n', '\\n', 'function show_book_comments() {\\n', '    $(\".pages\").css(\"display\", \"none\");\\n', '    $(\".comments\").toggle();\\n', '}\\n', '\\n', 'function show_book_pages() {\\n', '    $(\".comments\").css(\"display\", \"none\");\\n', '    $(\".pages\").toggle();\\n', '}\\n', '\\n', 'function get_all_page_comments(page_id) {\\n', '    $.ajax({\\n', '        type: \"POST\",\\n', '        url: \"/page/comment/all\",\\n', \"        data: {'page_id': page_id},\\n\", '        dataType: \"html\",\\n', '        success: function(data) {\\n', '            $(\"#page_all_comments\").html(data);\\n', '        }\\n', '    });\\n', '}  \\n', '\\n', 'function get_page_comments(page_id) {\\n', '    $.ajax({\\n', '        type: \"POST\",\\n', '        url: \"/page/comment/get\",\\n', \"        data: {'page_id': page_id},\\n\", '        dataType: \"html\",\\n', '        success: function(data) {\\n', '            $(\".comments\").html(data);\\n', '            $(\"#content\").val(\"\");\\n', '        }\\n', '    });\\n', '}\\n', '\\n', 'function report_modal(comment_id) {\\n', '    $(\"#comment_id\").val(comment_id);\\n', \"    $('#reportModal').modal('show')\\n\", '}\\n', '\\n', \"document.addEventListener('DOMContentLoaded', function() {\\n\", \"    var page = document.querySelector('.page');\\n\", \"    var adContainers = document.querySelectorAll('.ad-container');\\n\", '    \\n', '    function checkWidth() {\\n', '        var pageWidth = page.offsetWidth;\\n', '        adContainers.forEach(function(container) {\\n', \"            var secondAd = container.querySelector('.second-ad');\\n\", \"            var firstAd = container.querySelector('.first-ad');\\n\", '            if (secondAd && firstAd) {\\n', '                var containerWidth = container.offsetWidth;\\n', '                var firstAdWidth = firstAd.offsetWidth;\\n', '                var secondAdWidth = secondAd.offsetWidth;\\n', '                \\n', '                if (containerWidth < firstAdWidth + secondAdWidth + 50) {\\n', \"                    secondAd.style.display = 'none';\\n\", '                } else {\\n', \"                    secondAd.style.display = 'block';\\n\", '                }\\n', '            }\\n', '        });\\n', '    }\\n', '    \\n', '    // 초기 실행\\n', '    checkWidth();\\n', '    \\n', '    // 창 크기가 변경될 때마다 실행\\n', \"    // window.addEventListener('resize', checkWidth);\\n\", '});\\n', '</script>\\n', '\\n', '\\n', '    <!-- Global site tag (gtag.js) - Google Analytics -->\\n', '    <script async src=\"https://www.googletagmanager.com/gtag/js?id=G-6N5MJRGLWG\"></script>\\n', '    <script>\\n', '      window.dataLayer = window.dataLayer || [];\\n', '      function gtag(){dataLayer.push(arguments);}\\n', \"      gtag('js', new Date());\\n\", \"      gtag('config', 'G-6N5MJRGLWG');\\n\", '    </script>\\n', '</head>\\n', '<body>\\n', '\\n', '<!-- PC -->\\n', '\\n', '\\n', '\\n', '\\n', '\\n', '\\n', '<div class=\"container\" style=\"padding-bottom:50px\">\\n', '\\n', '<div class=\"content row tex2jax_ignore\" style=\"margin-top:0px;\">\\n', '    <div class=\"col-sm-3\">\\n', '        \\n', '<div class=\"row\">\\n', '    <div class=\"col-sm-3 sidebar\" style=\"padding:0;margin:0;overflow-x: hidden;\">\\n', '        \\n', '        <div class=\"row\" style=\"display:none;\">\\n', '            <div class=\"col-xs-12\" style=\"border-bottom:solid 1px #ddd;\">\\n', '                <button id=\"toggle_toc_btn\" class=\"btn btn-sm btn-default\" style=\"margin:10px;\">목차보기</button>\\n', '                <label for=\"toc_on\" class=\"small\">\\n', '                    <input type=\"radio\" id=\"toc_on\" name=\"toc_on_off\" value=\"show\"> Show\\n', '                </label>\\n', '                <label for=\"toc_off\" class=\"small\">\\n', '                    <input type=\"radio\" id=\"toc_off\" name=\"toc_on_off\" value=\"hide\"> Hide\\n', '                </label>\\n', '            </div>\\n', '        </div>\\n', '        \\n', '        <div class=\"toc toc-checker\">\\n', '            <div class=\"row\">\\n', '                <div class=\"col-xs-12\" style=\"padding:0;\">\\n', '                    <div class=\"row clearfix\" style=\"margin:0;padding:0;border-bottom:solid 1px #ccc;\">\\n', '                        <div class=\"pull-left\" style=\"width:75%;\">\\n', '                            <input type=\"text\" style=\"margin-left:15px;\" id=\"kw\" name=\"kw\" class=\"input-search\" placeholder=\"검색어를 입력하세요.\" autocomplete=\"off\">\\n', '                            <ul id=\"search-results\" class=\"dropdown-menu\" aria-labelledby=\"kw\"></ul>\\n', '                        </div>\\n', '                        <div class=\"pull-right\">\\n', '                            \\n', '                        </div>\\n', '                    </div>\\n', '                </div>\\n', '            </div>\\n', '            <div class=\"list-group list-group-toc\" style=\"margin:0;\">\\n', '                <a class=\"list-group-item \" href=\"/book/1\" style=\"margin:0;\">\\n', '                    <span style=\"white-space:nowrap;overflow:hidden;display:block;\" title=\"점프 투 파이썬\">\\n', '                        \\n', '                            <i class=\"glyphicon glyphicon-book\"></i>\\n', '                        \\n', '                        <strong>점프 투 파이썬</strong>\\n', '                    </span>\\n', '                </a>\\n', '                \\n', '                <a href=\"javascript:page(2)\" class=\"list-group-item \">\\n', '                    <span style=\"white-space:nowrap;overflow:hidden;display:block;\"\\n', '                          title=\"00장 들어가기 전에\">\\n', '                        <span style=\"padding-left:0px\">\\n', '                        \\n', '                        00장 들어가기 전에\\n', '                        </span>\\n', '                    </span>\\n', '                </a>\\n', '                \\n', '                <a href=\"javascript:page(4319)\" class=\"list-group-item \">\\n', '                    <span style=\"white-space:nowrap;overflow:hidden;display:block;\"\\n', '                          title=\"00-1 머리말\">\\n', '                        <span style=\"padding-left:20px\">\\n', '                        \\n', '                        00-1 머리말\\n', '                        </span>\\n', '                    </span>\\n', '                </a>\\n', '                \\n', '                <a href=\"javascript:page(4320)\" class=\"list-group-item \">\\n', '                    <span style=\"white-space:nowrap;overflow:hidden;display:block;\"\\n', '                          title=\"00-2 저자소개\">\\n', '                        <span style=\"padding-left:20px\">\\n', '                        \\n', '                        00-2 저자소개\\n', '                        </span>\\n', '                    </span>\\n', '                </a>\\n', '                \\n', '                <a href=\"javascript:page(202337)\" class=\"list-group-item \">\\n', '                    <span style=\"white-space:nowrap;overflow:hidden;display:block;\"\\n', '                          title=\"00-3 동영상 강의\">\\n', '                        <span style=\"padding-left:20px\">\\n', '                        \\n', '                        00-3 동영상 강의\\n', '                        </span>\\n', '                    </span>\\n', '                </a>\\n', '                \\n', '                <a href=\"javascript:page(202412)\" class=\"list-group-item \">\\n', '                    <span style=\"white-space:nowrap;overflow:hidden;display:block;\"\\n', '                          title=\"00-4 소스 코드\">\\n', '                        <span style=\"padding-left:20px\">\\n', '                        \\n', '                        00-4 소스 코드\\n', '                        </span>\\n', '                    </span>\\n', '                </a>\\n', '                \\n', '                <a href=\"javascript:page(4321)\" class=\"list-group-item \">\\n', '                    <span style=\"white-space:nowrap;overflow:hidden;display:block;\"\\n', '                          title=\"00-5 책 구입 안내\">\\n', '                        <span style=\"padding-left:20px\">\\n', '                        \\n', '                        00-5 책 구입 안내\\n', '                        </span>\\n', '                    </span>\\n', '                </a>\\n', '                \\n', '                <a href=\"javascript:page(742)\" class=\"list-group-item \">\\n', '                    <span style=\"white-space:nowrap;overflow:hidden;display:block;\"\\n', '                          title=\"00-6 주요변경이력\">\\n', '                        <span style=\"padding-left:20px\">\\n', '                        \\n', '                        00-6 주요변경이력\\n', '                        </span>\\n', '                    </span>\\n', '                </a>\\n', '                \\n', '                <a href=\"javascript:page(5)\" class=\"list-group-item \">\\n', '                    <span style=\"white-space:nowrap;overflow:hidden;display:block;\"\\n', '                          title=\"01장 파이썬이란 무엇인가?\">\\n', '                        <span style=\"padding-left:0px\">\\n', '                        \\n', '                        01장 파이썬이란 무엇인가?\\n', '                        </span>\\n', '                    </span>\\n', '                </a>\\n', '                \\n', '                <a href=\"javascript:page(4307)\" class=\"list-group-item \">\\n', '                    <span style=\"white-space:nowrap;overflow:hidden;display:block;\"\\n', '                          title=\"01-1 파이썬이란?\">\\n', '                        <span style=\"padding-left:20px\">\\n', '                        \\n', '                        01-1 파이썬이란?\\n', '                        </span>\\n', '                    </span>\\n', '                </a>\\n', '                \\n', '                <a href=\"javascript:page(6)\" class=\"list-group-item \">\\n', '                    <span style=\"white-space:nowrap;overflow:hidden;display:block;\"\\n', '                          title=\"01-2 파이썬의 특징\">\\n', '                        <span style=\"padding-left:20px\">\\n', '                        \\n', '                        01-2 파이썬의 특징\\n', '                        </span>\\n', '                    </span>\\n', '                </a>\\n', '                \\n', '                <a href=\"javascript:page(7)\" class=\"list-group-item \">\\n', '                    <span style=\"white-space:nowrap;overflow:hidden;display:block;\"\\n', '                          title=\"01-3 파이썬으로 무엇을 할 수 있을까?\">\\n', '                        <span style=\"padding-left:20px\">\\n', '                        \\n', '                        01-3 파이썬으로 무엇을 할 수 있을까?\\n', '                        </span>\\n', '                    </span>\\n', '                </a>\\n', '                \\n', '                <a href=\"javascript:page(8)\" class=\"list-group-item \">\\n', '                    <span style=\"white-space:nowrap;overflow:hidden;display:block;\"\\n', '                          title=\"01-4 파이썬 설치하기\">\\n', '                        <span style=\"padding-left:20px\">\\n', '                        \\n', '                        01-4 파이썬 설치하기\\n', '                        </span>\\n', '                    </span>\\n', '                </a>\\n', '                \\n', '                <a href=\"javascript:page(9)\" class=\"list-group-item \">\\n', '                    <span style=\"white-space:nowrap;overflow:hidden;display:block;\"\\n', '                          title=\"01-5 파이썬 둘러보기\">\\n', '                        <span style=\"padding-left:20px\">\\n', '                        \\n', '                        01-5 파이썬 둘러보기\\n', '                        </span>\\n', '                    </span>\\n', '                </a>\\n', '                \\n', '                <a href=\"javascript:page(17684)\" class=\"list-group-item \">\\n', '                    <span style=\"white-space:nowrap;overflow:hidden;display:block;\"\\n', '                          title=\"01-6 파이썬과 에디터\">\\n', '                        <span style=\"padding-left:20px\">\\n', '                        \\n', '                        01-6 파이썬과 에디터\\n', '                        </span>\\n', '                    </span>\\n', '                </a>\\n', '                \\n', '                <a href=\"javascript:page(11)\" class=\"list-group-item \">\\n', '                    <span style=\"white-space:nowrap;overflow:hidden;display:block;\"\\n', '                          title=\"02장 파이썬 프로그래밍의 기초, 자료형\">\\n', '                        <span style=\"padding-left:0px\">\\n', '                        \\n', '                        02장 파이썬 프로그래밍의 기초, 자료형\\n', '                        </span>\\n', '                    </span>\\n', '                </a>\\n', '                \\n', '                <a href=\"javascript:page(12)\" class=\"list-group-item active\">\\n', '                    <span style=\"white-space:nowrap;overflow:hidden;display:block;\"\\n', '                          title=\"02-1 숫자형\">\\n', '                        <span style=\"padding-left:20px\">\\n', '                        \\n', '                        02-1 숫자형\\n', '                        </span>\\n', '                    </span>\\n', '                </a>\\n', '                \\n', '                <a href=\"javascript:page(13)\" class=\"list-group-item \">\\n', '                    <span style=\"white-space:nowrap;overflow:hidden;display:block;\"\\n', '                          title=\"02-2 문자열 자료형\">\\n', '                        <span style=\"padding-left:20px\">\\n', '                        \\n', '                        02-2 문자열 자료형\\n', '                        </span>\\n', '                    </span>\\n', '                </a>\\n', '                \\n', '                <a href=\"javascript:page(14)\" class=\"list-group-item \">\\n', '                    <span style=\"white-space:nowrap;overflow:hidden;display:block;\"\\n', '                          title=\"02-3 리스트 자료형\">\\n', '                        <span style=\"padding-left:20px\">\\n', '                        \\n', '                        02-3 리스트 자료형\\n', '                        </span>\\n', '                    </span>\\n', '                </a>\\n', '                \\n', '                <a href=\"javascript:page(15)\" class=\"list-group-item \">\\n', '                    <span style=\"white-space:nowrap;overflow:hidden;display:block;\"\\n', '                          title=\"02-4 튜플 자료형\">\\n', '                        <span style=\"padding-left:20px\">\\n', '                        \\n', '                        02-4 튜플 자료형\\n', '                        </span>\\n', '                    </span>\\n', '                </a>\\n', '                \\n', '                <a href=\"javascript:page(16)\" class=\"list-group-item \">\\n', '                    <span style=\"white-space:nowrap;overflow:hidden;display:block;\"\\n', '                          title=\"02-5 딕셔너리 자료형\">\\n', '                        <span style=\"padding-left:20px\">\\n', '                        \\n', '                        02-5 딕셔너리 자료형\\n', '                        </span>\\n', '                    </span>\\n', '                </a>\\n', '                \\n', '                <a href=\"javascript:page(1015)\" class=\"list-group-item \">\\n', '                    <span style=\"white-space:nowrap;overflow:hidden;display:block;\"\\n', '                          title=\"02-6 집합 자료형\">\\n', '                        <span style=\"padding-left:20px\">\\n', '                        \\n', '                        02-6 집합 자료형\\n', '                        </span>\\n', '                    </span>\\n', '                </a>\\n', '                \\n', '                <a href=\"javascript:page(17)\" class=\"list-group-item \">\\n', '                    <span style=\"white-space:nowrap;overflow:hidden;display:block;\"\\n', '                          title=\"02-7 불 자료형\">\\n', '                        <span style=\"padding-left:20px\">\\n', '                        \\n', '                        02-7 불 자료형\\n', '                        </span>\\n', '                    </span>\\n', '                </a>\\n', '                \\n', '                <a href=\"javascript:page(18)\" class=\"list-group-item \">\\n', '                    <span style=\"white-space:nowrap;overflow:hidden;display:block;\"\\n', '                          title=\"02-8 자료형의 값을 저장하는 공간, 변수\">\\n', '                        <span style=\"padding-left:20px\">\\n', '                        \\n', '                        02-8 자료형의 값을 저장하는 공간, 변수\\n', '                        </span>\\n', '                    </span>\\n', '                </a>\\n', '                \\n', '                <a href=\"javascript:page(180351)\" class=\"list-group-item \">\\n', '                    <span style=\"white-space:nowrap;overflow:hidden;display:block;\"\\n', '                          title=\"02장 되새김 문제\">\\n', '                        <span style=\"padding-left:20px\">\\n', '                        \\n', '                        02장 되새김 문제\\n', '                        </span>\\n', '                    </span>\\n', '                </a>\\n', '                \\n', '                <a href=\"javascript:page(19)\" class=\"list-group-item \">\\n', '                    <span style=\"white-space:nowrap;overflow:hidden;display:block;\"\\n', '                          title=\"03장 프로그램의 구조를 쌓는다! 제어문\">\\n', '                        <span style=\"padding-left:0px\">\\n', '                        \\n', '                        03장 프로그램의 구조를 쌓는다! 제어문\\n', '                        </span>\\n', '                    </span>\\n', '                </a>\\n', '                \\n', '                <a href=\"javascript:page(20)\" class=\"list-group-item \">\\n', '                    <span style=\"white-space:nowrap;overflow:hidden;display:block;\"\\n', '                          title=\"03-1 if문\">\\n', '                        <span style=\"padding-left:20px\">\\n', '                        \\n', '                        03-1 if문\\n', '                        </span>\\n', '                    </span>\\n', '                </a>\\n', '                \\n', '                <a href=\"javascript:page(21)\" class=\"list-group-item \">\\n', '                    <span style=\"white-space:nowrap;overflow:hidden;display:block;\"\\n', '                          title=\"03-2 while문\">\\n', '                        <span style=\"padding-left:20px\">\\n', '                        \\n', '                        03-2 while문\\n', '                        </span>\\n', '                    </span>\\n', '                </a>\\n', '                \\n', '                <a href=\"javascript:page(22)\" class=\"list-group-item \">\\n', '                    <span style=\"white-space:nowrap;overflow:hidden;display:block;\"\\n', '                          title=\"03-3 for문\">\\n', '                        <span style=\"padding-left:20px\">\\n', '                        \\n', '                        03-3 for문\\n', '                        </span>\\n', '                    </span>\\n', '                </a>\\n', '                \\n', '                <a href=\"javascript:page(180354)\" class=\"list-group-item \">\\n', '                    <span style=\"white-space:nowrap;overflow:hidden;display:block;\"\\n', '                          title=\"03장 되새김 문제\">\\n', '                        <span style=\"padding-left:20px\">\\n', '                        \\n', '                        03장 되새김 문제\\n', '                        </span>\\n', '                    </span>\\n', '                </a>\\n', '                \\n', '                <a href=\"javascript:page(23)\" class=\"list-group-item \">\\n', '                    <span style=\"white-space:nowrap;overflow:hidden;display:block;\"\\n', '                          title=\"04장 파이썬의 입출력\">\\n', '                        <span style=\"padding-left:0px\">\\n', '                        \\n', '                        04장 파이썬의 입출력\\n', '                        </span>\\n', '                    </span>\\n', '                </a>\\n', '                \\n', '                <a href=\"javascript:page(24)\" class=\"list-group-item \">\\n', '                    <span style=\"white-space:nowrap;overflow:hidden;display:block;\"\\n', '                          title=\"04-1 함수\">\\n', '                        <span style=\"padding-left:20px\">\\n', '                        \\n', '                        04-1 함수\\n', '                        </span>\\n', '                    </span>\\n', '                </a>\\n', '                \\n', '                <a href=\"javascript:page(25)\" class=\"list-group-item \">\\n', '                    <span style=\"white-space:nowrap;overflow:hidden;display:block;\"\\n', '                          title=\"04-2 사용자 입출력\">\\n', '                        <span style=\"padding-left:20px\">\\n', '                        \\n', '                        04-2 사용자 입출력\\n', '                        </span>\\n', '                    </span>\\n', '                </a>\\n', '                \\n', '                <a href=\"javascript:page(26)\" class=\"list-group-item \">\\n', '                    <span style=\"white-space:nowrap;overflow:hidden;display:block;\"\\n', '                          title=\"04-3 파일 읽고 쓰기\">\\n', '                        <span style=\"padding-left:20px\">\\n', '                        \\n', '                        04-3 파일 읽고 쓰기\\n', '                        </span>\\n', '                    </span>\\n', '                </a>\\n', '                \\n', '                <a href=\"javascript:page(180507)\" class=\"list-group-item \">\\n', '                    <span style=\"white-space:nowrap;overflow:hidden;display:block;\"\\n', '                          title=\"04-4 프로그램의 입출력\">\\n', '                        <span style=\"padding-left:20px\">\\n', '                        \\n', '                        04-4 프로그램의 입출력\\n', '                        </span>\\n', '                    </span>\\n', '                </a>\\n', '                \\n', '                <a href=\"javascript:page(180356)\" class=\"list-group-item \">\\n', '                    <span style=\"white-space:nowrap;overflow:hidden;display:block;\"\\n', '                          title=\"04장 되새김 문제\">\\n', '                        <span style=\"padding-left:20px\">\\n', '                        \\n', '                        04장 되새김 문제\\n', '                        </span>\\n', '                    </span>\\n', '                </a>\\n', '                \\n', '                <a href=\"javascript:page(27)\" class=\"list-group-item \">\\n', '                    <span style=\"white-space:nowrap;overflow:hidden;display:block;\"\\n', '                          title=\"05장 파이썬 날개 달기\">\\n', '                        <span style=\"padding-left:0px\">\\n', '                        \\n', '                        05장 파이썬 날개 달기\\n', '                        </span>\\n', '                    </span>\\n', '                </a>\\n', '                \\n', '                <a href=\"javascript:page(28)\" class=\"list-group-item \">\\n', '                    <span style=\"white-space:nowrap;overflow:hidden;display:block;\"\\n', '                          title=\"05-1 클래스\">\\n', '                        <span style=\"padding-left:20px\">\\n', '                        \\n', '                        05-1 클래스\\n', '                        </span>\\n', '                    </span>\\n', '                </a>\\n', '                \\n', '                <a href=\"javascript:page(29)\" class=\"list-group-item \">\\n', '                    <span style=\"white-space:nowrap;overflow:hidden;display:block;\"\\n', '                          title=\"05-2 모듈\">\\n', '                        <span style=\"padding-left:20px\">\\n', '                        \\n', '                        05-2 모듈\\n', '                        </span>\\n', '                    </span>\\n', '                </a>\\n', '                \\n', '                <a href=\"javascript:page(1418)\" class=\"list-group-item \">\\n', '                    <span style=\"white-space:nowrap;overflow:hidden;display:block;\"\\n', '                          title=\"05-3 패키지\">\\n', '                        <span style=\"padding-left:20px\">\\n', '                        \\n', '                        05-3 패키지\\n', '                        </span>\\n', '                    </span>\\n', '                </a>\\n', '                \\n', '                <a href=\"javascript:page(30)\" class=\"list-group-item \">\\n', '                    <span style=\"white-space:nowrap;overflow:hidden;display:block;\"\\n', '                          title=\"05-4 예외 처리\">\\n', '                        <span style=\"padding-left:20px\">\\n', '                        \\n', '                        05-4 예외 처리\\n', '                        </span>\\n', '                    </span>\\n', '                </a>\\n', '                \\n', '                <a href=\"javascript:page(32)\" class=\"list-group-item \">\\n', '                    <span style=\"white-space:nowrap;overflow:hidden;display:block;\"\\n', '                          title=\"05-5 내장 함수\">\\n', '                        <span style=\"padding-left:20px\">\\n', '                        \\n', '                        05-5 내장 함수\\n', '                        </span>\\n', '                    </span>\\n', '                </a>\\n', '                \\n', '                <a href=\"javascript:page(33)\" class=\"list-group-item \">\\n', '                    <span style=\"white-space:nowrap;overflow:hidden;display:block;\"\\n', '                          title=\"05-6 표준 라이브러리\">\\n', '                        <span style=\"padding-left:20px\">\\n', '                        \\n', '                        05-6 표준 라이브러리\\n', '                        </span>\\n', '                    </span>\\n', '                </a>\\n', '                \\n', '                <a href=\"javascript:page(180538)\" class=\"list-group-item \">\\n', '                    <span style=\"white-space:nowrap;overflow:hidden;display:block;\"\\n', '                          title=\"05-7 외부 라이브러리\">\\n', '                        <span style=\"padding-left:20px\">\\n', '                        \\n', '                        05-7 외부 라이브러리\\n', '                        </span>\\n', '                    </span>\\n', '                </a>\\n', '                \\n', '                <a href=\"javascript:page(180359)\" class=\"list-group-item \">\\n', '                    <span style=\"white-space:nowrap;overflow:hidden;display:block;\"\\n', '                          title=\"05장 되새김 문제\">\\n', '                        <span style=\"padding-left:20px\">\\n', '                        \\n', '                        05장 되새김 문제\\n', '                        </span>\\n', '                    </span>\\n', '                </a>\\n', '                \\n', '                <a href=\"javascript:page(34)\" class=\"list-group-item \">\\n', '                    <span style=\"white-space:nowrap;overflow:hidden;display:block;\"\\n', '                          title=\"06장 파이썬 프로그래밍, 어떻게 시작해야 할까?\">\\n', '                        <span style=\"padding-left:0px\">\\n', '                        \\n', '                        06장 파이썬 프로그래밍, 어떻게 시작해야 할까?\\n', '                        </span>\\n', '                    </span>\\n', '                </a>\\n', '                \\n', '                <a href=\"javascript:page(35)\" class=\"list-group-item \">\\n', '                    <span style=\"white-space:nowrap;overflow:hidden;display:block;\"\\n', '                          title=\"06-1 내가 프로그램을 만들 수 있을까?\">\\n', '                        <span style=\"padding-left:20px\">\\n', '                        \\n', '                        06-1 내가 프로그램을 만들 수 있을까?\\n', '                        </span>\\n', '                    </span>\\n', '                </a>\\n', '                \\n', '                <a href=\"javascript:page(40)\" class=\"list-group-item \">\\n', '                    <span style=\"white-space:nowrap;overflow:hidden;display:block;\"\\n', '                          title=\"06-2 3과 5의 배수를 모두 더하기\">\\n', '                        <span style=\"padding-left:20px\">\\n', '                        \\n', '                        06-2 3과 5의 배수를 모두 더하기\\n', '                        </span>\\n', '                    </span>\\n', '                </a>\\n', '                \\n', '                <a href=\"javascript:page(38)\" class=\"list-group-item \">\\n', '                    <span style=\"white-space:nowrap;overflow:hidden;display:block;\"\\n', '                          title=\"06-3 게시판 페이징하기\">\\n', '                        <span style=\"padding-left:20px\">\\n', '                        \\n', '                        06-3 게시판 페이징하기\\n', '                        </span>\\n', '                    </span>\\n', '                </a>\\n', '                \\n', '                <a href=\"javascript:page(36)\" class=\"list-group-item \">\\n', '                    <span style=\"white-space:nowrap;overflow:hidden;display:block;\"\\n', '                          title=\"06-4 간단한 메모장 만들기\">\\n', '                        <span style=\"padding-left:20px\">\\n', '                        \\n', '                        06-4 간단한 메모장 만들기\\n', '                        </span>\\n', '                    </span>\\n', '                </a>\\n', '                \\n', '                <a href=\"javascript:page(37)\" class=\"list-group-item \">\\n', '                    <span style=\"white-space:nowrap;overflow:hidden;display:block;\"\\n', '                          title=\"06-5 탭 문자를 공백 문자 4개로 바꾸기\">\\n', '                        <span style=\"padding-left:20px\">\\n', '                        \\n', '                        06-5 탭 문자를 공백 문자 4개로 바꾸기\\n', '                        </span>\\n', '                    </span>\\n', '                </a>\\n', '                \\n', '                <a href=\"javascript:page(39)\" class=\"list-group-item \">\\n', '                    <span style=\"white-space:nowrap;overflow:hidden;display:block;\"\\n', '                          title=\"06-6 하위 디렉터리 검색하기\">\\n', '                        <span style=\"padding-left:20px\">\\n', '                        \\n', '                        06-6 하위 디렉터리 검색하기\\n', '                        </span>\\n', '                    </span>\\n', '                </a>\\n', '                \\n', '                <a href=\"javascript:page(184208)\" class=\"list-group-item \">\\n', '                    <span style=\"white-space:nowrap;overflow:hidden;display:block;\"\\n', '                          title=\"07장 파이썬 날아오르기\">\\n', '                        <span style=\"padding-left:0px\">\\n', '                        \\n', '                        07장 파이썬 날아오르기\\n', '                        </span>\\n', '                    </span>\\n', '                </a>\\n', '                \\n', '                <a href=\"javascript:page(184209)\" class=\"list-group-item \">\\n', '                    <span style=\"white-space:nowrap;overflow:hidden;display:block;\"\\n', '                          title=\"07-1 파이썬과 유니코드\">\\n', '                        <span style=\"padding-left:20px\">\\n', '                        \\n', '                        07-1 파이썬과 유니코드\\n', '                        </span>\\n', '                    </span>\\n', '                </a>\\n', '                \\n', '                <a href=\"javascript:page(184210)\" class=\"list-group-item \">\\n', '                    <span style=\"white-space:nowrap;overflow:hidden;display:block;\"\\n', '                          title=\"07-2 클로저와 데코레이터\">\\n', '                        <span style=\"padding-left:20px\">\\n', '                        \\n', '                        07-2 클로저와 데코레이터\\n', '                        </span>\\n', '                    </span>\\n', '                </a>\\n', '                \\n', '                <a href=\"javascript:page(184211)\" class=\"list-group-item \">\\n', '                    <span style=\"white-space:nowrap;overflow:hidden;display:block;\"\\n', '                          title=\"07-3 이터레이터와 제너레이터\">\\n', '                        <span style=\"padding-left:20px\">\\n', '                        \\n', '                        07-3 이터레이터와 제너레이터\\n', '                        </span>\\n', '                    </span>\\n', '                </a>\\n', '                \\n', '                <a href=\"javascript:page(184212)\" class=\"list-group-item \">\\n', '                    <span style=\"white-space:nowrap;overflow:hidden;display:block;\"\\n', '                          title=\"07-4 파이썬 타입 어노테이션\">\\n', '                        <span style=\"padding-left:20px\">\\n', '                        \\n', '                        07-4 파이썬 타입 어노테이션\\n', '                        </span>\\n', '                    </span>\\n', '                </a>\\n', '                \\n', '                <a href=\"javascript:page(1669)\" class=\"list-group-item \">\\n', '                    <span style=\"white-space:nowrap;overflow:hidden;display:block;\"\\n', '                          title=\"08장 정규표현식\">\\n', '                        <span style=\"padding-left:0px\">\\n', '                        \\n', '                        08장 정규표현식\\n', '                        </span>\\n', '                    </span>\\n', '                </a>\\n', '                \\n', '                <a href=\"javascript:page(1642)\" class=\"list-group-item \">\\n', '                    <span style=\"white-space:nowrap;overflow:hidden;display:block;\"\\n', '                          title=\"08-1 정규 표현식 살펴보기\">\\n', '                        <span style=\"padding-left:20px\">\\n', '                        \\n', '                        08-1 정규 표현식 살펴보기\\n', '                        </span>\\n', '                    </span>\\n', '                </a>\\n', '                \\n', '                <a href=\"javascript:page(4308)\" class=\"list-group-item \">\\n', '                    <span style=\"white-space:nowrap;overflow:hidden;display:block;\"\\n', '                          title=\"08-2 정규 표현식 시작하기\">\\n', '                        <span style=\"padding-left:20px\">\\n', '                        \\n', '                        08-2 정규 표현식 시작하기\\n', '                        </span>\\n', '                    </span>\\n', '                </a>\\n', '                \\n', '                <a href=\"javascript:page(4309)\" class=\"list-group-item \">\\n', '                    <span style=\"white-space:nowrap;overflow:hidden;display:block;\"\\n', '                          title=\"08-3 강력한 정규 표현식의 세계로\">\\n', '                        <span style=\"padding-left:20px\">\\n', '                        \\n', '                        08-3 강력한 정규 표현식의 세계로\\n', '                        </span>\\n', '                    </span>\\n', '                </a>\\n', '                \\n', '                <a href=\"javascript:page(202338)\" class=\"list-group-item \">\\n', '                    <span style=\"white-space:nowrap;overflow:hidden;display:block;\"\\n', '                          title=\"09장 부록\">\\n', '                        <span style=\"padding-left:0px\">\\n', '                        \\n', '                        09장 부록\\n', '                        </span>\\n', '                    </span>\\n', '                </a>\\n', '                \\n', '                <a href=\"javascript:page(180361)\" class=\"list-group-item \">\\n', '                    <span style=\"white-space:nowrap;overflow:hidden;display:block;\"\\n', '                          title=\"09-1 파이썬 코딩 면허 시험 20제\">\\n', '                        <span style=\"padding-left:20px\">\\n', '                        \\n', '                        09-1 파이썬 코딩 면허 시험 20제\\n', '                        </span>\\n', '                    </span>\\n', '                </a>\\n', '                \\n', '                <a href=\"javascript:page(193066)\" class=\"list-group-item \">\\n', '                    <span style=\"white-space:nowrap;overflow:hidden;display:block;\"\\n', '                          title=\"09-2 챗GPT와 함께 파이썬 공부하기\">\\n', '                        <span style=\"padding-left:20px\">\\n', '                        \\n', '                        09-2 챗GPT와 함께 파이썬 공부하기\\n', '                        </span>\\n', '                    </span>\\n', '                </a>\\n', '                \\n', '                <a href=\"javascript:page(180362)\" class=\"list-group-item \">\\n', '                    <span style=\"white-space:nowrap;overflow:hidden;display:block;\"\\n', '                          title=\"10장 정답 및 풀이\">\\n', '                        <span style=\"padding-left:0px\">\\n', '                        \\n', '                        10장 정답 및 풀이\\n', '                        </span>\\n', '                    </span>\\n', '                </a>\\n', '                \\n', '                <a href=\"javascript:page(78308)\" class=\"list-group-item \">\\n', '                    <span style=\"white-space:nowrap;overflow:hidden;display:block;\"\\n', '                          title=\"마치며.\">\\n', '                        <span style=\"padding-left:0px\">\\n', '                        \\n', '                        마치며.\\n', '                        </span>\\n', '                    </span>\\n', '                </a>\\n', '                \\n', '            </div>\\n', '        </div>\\n', '        \\n', '        <input type=\"hidden\" name=\"request_mobile\" id=\"request_mobile\" value=\"0\" />\\n', '    </div>\\n', '</div>\\n', '<script>\\n', 'function myTrim(x) {\\n', \"    return x.replace(/^\\\\s+|\\\\s+$/gm,'');\\n\", '}\\n', 'function search_json() {\\n', '    var kw = myTrim($(\"#kw\").val());\\n', '    if(!kw) {\\n', '        return;\\n', '    }\\n', '    location.href = \"/book/search/result/1?keyword=\"+kw;\\n', '}\\n', '$(document).ready(function () {\\n', '    $(\".book-search\").on(\"click\", function() {\\n', '        $(\"#search_form\").submit();\\n', '    });\\n', '    $(\"#mobile_search_btn\").on(\"click\", function() {\\n', '        search_json();\\n', '    });\\n', '    $(\".home\").on(\"click\", function() {\\n', '        location.href = \"/\";\\n', '    });\\n', '    if (typeof(Storage) !== \"undefined\") {\\n', '        if(localStorage.sidebar == \"hidden\") {\\n', '            menuToggle();\\n', '        }else {\\n', '            $(\".sidebar\").show();\\n', '            $(\".toc-header\").show();\\n', '        }\\n', '    }else {\\n', '        $(\".sidebar\").show();\\n', '        $(\".toc-header\").show();\\n', '    }\\n', '    $(\".toc\").css(\"display\", \"block\");\\n', '    if (typeof(Storage) !== \"undefined\") {\\n', '        $(\".sidebar\").scrollTop(localStorage.sp);\\n', '    }\\n', '    var $activeItem = $(\".list-group-item.active\");\\n', '    if ($activeItem.length) {\\n', '        var sidebar = $(\".sidebar\");\\n', '        var sidebarTop = sidebar.offset().top;\\n', '        var sidebarBottom = sidebarTop + sidebar.height();\\n', '        var itemTop = $activeItem.offset().top;\\n', '        var itemBottom = itemTop + $activeItem.outerHeight();\\n', '        // 선택된 메뉴 항목이 현재 보이는 영역 내에 있는지 확인\\n', '        if (itemTop < sidebarTop || itemBottom > sidebarBottom) {\\n', '            var scrollPosition = sidebar.scrollTop() + (itemTop - sidebarTop);\\n', '            sidebar.scrollTop(scrollPosition);\\n', '        }\\n', '    }\\n', '    $(\".sidebar\").css(\"overflow-y\", \"auto\");\\n', '    $(\".toc_item\").on(\"click\", function() {\\n', '        var page_id = $(this).attr(\"page_id\");\\n', '        page(page_id);\\n', '    });\\n', '    $(\".menu-toggle\").on(\"click\", function() {\\n', '        menuToggle();\\n', '        if (typeof(Storage) !== \"undefined\") {\\n', '            if(localStorage.sidebar == \"hidden\") {\\n', '                localStorage.sidebar = \"show\";\\n', '            }else {\\n', '                localStorage.sidebar = \"hidden\";\\n', '            }\\n', '        }\\n', '    });\\n', '    \\n', '    $(\"input[name=toc_on_off]\").on(\"click\", function() {\\n', '        var result = $(this).val();\\n', '        if (typeof(Storage) !== \"undefined\") {\\n', '            localStorage.toc = result;\\n', '        }\\n', '    });\\n', '    if (typeof(Storage) !== \"undefined\") {\\n', '        if (localStorage.getItem(\"toc\") === null) {  // init value\\n', '            localStorage.toc = \"hide\";\\n', '        }\\n', '        if(localStorage.toc == \"hide\") {\\n', \"            $('#toc_off').prop('checked', true);\\n\", '            $(\".toc-checker\").hide();\\n', '        }else {\\n', \"            $('#toc_on').prop('checked', true);\\n\", '            $(\".toc-checker\").removeClass(\"hide\");\\n', '            $(\".toc-checker\").show();\\n', '        }\\n', '    }\\n', '    \\n', '    $(\"#load_content\").show();\\n', '});\\n', '\\n', 'function menuToggle(no_sidebar) {\\n', '    if(!no_sidebar) {\\n', '        $(\".sidebar\").toggle();\\n', '        $(\".toc-header\").toggle();\\n', '    }\\n', '    $(\"#load_content\").toggleClass(\"col-sm-offset-3\");\\n', '    $(\"#load_content\").toggleClass(\"col-sm-9\");\\n', '    $(\"#load_content\").toggleClass(\"col-sm-12\");\\n', '    $(\"#load_content\").toggleClass(\"sidebar-padding\");\\n', '    $(\".prev_next_indicator\").toggle();\\n', '    $(\".menu-group\").toggle();\\n', '}\\n', '\\n', 'function page(no) {\\n', '    var scrollpos = $(\".sidebar\").scrollTop();\\n', '    if (typeof(Storage) !== \"undefined\") {\\n', '        localStorage.sp = scrollpos;\\n', '    }\\n', '    location.href = \"/\"+no;\\n', '    return false;\\n', '    $(\".selected_toc\").removeClass(\"selected_toc\");\\n', '    $(\".toc_item\").each(function() {\\n', '        var page_id = $(this).attr(\"page_id\");\\n', '        if(page_id == no) {\\n', '            $(this).addClass(\"selected_toc\");\\n', '        }\\n', '    });\\n', '    var url = \"/load/\"+no;\\n', '    $(\"#load_content\").load(url, function(responseTxt, statusTxt, xhr){\\n', '        if(statusTxt == \"success\") {\\n', '            $(\"#load_content\").scrollTop(0);\\n', '            window.history.pushState(\"object or string\", \"02-1 숫자형\", \"/\"+no);\\n', '        }\\n', '        if(statusTxt == \"error\") {\\n', '            alert(\"Error: \" + xhr.status + \": \" + xhr.statusText);\\n', '        }\\n', '    });\\n', '}\\n', '/* search keyword */\\n', '$(document).ready(function() {\\n', \"    const $searchInput = $('#kw');\\n\", \"    const $searchResults = $('#search-results');\\n\", '    const ajax_search = function(event) {\\n', '        var query = $searchInput.val().trim();\\n', '        if (query.length >= 1) {  // 예시로 2글자 이상 입력될 때 검색을 시작합니다.\\n', '            $.ajax({\\n', \"                url: '/book/search.json/',  // 검색 요청을 처리할 서버의 URL\\n\", '                data: {\\n', \"                    'kw': query,\\n\", \"                    'book_id': '1',\\n\", '                },\\n', \"                dataType: 'json',\\n\", '                success: function(data) {\\n', '                    $searchResults.empty();\\n', '                    if (data.results.length > 0) {\\n', '                        data.results.forEach(function(item) {\\n', '                            $searchResults.append(\\'<li class=\"dropdown-item result-item\" data-url=\"/\\'+item.id+\\'\">\\' + item.subject + \\'</li>\\');\\n', '                        });\\n', '                        $searchResults.show();\\n', '                    } else {\\n', '                        $searchResults.hide();\\n', '                    }\\n', '                }\\n', '            });\\n', '        } else {\\n', '            $searchResults.empty().hide();\\n', '        }\\n', '    }\\n', \"    $searchInput.on('keydown', function(event) {\\n\", \"        if (event.key === 'ArrowDown') {\\n\", '            event.preventDefault();\\n', \"            const $results = $searchResults.find('li');\\n\", '            if ($results.length > 0) {\\n', \"                $results.first().addClass('active').attr('tabindex', -1).focus();\\n\", '            }\\n', \"        }else if(event.key == 'Escape') {\\n\", '            $searchResults.empty().hide();\\n', \"            $searchInput.val('');\\n\", \"            $searchInput.attr('tabindex', -1).focus();\\n\", '        }\\n', '    });\\n', \"    $searchInput.on('keyup', function(event) {\\n\", \"        if (event.key === 'Enter') {\\n\", '            let val = $(this).val();\\n', '            if (val.length >= 1) {\\n', '                window.location.href = \"/book/search/result/1?find_kw=\"+val+\"&exact_match=1&page=1\";\\n', '            }\\n', \"        }else if(event.key == 'Escape') {\\n\", '            $searchResults.empty().hide();\\n', \"            $searchInput.val('');\\n\", \"            $searchInput.attr('tabindex', -1).focus();\\n\", \"        }else if (!event.key.startsWith('Arrow')) {\\n\", '            ajax_search(event);\\n', '        }\\n', '    });\\n', \"    $searchResults.on('keydown', 'li', function(event) {\\n\", \"        const $results = $searchResults.find('li');\\n\", '        const currentIndex = $results.index(this);\\n', \"        if (event.key === 'ArrowDown') {\\n\", '            event.preventDefault();\\n', '            const nextIndex = (currentIndex + 1) % $results.length;\\n', \"            $results.removeClass('active');\\n\", \"            $results.eq(nextIndex).addClass('active').attr('tabindex', -1).focus();            \\n\", \"        } else if (event.key === 'ArrowUp') {\\n\", '            event.preventDefault();\\n', \"            $results.removeClass('active');\\n\", '            if(currentIndex == 0) {\\n', \"                $searchInput.attr('tabindex', -1).focus();\\n\", '            }else {\\n', '                const prevIndex = (currentIndex - 1 + $results.length) % $results.length;\\n', \"                $results.eq(prevIndex).addClass('active').attr('tabindex', -1).focus();\\n\", '            }\\n', \"        }else if(event.key == 'Enter') {\\n\", \"            window.location.href = $(this).data('url');\\n\", \"        }else if(event.key == 'Escape') {\\n\", '            $searchResults.empty().hide();\\n', \"            $searchInput.val('');\\n\", \"            $searchInput.attr('tabindex', -1).focus();\\n\", '        }\\n', '    });\\n', \"    $(document).on('click', function(event) {\\n\", '        if(event.target !== $searchResults[0]) {\\n', '            $searchResults.empty().hide();\\n', '        }\\n', '    });\\n', '    $(document).on(\\'click\\', \".result-item\", function(event) {\\n', \"        window.location.href = $(this).data('url');\\n\", '    });\\n', '    $(\".find-btn\").on(\\'click\\', function(event) {\\n', '        let val = $searchInput.val();\\n', '        window.location.href = \"/book/search/result/1?find_kw=\"+val+\"&exact_match=1&page=1\";\\n', '    })\\n', '});\\n', '</script>\\n', '\\n', '    </div>\\n', '    <div class=\"page col-sm-offset-3 col-sm-9\" id=\"load_content\" style=\"display:none;margin-top:0px;\">\\n', '        \\n', '\\n', '\\n', '\\n', '\\n', '\\n', '\\n', '\\n', '<div class=\"btn-group pull-right menu-group\" role=\"group\">\\n', '    <button class=\"btn btn-xs btn-default menu_link menu-toggle\">\\n', '        <i class=\"glyphicon glyphicon-menu-hamburger\" title=\"메뉴\"></i>\\n', '    </button>\\n', '</div>\\n', '<div class=\"menu-wikidocs\">\\n', '</div>\\n', '\\n', '\\n', '\\n', '<div class=\"clearfix page-depth\">\\n', '    <ol class=\"breadcrumb pull-left\">\\n', '        <li><small><a href=\"/book/1\"><i class=\"glyphicon glyphicon-book\"></i> <strong>점프 투 파이썬</strong></a></small></li>\\n', '        \\n', '        <li><small><a href=\"/11\">02장 파이썬 프로그래밍의 기초, 자료형</a></small></li>\\n', '        \\n', '        <li><small><a href=\"/12\">02-1 숫자형</a></small></li>\\n', '        \\n', '    </ol>\\n', '    \\n', '    <ol class=\"breadcrumb pull-right\">\\n', '        \\n', '<li>\\n', '    <a href=\"/265568\" class=\"btn btn-xs btn-danger\" style=\"color:#fff\"><i class=\"glyphicon glyphicon-gift\"></i> 도서 증정 이벤트 !!</a>\\n', '</li>\\n', '\\n', '\\n', '        \\n', '        <li>\\n', '            <a href=\"/\"><small class=\"logo\"><i class=\"glyphicon glyphicon-home\"></i> 위키독스</small></a>\\n', '        </li>\\n', '    </ol>\\n', '    \\n', '</div>\\n', '\\n', '<h1 class=\"page-subject\">\\n', '    02-1 숫자형\\n', '    \\n', '</h1>\\n', '<!-- google adsense -->\\n', '<!-- PC -->\\n', '\\n', '\\n', '<!-- Mobile -->\\n', '\\n', '    \\n', '        <div style=\"margin:20px 0;\">\\n', '            <!-- 위키독스 포인트 광고 -->\\n', '            <!-- 위키독스모바일2020 -->\\n', '<script async src=\"https://pagead2.googlesyndication.com/pagead/js/adsbygoogle.js?client=ca-pub-9470517771012578\" crossorigin=\"anonymous\"></script>\\n', '<ins class=\"adsbygoogle\"\\n', '        style=\"display:block\"\\n', '        data-ad-client=\"ca-pub-9470517771012578\"\\n', '        data-ad-slot=\"4465552259\"\\n', '        data-ad-format=\"auto\"\\n', '        data-full-width-responsive=\"true\"></ins>\\n', '<script>\\n', '        (adsbygoogle = window.adsbygoogle || []).push({});\\n', '</script>\\n', '        </div>\\n', '    \\n', '\\n', '\\n', '<!-- google adsense -->\\n', '<div class=\"page-content tex2jax_process\">\\n', '    \\n', '    <p>숫자형(Number)이란 숫자 형태로 이루어진 자료형으로, 우리가 이미 잘 알고 있는 것이다. 우리가 흔히 사용하는 숫자들을 생각해 보자. 123과 같은 정수, 12.34와 같은 실수, 8진수나 16진수도 있다.</p>\\n', '<p>다음 표는 파이썬에서 숫자를 어떻게 사용하는지 간략하게 보여 준다.</p>\\n', '<table>\\n', '<thead>\\n', '<tr>\\n', '<th>항목</th>\\n', '<th>파이썬 사용 예</th>\\n', '</tr>\\n', '</thead>\\n', '<tbody>\\n', '<tr>\\n', '<td>정수</td>\\n', '<td>123, -345, 0</td>\\n', '</tr>\\n', '<tr>\\n', '<td>실수</td>\\n', '<td>123.45, -1234.5, 3.4e10</td>\\n', '</tr>\\n', '<tr>\\n', '<td>8진수</td>\\n', '<td>0o34, 0o25</td>\\n', '</tr>\\n', '<tr>\\n', '<td>16진수</td>\\n', '<td>0x2A, 0xFF</td>\\n', '</tr>\\n', '</tbody>\\n', '</table>\\n', '<p>이제 이런 숫자를 파이썬에서는 어떻게 만들고 사용하는지 자세히 알아보자.</p>\\n', '<div class=\"toc\">\\n', '<ul>\\n', '<li><a href=\"#_1\">숫자형은 어떻게 만들고 사용할까?</a><ul>\\n', '<li><a href=\"#_2\">정수형</a></li>\\n', '<li><a href=\"#_3\">실수형</a></li>\\n', '<li><a href=\"#8-16\">8진수와 16진수</a></li>\\n', '</ul>\\n', '</li>\\n', '<li><a href=\"#_4\">숫자형을 활용하기 위한 연산자</a><ul>\\n', '<li><a href=\"#_5\">사칙 연산</a></li>\\n', '<li><a href=\"#x-y\">x의 y제곱을 나타내는 ** 연산자</a></li>\\n', '<li><a href=\"#_6\">나눗셈 후 나머지를 리턴하는 % 연산자</a></li>\\n', '<li><a href=\"#_7\">나눗셈 후 몫을 리턴하는 // 연산자</a></li>\\n', '<li><a href=\"#_8\">복합 연산자</a></li>\\n', '</ul>\\n', '</li>\\n', '</ul>\\n', '</div>\\n', '<h2 id=\"_1\">숫자형은 어떻게 만들고 사용할까?</h2>\\n', '<h3 id=\"_2\">정수형</h3>\\n', '<p>정수형(integer)이란 말 그대로 정수를 뜻하는 자료형을 말한다. 다음은 양의 정수와 음의 정수, 숫자 0을 변수 a에 대입하는 예이다.</p>\\n', '<pre><code class=\"language-python\">&gt;&gt;&gt; a = 123\\n', '&gt;&gt;&gt; a = -178\\n', '&gt;&gt;&gt; a = 0\\n', '</code></pre>\\n', '<h3 id=\"_3\">실수형</h3>\\n', '<p>파이썬에서 실수형(floating-point)은 소수점이 포함된 숫자를 말한다. 다음은 실수를 변수 a에 대입하는 예이다. 일반적으로 볼 수 있는 실수형의 소수점 표현 방식이다.</p>\\n', '<pre><code class=\"language-python\">&gt;&gt;&gt; a = 1.2\\n', '&gt;&gt;&gt; a = -3.45\\n', '</code></pre>\\n', '<p>다음은 ‘컴퓨터식 지수 표현 방식’으로, 파이썬에서는 4.24e10 또는 4.24E10처럼 표현한다(e와 E 둘 중 어느 것을 사용해도 된다).</p>\\n', '<pre><code class=\"language-python\">&gt;&gt;&gt; a = 4.24E10\\n', '&gt;&gt;&gt; a = 4.24e-10\\n', '</code></pre>\\n', '<p>여기서 4.24E10은 $4.24 * 10^{10}$, 4.24e-10은 $4.24 * 10^{-10}$을 의미한다.</p>\\n', '<h3 id=\"8-16\">8진수와 16진수</h3>\\n', '<p>8진수(octal)를 만들기 위해서는 숫자가 0o 또는 0O(숫자 0 + 알파벳 소문자 o 또는 대문자 O)으로 시작하면 된다.</p>\\n', '<pre><code class=\"language-python\">&gt;&gt;&gt; a = 0o177\\n', '&gt;&gt;&gt; print(a)\\n', '127\\n', '</code></pre>\\n', '<blockquote>\\n', '<p>0o177 = $1×8^2+7×8^1+7=127$</p>\\n', '</blockquote>\\n', '<p>16진수(hexadecimal)를 만들기 위해서는 0x로 시작하면 된다.</p>\\n', '<pre><code class=\"language-python\">&gt;&gt;&gt; a = 0x8ff\\n', '&gt;&gt;&gt; b = 0xABC\\n', '&gt;&gt;&gt; print(b)\\n', '2748\\n', '</code></pre>\\n', '<blockquote>\\n', '<p>0xABC = $10×16^2+11×16^1+12=2748$  (A:10, B:11, C:12)</p>\\n', '</blockquote>\\n', '<p>8진수나 16진수는 파이썬에서 잘 사용하지 않는 형태의 숫자 자료형이므로 간단히 눈으로만 익히고 넘어가자.</p>\\n', '<h2 id=\"_4\">숫자형을 활용하기 위한 연산자</h2>\\n', '<h3 id=\"_5\">사칙 연산</h3>\\n', '<p>프로그래밍을 한 번도 해 본 적이 없는 독자라도 사칙 연산(<code>+</code>, <code>-</code>, <code>*</code>, <code>/</code>)은 알고 있을 것이다. 파이썬 역시 계산기와 마찬가지로 다음처럼 연산자를 사용해 사칙 연산을 수행한다.</p>\\n', '<pre><code class=\"language-python\">&gt;&gt;&gt; a = 3\\n', '&gt;&gt;&gt; b = 4\\n', '&gt;&gt;&gt; a + b\\n', '7\\n', '&gt;&gt;&gt; a - b\\n', '-1\\n', '&gt;&gt;&gt; a * b\\n', '12\\n', '&gt;&gt;&gt; a / b\\n', '0.75\\n', '</code></pre>\\n', '<h3 id=\"x-y\">x의 y제곱을 나타내는 ** 연산자</h3>\\n', '<p>다음으로 알아야 할 연산자로 <code>**</code>라는 연산자가 있다. 이 연산자는 <code>x ** y</code>처럼 사용했을 때 x의 y제곱($x^y$) 값을 리턴한다. 다음 예를 통해 알아보자.</p>\\n', '<pre><code class=\"language-python\">&gt;&gt;&gt; a = 3\\n', '&gt;&gt;&gt; b = 4\\n', '&gt;&gt;&gt; a ** b\\n', '81\\n', '</code></pre>\\n', '<h3 id=\"_6\">나눗셈 후 나머지를 리턴하는 <code>%</code> 연산자</h3>\\n', '<p>프로그래밍을 처음 접하는 독자라면 <code>%</code> 연산자는 본 적이 없을 것이다. <code>%</code>는 나눗셈의 나머지 값을 리턴하는 연산자이다. 7을 3으로 나누면 나머지는 1, 3을 7로 나누면 나머지는 3이 될 것이다. 다음 예로 확인해 보자.</p>\\n', '<pre><code class=\"language-python\">&gt;&gt;&gt; 7 % 3\\n', '1\\n', '&gt;&gt;&gt; 3 % 7\\n', '3\\n', '</code></pre>\\n', '<p><img alt=\"\" src=\"https://wikidocs.net/images/page/12/02_1_mod1.png\" /></p>\\n', '<h3 id=\"_7\">나눗셈 후 몫을 리턴하는 // 연산자</h3>\\n', '<p><code>/</code> 연산자를 사용하여 7 나누기 4를 하면 그 결과는 예상대로 1.75가 된다.</p>\\n', '<pre><code class=\"language-python\">&gt;&gt;&gt; 7 / 4\\n', '1.75\\n', '</code></pre>\\n', '<p>이번에는 나눗셈 후 몫을 리턴하는 <code>//</code> 연산자를 사용한 경우를 살펴보자.</p>\\n', '<pre><code class=\"language-python\">&gt;&gt;&gt; 7 // 4\\n', '1\\n', '</code></pre>\\n', '<p>1.75에서 몫에 해당하는 정숫값 1만 리턴하는 것을 확인할 수 있다.</p>\\n', '<p><img alt=\"\" src=\"https://wikidocs.net/images/page/12/02_1_mod2.png\" /></p>\\n', '<h3 id=\"_8\">복합 연산자</h3>\\n', '<p>복합 연산자는 앞서 살펴본 <code>+</code>, <code>-</code> 와 같은 산술 연산자와 대입 연산자(<code>=</code>)를 합쳐 놓은 것이다. 복합 연산자가 무엇인지 예를 통해 자세히 알아보자. </p>\\n', '<p>먼저 다음과 같이 a에 1이라는 값을 대입해 보자.</p>\\n', '<pre><code class=\"language-python\">&gt;&gt;&gt; a = 1\\n', '</code></pre>\\n', '<p>이제 a의 값을 1만큼 증가시키려면 다음과 같이 할 수 있다.</p>\\n', '<pre><code class=\"language-python\">&gt;&gt;&gt; a = a + 1  # a + 1로 계산된 값을 다시 a에 대입한다.\\n', '&gt;&gt;&gt; print(a)\\n', '2\\n', '</code></pre>\\n', '<p><code>a = a + 1</code> 식에 의해 a의 값이 1만큼 증가된다. <code>a = a + 1</code>과 같은 표현식은 값을 증가시키기 위해 자주 사용한다. 하지만 이 표현식은 다음과 같이 더 간략하게 표현할 수 있다.</p>\\n', '<pre><code class=\"language-python\">&gt;&gt;&gt; a += 1\\n', '</code></pre>\\n', '<p><code>a += 1</code>이라는 표현식은 <code>a = a + 1</code>을 줄여서 표현한 것으로 완전히 동일한 기능을 한다. 여기에서 사용한 <code>+=</code> 와 같은 연산자를 <strong>복합 연산자</strong>라 부른다. </p>\\n', '<p>만약 a의 값을 1만큼 감소 시키려면 다음과 같은 <code>-=</code> 복합 연산자를 사용할 수 있다.</p>\\n', '<pre><code class=\"language-python\">&gt;&gt;&gt; a = 1\\n', '&gt;&gt;&gt; a -= 1  # a = a - 1 과 같음\\n', '&gt;&gt;&gt; print(a)\\n', '0\\n', '</code></pre>\\n', '<p>복합 연산자에는 다음과 같은 것들이 있다.</p>\\n', '<pre><code class=\"language-plaintext\">+=, -=, *=, /=, //=, %=, **=\\n', '</code></pre>\\n', '<p>이렇게 복합 연산자를 사용하면 코드를 더욱 간결하고 가독성 있게 작성할 수 있다.</p>\\n', '</div>\\n', '<div class=\"muted text-right\" style=\"font-size: 0.9em;margin:10px 0;\">\\n', '    \\n', '    마지막 편집일시 : 2024년 8월 31일 11:51 오전\\n', '    \\n', '</div>\\n', '\\n', '\\n', '\\n', '<!-- google adsense -->\\n', '<!-- PC -->\\n', '\\n', '<!-- Mobile -->\\n', '\\n', '    \\n', '    \\n', '\\n', '\\n', '<!-- google adsense -->\\n', '<div class=\"clearfix\">\\n', '    <a href=\"javascript:show_comments();\" class=\"label label-info\">댓글 36</a>\\n', '    <a href=\"#myModal\" data-toggle=\"modal\" title=\"피드백을 남겨주세요\" class=\"label label-info\">피드백</a>\\n', '</div>\\n', '<div class=\"user_comments\" style=\"display:none\">\\n', '    <div class=\"comments\" id=\"page_all_comments\">\\n', '        \\n', '\\n', '\\n', '\\n', '\\n', '<div style=\"margin:15px 0 10px 0; font-size:0.75em;\">\\n', '    <a href=\"javascript:get_all_page_comments(12)\">댓글 26개 더 보기...</a>\\n', '</div>\\n', '\\n', '\\n', '\\n', '\\n', '    <div class=\"comment comment_border_top\">\\n', '        <a name=\"comment_6902\"></a>\\n', '        <span style=\"white-space:pre-wrap;\">다른 언어에선 본 적 없는 연산자네요. 보면서 감탄했어요. 파이썬이 왜 알고리즘 문제에서 많이 사용되는 언어인지 조금씩 알 것 같아요.</span>\\n', '        <span style=\"font-size:12px;color:#888;\">\\n', '            -\\n', '            \\n', '                <a class=\"menu_link\" href=\"/profile/info/book/8722\">환오</a>,\\n', '            \\n', '            2019년 9월 9일 11:08 오후\\n', '            \\n', '            \\n', '            \\n', '        </span>\\n', '    </div>\\n', '\\n', '    <div class=\"comment comment_border_top\">\\n', '        <a name=\"comment_7676\"></a>\\n', '        <span style=\"white-space:pre-wrap;\">몫과 나머지 연산 시 음수를 예제로 써주시면 이해가 더 깊이 될 것 같네요. -1%4 = 3, -7%4 = 1</span>\\n', '        <span style=\"font-size:12px;color:#888;\">\\n', '            -\\n', '            \\n', '                <a class=\"menu_link\" href=\"/profile/info/book/10428\">Hanlim</a>,\\n', '            \\n', '            2020년 7월 16일 1:28 오후\\n', '            \\n', '            \\n', '            \\n', '        </span>\\n', '    </div>\\n', '\\n', '    <div class=\"comment comment_border_top\">\\n', '        <a name=\"comment_7679\"></a>\\n', '        <span style=\"white-space:pre-wrap;\">@Hanlim님, 음수의 예제도 추가를 검토하도록 하겠습니다.</span>\\n', '        <span style=\"font-size:12px;color:#888;\">\\n', '            -\\n', '            \\n', '                <a class=\"menu_link\" href=\"/profile/info/book/3\">박응용</a>,\\n', '            \\n', '            2020년 7월 17일 10:15 오전\\n', '            \\n', '            \\n', '            \\n', '        </span>\\n', '    </div>\\n', '\\n', '    <div class=\"comment comment_border_top\">\\n', '        <a name=\"comment_8597\"></a>\\n', '        <span style=\"white-space:pre-wrap;\">사칙연산에서 &#x27;-&#x27;가 빠진 것 같습니다.</span>\\n', '        <span style=\"font-size:12px;color:#888;\">\\n', '            -\\n', '            \\n', '                <a class=\"menu_link\" href=\"/profile/info/book/11270\">Eun-Cheon</a>,\\n', '            \\n', '            2020년 11월 17일 9:56 오전\\n', '            \\n', '            \\n', '            \\n', '        </span>\\n', '    </div>\\n', '\\n', '    <div class=\"comment comment_border_top\">\\n', '        <a name=\"comment_8872\"></a>\\n', '        <span style=\"white-space:pre-wrap;\">@Eun-Cheon님, 사칙연산 예제에 빼기(-)도 추가 검토하겠습니다. 좋은의견 감사합니다.</span>\\n', '        <span style=\"font-size:12px;color:#888;\">\\n', '            -\\n', '            \\n', '                <a class=\"menu_link\" href=\"/profile/info/book/3\">박응용</a>,\\n', '            \\n', '            2020년 12월 9일 12:17 오전\\n', '            \\n', '            \\n', '            \\n', '        </span>\\n', '    </div>\\n', '\\n', '    <div class=\"comment comment_border_top\">\\n', '        <a name=\"comment_9085\"></a>\\n', '        <span style=\"white-space:pre-wrap;\">IDLE에서는 되지만, Visual Studio Code (1.52.1)에서는 에러가 나는 예제가 있습니다. (파이썬 3.9)\\n', 'PS C:\\\\Users\\\\tomai\\\\OneDrive\\\\문서\\\\jocoding&gt; 7//5\\n', '위치 줄:1 문자:3\\n', '+ 7//5\\n', '+   ~\\n', '&#x27;/&#x27; 연산자 뒤에 값 식을 제공해야 합니다.\\n', '    + CategoryInfo          : ParserError: (:) [], ParentContainsErrorRecordException\\n', '    + FullyQualifiedErrorId : ExpectedValueExpression</span>\\n', '        <span style=\"font-size:12px;color:#888;\">\\n', '            -\\n', '            \\n', '                <a class=\"menu_link\" href=\"/profile/info/book/11588\">일순</a>,\\n', '            \\n', '            2021년 1월 1일 6:31 오후\\n', '            \\n', '            \\n', '            \\n', '        </span>\\n', '    </div>\\n', '\\n', '    <div class=\"comment comment_border_top\">\\n', '        <a name=\"comment_10432\"></a>\\n', '        <span style=\"white-space:pre-wrap;\">@종건님 3 % 7은 말씀대로 3을 7로 나누는 건데 몫이 0인건 알겠으나 나머지가 어떻게 생기는지 이해가 안갑니다....계산기로 해도 0.42857142857142857142857142857143 이렇게 나옵니다...ㅠㅠ 제가 수학에 무지하여 궁금하여 질문드려봅니다. 감사합니다.</span>\\n', '        <span style=\"font-size:12px;color:#888;\">\\n', '            -\\n', '            \\n', '                <a class=\"menu_link\" href=\"/profile/info/book/12434\">Junho</a>,\\n', '            \\n', '            2021년 4월 13일 9:48 오전\\n', '            \\n', '            \\n', '            \\n', '        </span>\\n', '    </div>\\n', '\\n', '    <div class=\"comment comment_border_top\">\\n', '        <a name=\"comment_10434\"></a>\\n', '        <span style=\"white-space:pre-wrap;\">@Junho님 정수의 몫과 나머지입니다.</span>\\n', '        <span style=\"font-size:12px;color:#888;\">\\n', '            -\\n', '            \\n', '                <a class=\"menu_link\" href=\"/profile/info/book/3\">박응용</a>,\\n', '            \\n', '            2021년 4월 13일 11:31 오전\\n', '            \\n', '            \\n', '            \\n', '        </span>\\n', '    </div>\\n', '\\n', '    <div class=\"comment comment_border_top\">\\n', '        <a name=\"comment_13300\"></a>\\n', '        <span style=\"white-space:pre-wrap;\">문의드립니다.\\n', '&gt;&gt;&gt; a=2/3\\n', '&gt;&gt;&gt; a\\n', '0.6666666666666666\\n', '&gt;&gt;&gt; &quot;%0.40f&quot;%a\\n', '&#x27;0.6666666666666666296592325124947819858789&#x27;\\n', '\\n', '16자리까지는 정상적인숫자가 나오는데, 문자열자료형으로 소숫점자릿수를 늘리면 그 이후부터는 이상한 숫자가 나오네요.. 혹시 이거 왜그런건가요? 정상적으로 16자리 이상의 계산값을 보려면 어떻게 해야하나요?</span>\\n', '        <span style=\"font-size:12px;color:#888;\">\\n', '            -\\n', '            \\n', '                <a class=\"menu_link\" href=\"/profile/info/book/15951\">김정규</a>,\\n', '            \\n', '            2022년 5월 14일 7:33 오후\\n', '            \\n', '            \\n', '            \\n', '        </span>\\n', '    </div>\\n', '\\n', '    <div class=\"comment comment_border_top\">\\n', '        <a name=\"comment_13302\"></a>\\n', '        <span style=\"white-space:pre-wrap;\">@김정규님 이진수 기반의 파이썬 float 연산(부동소수점 연산)은 경우에 따라 오차가 발생합니다. 다음 문서도 참고해 주세요.\\n', '<a href=\"https://wikidocs.net/106276\" rel=\"nofollow\">https://wikidocs.net/106276</a></span>\\n', '        <span style=\"font-size:12px;color:#888;\">\\n', '            -\\n', '            \\n', '                <a class=\"menu_link\" href=\"/profile/info/book/3\">박응용</a>,\\n', '            \\n', '            2022년 5월 15일 1:49 오후\\n', '            \\n', '            \\n', '            \\n', '        </span>\\n', '    </div>\\n', '\\n', '\\n', '\\n', '\\n', '\\n', '\\n', '    </div>\\n', '    \\n', '    <a href=\"/loginForm\" class=\"text-info\" style=\"font-size:12px\">※ 댓글 작성은 로그인이 필요합니다.</a>\\n', '    <a href=\"#myModal\" data-toggle=\"modal\" style=\"font-size:12px\">(또는 피드백을 이용해 주세요.)</a>\\n', '    \\n', '</div>\\n', '<div class=\"page-prev-next\">\\n', '    \\n', '<div class=\"clearfix\">\\n', '    <div class=\"pull-left\">\\n', '        <ul>\\n', '            \\n', '                <li><strong>이전글</strong> : <a class=\"prev_page_link\" href=\"javascript:page(11)\">02장 파이썬 프로그래밍의 기초, 자료형</a></li>\\n', '            \\n', '            \\n', '                <li><strong>다음글</strong> : <a class=\"next_page_link\" href=\"javascript:page(13)\">02-2 문자열 자료형</a></li>\\n', '            \\n', '        </ul>\\n', '    </div>\\n', '</div>\\n', '\\n', '\\n', '</div>\\n', '\\n', '\\n', '\\n', '<div class=\"nav-buttons\">\\n', '    <a href=\"javascript:void(0)\" class=\"btn btn-primary btn-lg prev-button\" id=\"prev-btn\">\\n', '        <span class=\"glyphicon glyphicon-chevron-left\"></span> 이전글\\n', '    </a>\\n', '    <a href=\"#\" class=\"btn btn-primary btn-lg mobile-toc center-button\">\\n', '        <span class=\"glyphicon glyphicon-list\"></span>\\n', '        목차\\n', '    </a>\\n', '    <a href=\"javascript:void(0)\" class=\"btn btn-primary btn-lg next-button\" id=\"next-btn\">\\n', '        다음글 <span class=\"glyphicon glyphicon-chevron-right\"></span>\\n', '    </a>\\n', '</div>\\n', '\\n', '<!-- 책갈피 모달 -->\\n', '<div class=\"modal fade\" id=\"bookmarkModal\" tabindex=\"-1\" role=\"dialog\" aria-labelledby=\"bookmarkModalLabel\">\\n', '    <div class=\"modal-dialog\" role=\"document\">\\n', '        <div class=\"modal-content\">\\n', '            <div class=\"modal-header\">\\n', '                <button type=\"button\" class=\"close\" data-dismiss=\"modal\" aria-label=\"Close\"><span aria-hidden=\"true\">&times;</span></button>\\n', '                <h4 class=\"modal-title\" id=\"bookmarkModalLabel\">책갈피</h4>\\n', '            </div>\\n', '            <div class=\"modal-body bookmark-body\">\\n', '                <!-- 여기에 동적 데이터가 로드됩니다 -->\\n', '            </div>\\n', '            <div class=\"modal-footer\">\\n', '                <button type=\"button\" class=\"btn btn-primary\">추가</button>\\n', '                <button type=\"button\" class=\"btn btn-default\" data-dismiss=\"modal\">닫기</button>\\n', '            </div>\\n', '        </div>\\n', '    </div>\\n', '</div>\\n', '<script>\\n', 'var is_mobile = \"True\";\\n', '$(document).ready(function () {\\n', '    if (is_mobile == \"True\") {\\n', '        if($(window).width() >= 768) {\\n', '            // show toc\\n', '            localStorage.toc = \"show\";\\n', \"            $('#toc_on').prop('checked', true);\\n\", '            $(\".toc-checker\").removeClass(\"hide\");\\n', '            $(\".toc-checker\").show();\\n', '\\n', '        }else {\\n', '            // hide toc\\n', '            localStorage.toc = \"hide\";\\n', \"            $('#toc_off').prop('checked', true);\\n\", '            $(\".toc-checker\").hide();\\n', '        }\\n', '        \\n', '        $(\".mobile-toc\").click(function() {\\n', '            if ($(\".toc-checker\").is(\":visible\")) {\\n', \"                $('#toc_on').prop('checked', false);\\n\", '                $(\".toc-checker\").addClass(\"hide\");\\n', '                $(\".toc-checker\").hide();\\n', '            } else {\\n', \"                $('#toc_on').prop('checked', true);\\n\", '                $(\".toc-checker\").removeClass(\"hide\");\\n', '                $(\".toc-checker\").show();\\n', '            }\\n', '        });\\n', '    }\\n', '\\n', \"    $('.bookmark_btn').click(function(){\\n\", '        var pathname = window.location.pathname;\\n', '        $.ajax({\\n', '            url: \"/bookmark/\",\\n', '            method: \"post\",\\n', '            data: {pathname: pathname},\\n', '            success: function(data){\\n', \"                $('#bookmarkModal .modal-body').html(data);\\n\", '                $(\\'#bookmarkModal\\').modal(\"show\");\\n', '            }\\n', '        });\\n', '    });\\n', '\\n', \"    $('#bookmarkModal .btn-primary').click(function(){\\n\", '        var pathname = window.location.pathname;\\n', '        // console.log(pathname);\\n', '        $.ajax({\\n', '            url: \"/bookmark/add/\",\\n', '            method: \"post\",\\n', '            data: {pathname: pathname},\\n', '            success: function(data){\\n', '                // console.log(data);\\n', \"                $('#bookmarkModal .modal-body').html(data);\\n\", '            },\\n', '            error: function(jqXHR, textStatus, errorThrown) {\\n', '                console.log(\"Request failed: \" + textStatus + \", \" + errorThrown);\\n', '                // $(\\'#bookmarkModal .modal-body\\').html(\"An error occurred: \" + textStatus);\\n', '            },\\n', '        });\\n', '    });\\n', '\\n', \"    $('#bookmarkModal .item-delete').click(function(){\\n\", '        \\n', '        $.ajax({\\n', '            url: \"/bookmark/delete/\",\\n', '            method: \"post\",\\n', '            data: {pathname: pathname},\\n', '            success: function(data){\\n', \"                $('#bookmarkModal .modal-body').html(data);\\n\", '            }\\n', '        });\\n', '    });\\n', '\\n', '    $(\\'[data-toggle=\"popover\"]\\').popover({\\n', \"        trigger: 'hover', // 마우스를 올렸을 때 popover 표시\\n\", \"        container: 'body' // popover가 body 요소에 추가되도록 설정\\n\", '    });\\n', '\\n', '});\\n', 'function deleteBookmark(bookmarkId) {\\n', \"    if (confirm('정말 삭제하시겠습니까?')) {\\n\", '        $.ajax({\\n', \"            url: '/bookmark/delete/' + bookmarkId + '/',\\n\", \"            type: 'POST',\\n\", '            data: {\\n', \"                'csrfmiddlewaretoken': '6PR2CzXxiCktpwvqp0n7nnCUzzgNn2vMx53AZXqkm1yaZTba5OrmEnoyXkfXAE65'\\n\", '            },\\n', '            success: function(response) {\\n', \"                $('#bookmarkModal .modal-body').html(response);\\n\", '            },\\n', '            error: function(xhr, status, error) {\\n', '                // 오류 처리\\n', \"                alert('삭제 실패: ' + error);\\n\", '            }\\n', '        });\\n', '    }\\n', '}\\n', '\\n', '$(document).ready(function() {\\n', '    // 현재 다크모드 상태 확인\\n', '    let isDarkMode = false;\\n', '\\n', '    // 다크모드 토글 함수\\n', '    function toggleDarkMode() {\\n', '        isDarkMode = !isDarkMode;\\n', '        updateTheme();\\n', '        saveDarkModePreference();\\n', '    }\\n', '\\n', '    // 테마 업데이트 함수\\n', '    function updateTheme() {\\n', \"        const mainStylesheet = $('#main-stylesheet');\\n\", \"        const markdownStylesheet = $('#markdown-stylesheet');\\n\", \"        const highlightStylesheet = $('#highlight-stylesheet');\\n\", '\\n', '        if (isDarkMode) {\\n', '            mainStylesheet.attr(\\'href\\', \"/static/book/css/style_stack_dark.css?v=13\");\\n', '            markdownStylesheet.attr(\\'href\\', \"/static/book/css/markdown_stack_dark.css?v=13\");\\n', '            highlightStylesheet.attr(\\'href\\', \"//cdnjs.cloudflare.com/ajax/libs/highlight.js/11.5.1/styles/atom-one-dark.min.css\");\\n', '        } else {\\n', '            mainStylesheet.attr(\\'href\\', \"/static/book/css/style_stack.css?v=15\");\\n', '            markdownStylesheet.attr(\\'href\\', \"/static/book/css/markdown_stack.css?v=13\");\\n', '            highlightStylesheet.attr(\\'href\\', \"//cdnjs.cloudflare.com/ajax/libs/highlight.js/11.5.1/styles/default.min.css\");\\n', '        }\\n', '    }\\n', '\\n', '    // Ajax를 사용하여 다크모드 설정 저장\\n', '    function saveDarkModePreference() {\\n', '        $.ajax({\\n', \"            url: '/set_darkmode/',  // Django URL을 여기에 지정\\n\", \"            method: 'POST',\\n\", '            data: {\\n', \"                'darkmode': isDarkMode ? 'on' : 'off'\\n\", '            },\\n', '            headers: {\\n', \"                'X-CSRFToken': getCookie('csrftoken')  // CSRF 토큰\\n\", '            }\\n', '        });\\n', '    }\\n', '\\n', '    // CSRF 토큰을 쿠키에서 가져오는 함수\\n', '    function getCookie(name) {\\n', '        let cookieValue = null;\\n', \"        if (document.cookie && document.cookie !== '') {\\n\", \"            const cookies = document.cookie.split(';');\\n\", '            for (let i = 0; i < cookies.length; i++) {\\n', '                const cookie = cookies[i].trim();\\n', \"                if (cookie.substring(0, name.length + 1) === (name + '=')) {\\n\", '                    cookieValue = decodeURIComponent(cookie.substring(name.length + 1));\\n', '                    break;\\n', '                }\\n', '            }\\n', '        }\\n', '        return cookieValue;\\n', '    }\\n', '\\n', '    // 토글 버튼 클릭 이벤트\\n', \"    $('#toggle-theme').click(toggleDarkMode);\\n\", '\\n', '    // 초기 테마 설정\\n', '    // updateTheme();\\n', '});\\n', '\\n', '$(document).ready(function() {\\n', '    // 이전 버튼 클릭 시 이벤트\\n', \"    $('#prev-btn').click(function(event) {\\n\", '        event.preventDefault();\\n', \"        var previousLink = $('.prev_page_link');\\n\", '        if (previousLink.length) {\\n', '            previousLink[0].click();\\n', '        }\\n', '    });\\n', '\\n', \"    $('#next-btn').click(function(event) {\\n\", '        event.preventDefault();\\n', \"        var nextLink = $('.next_page_link');\\n\", '        if (nextLink.length) {\\n', '            nextLink[0].click();\\n', '        }\\n', '    });\\n', '});\\n', '</script>\\n', '    \\n', '\\n', '    </div>\\n', '</div>\\n', '<div style=\"display:none\" class=\"prev_next_indicator\">\\n', '    \\n', '    <a class=\"prev_icon\" href=\"javascript:page(11)\" role=\"button\">\\n', '        <span class=\"glyphicon glyphicon-chevron-left\" style=\"font-size:2em;\"></span>\\n', '    </a>\\n', '\\n', '\\n', '    <a class=\"next_icon\" href=\"javascript:page(13)\" role=\"button\">\\n', '        <span class=\"glyphicon glyphicon-chevron-right\" style=\"font-size:2em;\"></span>\\n', '    </a>\\n', '\\n', '\\n', '</div>\\n', '\\n', '<!-- Modal -->\\n', '<div id=\"myModal\" class=\"modal fade\" tabindex=\"-1\" role=\"dialog\" aria-labelledby=\"myModalLabel\" aria-hidden=\"true\">\\n', '    <div class=\"modal-dialog\">\\n', '        <div class=\"modal-content\">\\n', '            <div class=\"modal-header\">\\n', '                <button type=\"button\" class=\"close\" data-dismiss=\"modal\" aria-hidden=\"true\">&times;</button>\\n', '                <h3 id=\"myModalLabel\" class=\"modal-title\">이 페이지에 대한 피드백을 남겨주세요</h3>\\n', '            </div>\\n', '            <div class=\"modal-body\">\\n', '                <form class=\"form\" role=\"form\">\\n', '                    <input type=\"hidden\" name=\"page_id\" id=\"page_id\" value=\"12\" />\\n', '                    <div class=\"form-group\">\\n', '                        <label class=\"control-label\" for=\"email\">답장받을 이메일 주소</label>\\n', '                        <div class=\"\">\\n', '                            <input class=\"form-control\" type=\"text\" id=\"email\" placeholder=\"Email\" >\\n', '                        </div>\\n', '                    </div>\\n', '\\n', '                    <div class=\"form-group\">\\n', '                        <label class=\"control-label\" for=\"feedback\">하고 싶은 말</label>\\n', '                        <div class=\"controls\">\\n', '                            <textarea class=\"form-control\" id=\"feedback\" rows=\"5\"></textarea>\\n', '                        </div>\\n', '                    </div>\\n', '                    <p style=\"font-size:12px;\">※ 피드백은 저자에게 e-메일로 전달됩니다.</p>\\n', '                </form>\\n', '            </div>\\n', '            <div class=\"modal-footer\">\\n', '                <button class=\"btn btn-default\" data-dismiss=\"modal\">Close</button>\\n', '                <button class=\"btn btn-primary\" id=\"feedback_btn\">전송하기</button>\\n', '            </div>\\n', '        </div>\\n', '    </div>\\n', '</div>\\n', '\\n', '<!-- Modal -->\\n', '<div id=\"reportModal\" class=\"modal fade\" tabindex=\"-1\" role=\"dialog\" aria-labelledby=\"reportModalLabel\" aria-hidden=\"true\">\\n', '    <div class=\"modal-dialog\">\\n', '        <div class=\"modal-content\">\\n', '            <div class=\"modal-header\">\\n', '                <button type=\"button\" class=\"close\" data-dismiss=\"modal\" aria-hidden=\"true\">&times;</button>\\n', '                <h3 id=\"reportModalLabel\" class=\"modal-title\">댓글을 신고합니다.</h3>\\n', '            </div>\\n', '            <div class=\"modal-body\">\\n', '                <form class=\"form\" role=\"form\">\\n', '                    <input type=\"hidden\" name=\"comment_id\" id=\"comment_id\" />\\n', '                    해당 댓글을 신고하시겠습니까? 댓글 신고는 다음과 같은 경우에 사용해주세요:\\n', '                    <ol>\\n', '                        <li>스팸 또는 광고성 내용이 포함된 경우</li>\\n', '                        <li>욕설, 비방, 개인정보 유출 등 부적절한 내용이 포함된 경우</li>\\n', '                        <li>저작권을 침해하는 내용이 포함된 경우</li>\\n', '                    </ol>\\n', '                    <div class=\"form-group\">\\n', '                        <label class=\"control-label\" for=\"report\">신고 사유를 입력해 주세요.</label>\\n', '                        <div class=\"controls\">\\n', '                            <textarea class=\"form-control\" id=\"report\" rows=\"5\"></textarea>\\n', '                        </div>\\n', '                    </div>\\n', '                    <p style=\"font-size:12px;\">※ 신고하신 내용은 관리자에게 전달되며, 확인 후 적절한 조치가 이루어집니다. 신고는 익명으로 처리되며, 신고자의 정보는 공개되지 않습니다.</p>\\n', '                </form>\\n', '            </div>\\n', '            <div class=\"modal-footer\">\\n', '                <button class=\"btn btn-default\" data-dismiss=\"modal\">Close</button>\\n', '                <button class=\"btn btn-primary\" id=\"report_btn\">전송하기</button>\\n', '            </div>\\n', '        </div>\\n', '    </div>\\n', '</div>\\n', '\\n', '</div>\\n', '\\n', '\\n', '<script>\\n', '$(document).ready(function () {\\n', \"    $('pre code').each(function(i, e) {\\n\", '        hljs.highlightElement(e);\\n', '        $(e).html($(e).html()\\n', '            .replace(/\\\\[\\\\[MARK\\\\]\\\\]/g,\\'<mark class=\"add\">\\')\\n', \"            .replace(/\\\\[\\\\[\\\\/MARK\\\\]\\\\]/g, '</mark>')\\n\", '            .replace(/\\\\[\\\\[SMARK\\\\]\\\\]/g,\\'<mark class=\"del\"><strike>\\')\\n', \"            .replace(/\\\\[\\\\[\\\\/SMARK\\\\]\\\\]/g, '</strike></mark>')\\n\", \"            .replace(/\\\\[\\\\[\\\\/.*SMARK.*\\\\]\\\\]/g, '</strike></mark>')\\n\", '            .replace(/\\\\[\\\\[.*SMARK.*\\\\]\\\\]/g,\\'<mark class=\"del\"><strike>\\')\\n', \"            .replace(/\\\\[\\\\[\\\\/.*MARK.*\\\\]\\\\]/g, '</mark>')\\n\", '            .replace(/\\\\[\\\\[.*MARK.*\\\\]\\\\]/g,\\'<mark class=\"add\">\\')\\n', '        );\\n', '    });\\n', '    $(\"pre code\").addClass(\"md-csc-wrap\");\\n', '    $(\".hljs\").prepend(\"<button class=\\'md-csc-button btn btn-xs btn-default\\'><span class=\\'copymsg\\'>Copy</span></button>\");\\n', '    $(\".md-csc-button\").click(function(){\\n', '        let text = $(this).parent().text();\\n', '        text = text.substring(4); // \"Copy 문자열 이후부터..\"\\n', \"        const textArea = document.createElement('textarea');\\n\", '        textArea.textContent = text;\\n', '        document.body.append(textArea);\\n', '        textArea.select();\\n', '        document.execCommand(\"copy\");\\n', '        textArea.remove();\\n', '        $(this).find(\".copymsg\").html(\"Copied!\");\\n', '        setTimeout(() => {\\n', '            $(this).find(\".copymsg\").html(\"Copy\");\\n', '        }, 2000);\\n', '    });\\n', '});\\n', '</script>\\n', '\\n', '</body>\\n', '</html>\\n']\n"
     ]
    }
   ],
   "source": [
    "# urllib : URL 을 읽고 분석하는 모듈. \n",
    "\n",
    "import urllib.request\n",
    "\n",
    "# https://wikidocs.net/{page} 웹 페이지를 스크래핑해서 wikidocs_{page}.html 라는 파일로 저장 \n",
    "\n",
    "def get_wikidocs(page):\n",
    "    resource = f'https://wikidocs.net/{page}'\n",
    "    with urllib.request.urlopen(resource) as s:  # s라는 객체를 생성\n",
    "        with open(f'wikidocs_{page}.html', 'wb') as f:\n",
    "            f.write(s.read())\n",
    "\n",
    "get_wikidocs(12)\n",
    "\n",
    "with open(f'wikidocs_{12}.html') as f1:\n",
    "    rl = f1.readlines()\n",
    "\n",
    "print(rl)"
   ]
  },
  {
   "cell_type": "code",
   "execution_count": 87,
   "metadata": {},
   "outputs": [
    {
     "data": {
      "text/plain": [
       "True"
      ]
     },
     "execution_count": 87,
     "metadata": {},
     "output_type": "execute_result"
    }
   ],
   "source": [
    "# webbrowser : 파이썬 프로그램에서 시스템 브라우저를 호출할 때 사용하는 모듈 \n",
    "\n",
    "import webbrowser\n",
    "\n",
    "webbrowser.open_new('http://python.org')\n",
    "webbrowser.open('http://python.org')  # 이미 열린 브라우저에서 열기 "
   ]
  }
 ],
 "metadata": {
  "kernelspec": {
   "display_name": "base",
   "language": "python",
   "name": "python3"
  },
  "language_info": {
   "codemirror_mode": {
    "name": "ipython",
    "version": 3
   },
   "file_extension": ".py",
   "mimetype": "text/x-python",
   "name": "python",
   "nbconvert_exporter": "python",
   "pygments_lexer": "ipython3",
   "version": "3.10.9"
  }
 },
 "nbformat": 4,
 "nbformat_minor": 2
}
