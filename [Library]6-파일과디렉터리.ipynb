{
 "cells": [
  {
   "cell_type": "code",
   "execution_count": 1,
   "metadata": {},
   "outputs": [],
   "source": [
    "# 현재 디렉토리에 있는 모든 txt 파일을 서브 디렉토리로 옮기기 \n",
    "\n",
    "import glob   # 파일과 폴더의 이름을 찾는 모듈\n",
    "import os     # 운영체제 관련 모듈, 경로확인, 새폴더 생성, 파일 이동 등 \n",
    "import shutil # 파일의 복사, 이동, 삭제 등을 명령하는 모듈 \n",
    "\n",
    "for file_path in glob.glob(f'{os.getcwd()}/*.txt'):   # 현재 디렉토리 주소/아무이름.txt 인 모든 파일을 리스트 형태로 저장 \n",
    "    parent = os.path.dirname(file_path)  # file_path 에서 디렉토리 주소만 뽑아옴 \n",
    "    filename = os.path.basename(file_path)  # file_path 에서 파일 이름만 뽑아옴 \n",
    "    new_path = os.path.join(parent, 'subdir', filename)  # 폴더, 파일이름 이어서 새 경로 만듬 \n",
    "    shutil.move(file_path, new_path)  # 파일을 새로운 경로로 이동 "
   ]
  },
  {
   "cell_type": "markdown",
   "metadata": {},
   "source": [
    "파일의 경로를 객체로 다루기."
   ]
  },
  {
   "cell_type": "code",
   "execution_count": null,
   "metadata": {},
   "outputs": [
    {
     "name": "stdout",
     "output_type": "stream",
     "text": [
      "g:\\내 드라이브\\Python\\점투파-라이브러리\\summary\\name.txt\t\tg:\\내 드라이브\\Python\\점투파-라이브러리\\summary\t\tname.txt\n",
      "g:\\내 드라이브\\Python\\점투파-라이브러리\\summary\\asset.txt\t\tg:\\내 드라이브\\Python\\점투파-라이브러리\\summary\t\tasset.txt\n"
     ]
    }
   ],
   "source": [
    "# 위 과정을 간단하게 하는 pathlib 모듈. 위 코드와 아래 코드 한줄씩 비교해볼 것. \n",
    "\n",
    "import pathlib \n",
    "\n",
    "for p in pathlib.Path.cwd().glob('*.txt'):   # 현재 디렉토리의 모든 txt 파일의 경로룰 객체(Path 이터레이터)로 받음\n",
    "    print(p, p.parent, p.name, sep='\\t\\t')\n",
    "    new_p = p.parent.joinpath('subdir', p.name)\n",
    "    p.replace(new_p)"
   ]
  },
  {
   "cell_type": "code",
   "execution_count": 21,
   "metadata": {},
   "outputs": [
    {
     "data": {
      "text/plain": [
       "Counter({'.ipynb': 5, '.txt': 2, '': 1})"
      ]
     },
     "execution_count": 21,
     "metadata": {},
     "output_type": "execute_result"
    }
   ],
   "source": [
    "# 현재 디렉터리의 모든 파일들의 확장자별 개수 구하기 \n",
    "\n",
    "import collections, pathlib\n",
    "collections.Counter([p.suffix for p in pathlib.Path.cwd().iterdir()])  # iterdir() 은 해당 디렉터리의 모든 파일을 이터레이터로 반환"
   ]
  },
  {
   "cell_type": "code",
   "execution_count": null,
   "metadata": {},
   "outputs": [
    {
     "data": {
      "text/plain": [
       "['2-text.ipynb',\n",
       " '3-variousdata.ipynb',\n",
       " '5-functionalprogram.ipynb',\n",
       " '4-mathnumber.ipynb',\n",
       " '6-file&directory.ipynb',\n",
       " 'name.txt',\n",
       " 'asset.txt',\n",
       " 'subdir']"
      ]
     },
     "execution_count": 24,
     "metadata": {},
     "output_type": "execute_result"
    }
   ],
   "source": [
    "# 디렉터리의 구성 확인하기. \n",
    "# os.path 는 경로명과 파일명에 관한 함수 제공하는 모듈 \n",
    "\n",
    "import os\n",
    "os.listdir(os.getcwd())"
   ]
  },
  {
   "cell_type": "code",
   "execution_count": null,
   "metadata": {},
   "outputs": [
    {
     "name": "stdout",
     "output_type": "stream",
     "text": [
      "g:\\내 드라이브\\Python\\점투파-라이브러리\\summary\\2-text.ipynb\n",
      "g:\\내 드라이브\\Python\\점투파-라이브러리\\summary\\3-variousdata.ipynb\n",
      "g:\\내 드라이브\\Python\\점투파-라이브러리\\summary\\5-functionalprogram.ipynb\n",
      "g:\\내 드라이브\\Python\\점투파-라이브러리\\summary\\4-mathnumber.ipynb\n",
      "g:\\내 드라이브\\Python\\점투파-라이브러리\\summary\\6-file&directory.ipynb\n"
     ]
    }
   ],
   "source": [
    "# 현재와 하위 디렉터리 모두 포함해서 파일 확인하기 \n",
    "\n",
    "def search(dirname):\n",
    "    filenames = os.listdir(dirname)\n",
    "    for filename in filenames:\n",
    "        filepath = os.path.join(dirname, filename)\n",
    "        if os.path.isdir(filepath):\n",
    "            search(filepath)\n",
    "        elif os.path.isfile(filepath):\n",
    "            name, ext = os.path.splitext(filepath)\n",
    "            if ext == '.ipynb':\n",
    "                print(filepath)\n",
    "\n",
    "search(os.getcwd())\n"
   ]
  },
  {
   "cell_type": "code",
   "execution_count": 26,
   "metadata": {},
   "outputs": [
    {
     "name": "stdout",
     "output_type": "stream",
     "text": [
      "g:\\내 드라이브\\Python\\점투파-라이브러리\\summary\\name.txt\n",
      "g:\\내 드라이브\\Python\\점투파-라이브러리\\summary\\asset.txt\n"
     ]
    }
   ],
   "source": [
    "# pathlib 을 통해 쉽게 하기 \n",
    "\n",
    "import pathlib \n",
    "\n",
    "def search(dirname):\n",
    "    for p in pathlib.Path(dirname).rglob('*.txt'):\n",
    "        print(p)\n",
    "\n",
    "search(os.getcwd())"
   ]
  },
  {
   "cell_type": "code",
   "execution_count": 28,
   "metadata": {},
   "outputs": [
    {
     "name": "stdout",
     "output_type": "stream",
     "text": [
      "song\n",
      "\n",
      "seong\n",
      "\n",
      "son\n",
      "\n",
      "sang\n",
      "there are many asset classes\n",
      "\n",
      "bond, gold, real-estate, stocks\n",
      "\n",
      "Bitcoin is the new asset class\n"
     ]
    }
   ],
   "source": [
    "# 여러개 파일을 한번에 읽기 \n",
    "\n",
    "import fileinput \n",
    "\n",
    "with fileinput.input(glob.glob(\"*.txt\")) as f:\n",
    "    for line in f:\n",
    "        print(line)"
   ]
  },
  {
   "cell_type": "code",
   "execution_count": null,
   "metadata": {},
   "outputs": [
    {
     "name": "stdout",
     "output_type": "stream",
     "text": [
      "546\n"
     ]
    }
   ],
   "source": [
    "# 임시파일 생성하기 : 임시파일의 각 줄에 숫자를 쓴뒤, 합을 구하기. \n",
    "\n",
    "import random\n",
    "import tempfile\n",
    "\n",
    "def sumfile(f):   # 파일의 각 줄에 입력된 숫자들 합하기 \n",
    "    result = 0\n",
    "    for line in f.readlines():\n",
    "        num = int(line)\n",
    "        result += num \n",
    "    return result \n",
    "\n",
    "tf = tempfile.TemporaryFile(mode='w+')  # 쓰기와 읽기(w+) 용 임시 파일을 생성\n",
    "\n",
    "for i in range(10):\n",
    "    num = random.randint(1, 100)\n",
    "    tf.write(str(num))\n",
    "    tf.write('\\n')\n",
    "\n",
    "tf.seek(0)  # 파일 쓰기가 종료되면 파일의 오프셋(offset)이 파일의 끝을 가리키므로 seek(0) 을 통해 오프셋을 처음으로 옮김\n",
    "result = sumfile(tf) \n",
    "tf.close()  # close 를 하면 임시파일은 자동 삭제됨 \n",
    "\n",
    "print(result)"
   ]
  },
  {
   "cell_type": "code",
   "execution_count": 64,
   "metadata": {},
   "outputs": [
    {
     "name": "stdout",
     "output_type": "stream",
     "text": [
      "name.txt\n",
      "asset.txt\n",
      "subdir\\grade.txt\n"
     ]
    }
   ],
   "source": [
    "# 현재와 하위 디렉터리에 있는 모든 파일 검색하기. \n",
    "import glob\n",
    "\n",
    "for filename in glob.glob('**/*.txt', recursive=True):  # 하위폴더까지 확인하기위해 **/* 사용\n",
    "    print(filename)"
   ]
  },
  {
   "cell_type": "code",
   "execution_count": 62,
   "metadata": {},
   "outputs": [
    {
     "name": "stdout",
     "output_type": "stream",
     "text": [
      "name.txt\n",
      "asset.txt\n"
     ]
    }
   ],
   "source": [
    "for filename in glob.glob('*.txt'):  \n",
    "    print(filename)"
   ]
  },
  {
   "cell_type": "code",
   "execution_count": null,
   "metadata": {},
   "outputs": [
    {
     "name": "stdout",
     "output_type": "stream",
     "text": [
      "2-text.ipynb\n",
      "3-variousdata.ipynb\n",
      "5-functionalprogram.ipynb\n",
      "4-mathnumber.ipynb\n",
      "6-file&directory.ipynb\n"
     ]
    }
   ],
   "source": [
    "# 특정 파일만 찾으려면?\n",
    "\n",
    "import fnmatch\n",
    "import os\n",
    "\n",
    "for filename in os.listdir('.'):\n",
    "    if fnmatch.fnmatch(filename, '*[-]*.ipynb'):  # * : 모든것과 일치 , ? : 모든 단일문자와 일치, [seq] : seq 의 모든 문자와 일치 \n",
    "        print(filename)"
   ]
  },
  {
   "cell_type": "code",
   "execution_count": null,
   "metadata": {},
   "outputs": [
    {
     "data": {
      "text/plain": [
       "'g:/내 드라이브/Python/점투파-라이브러리/summary/subdir/grade2.txt'"
      ]
     },
     "execution_count": 81,
     "metadata": {},
     "output_type": "execute_result"
    }
   ],
   "source": [
    "# 파일의 복사 또는 이동 \n",
    "\n",
    "# 백업파일 복사하기.\n",
    "import shutil\n",
    "shutil.copy('name.txt', 'g:/내 드라이브/Python/점투파-라이브러리/summary/subdir/name.txt.back')\n",
    "\n",
    "# 파일 이동시키기 \n",
    "shutil.move('g:/내 드라이브/Python/점투파-라이브러리/summary/subdir/grade.txt', 'g:/내 드라이브/Python/점투파-라이브러리/summary/grade.txt')"
   ]
  }
 ],
 "metadata": {
  "kernelspec": {
   "display_name": "base",
   "language": "python",
   "name": "python3"
  },
  "language_info": {
   "codemirror_mode": {
    "name": "ipython",
    "version": 3
   },
   "file_extension": ".py",
   "mimetype": "text/x-python",
   "name": "python",
   "nbconvert_exporter": "python",
   "pygments_lexer": "ipython3",
   "version": "3.9.5"
  }
 },
 "nbformat": 4,
 "nbformat_minor": 2
}
