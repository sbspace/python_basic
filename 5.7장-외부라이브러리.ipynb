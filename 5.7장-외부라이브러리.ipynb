{
 "cells": [
  {
   "cell_type": "markdown",
   "metadata": {},
   "source": [
    "외부 라이브러리는 pip를 통해 설치가 필요한 라이브러리들 "
   ]
  },
  {
   "cell_type": "code",
   "execution_count": 2,
   "metadata": {},
   "outputs": [
    {
     "name": "stdout",
     "output_type": "stream",
     "text": [
      "John Rhodes\n",
      "\n",
      "23829 Mary Prairie Apt. 298\n",
      "Victorialand, LA 10434\n",
      "\n",
      "이지혜\n",
      "\n",
      "경상남도 음성군 언주38가 (은정허읍)\n"
     ]
    },
    {
     "data": {
      "text/plain": [
       "'Faker 에는 name,address 외에도 postcode, country, company, job 등등의 함수들도 있다.'"
      ]
     },
     "execution_count": 2,
     "metadata": {},
     "output_type": "execute_result"
    }
   ],
   "source": [
    "# Faker : 테스트용 가짜 데이터 생성\n",
    "\n",
    "from faker import Faker\n",
    "fake = Faker()\n",
    "fake_korean = Faker('ko-KR')\n",
    "\n",
    "print(fake.name(), fake.address(), fake_korean.name(), fake_korean.address(), sep='\\n\\n')\n",
    "\n",
    "'''Faker 에는 name,address 외에도 postcode, country, company, job 등등의 함수들도 있다.'''\n"
   ]
  },
  {
   "cell_type": "code",
   "execution_count": 3,
   "metadata": {},
   "outputs": [
    {
     "name": "stdout",
     "output_type": "stream",
     "text": [
      "[('김예원', '강원도 정선군 삼성260길'), ('송현숙', '광주광역시 서초구 테헤란11거리 (민수최마을)'), ('박동현', '전라남도 홍성군 논현696가'), ('김혜진', '강원도 성남시 수정구 도산대가 (재현이조리)'), ('강은지', '전라북도 보령시 논현1길'), ('조예원', '세종특별자치시 광진구 서초대54가'), ('황명자', '경기도 여주시 도산대310가'), ('조도현', '전라북도 오산시 서초중앙34거리'), ('문성진', '부산광역시 구로구 학동773길'), ('이혜진', '울산광역시 종로구 양재천길'), ('김예준', '인천광역시 광진구 강남대길 (지영박리)'), ('김지연', '울산광역시 강서구 오금9가'), ('강혜진', '서울특별시 종로구 잠실008거리 (준호구박리)'), ('권영미', '서울특별시 성북구 영동대9거리'), ('한영자', '충청남도 증평군 봉은사로 (은지이노읍)'), ('김영숙', '강원도 이천시 양재천거리 (정자전면)'), ('권상철', '인천광역시 노원구 석촌호수가'), ('이보람', '경상남도 김포시 영동대3로 (지원윤면)'), ('송민재', '전라남도 청주시 서원구 백제고분거리'), ('진영환', '광주광역시 성북구 백제고분가'), ('이지후', '강원도 청주시 흥덕구 양재천길'), ('조영수', '강원도 태안군 백제고분길'), ('황유진', '충청북도 청주시 흥덕구 석촌호수9로 (은정이이마을)'), ('강지연', '전라북도 성남시 수정구 서초대로 (승민이면)'), ('장순옥', '대구광역시 서초구 서초중앙84로 (영길이리)'), ('박은지', '경기도 평창군 봉은사거리'), ('이재현', '전라남도 음성군 영동대가'), ('이광수', '울산광역시 노원구 봉은사224길 (준서우이마을)'), ('홍현지', '세종특별자치시 관악구 개포가'), ('이영미', '충청남도 화천군 압구정가')]\n",
      "30\n",
      "('이영미', '충청남도 화천군 압구정가')\n"
     ]
    }
   ],
   "source": [
    "# (이름,주소) 30개 가짜 데이터 만들기 \n",
    "\n",
    "fake = Faker('ko-KR')\n",
    "\n",
    "fake_data = [(fake.name(), fake.address()) for i in range(30)]\n",
    "print(fake_data, len(fake_data), fake_data[len(fake_data)-1], sep='\\n')"
   ]
  },
  {
   "cell_type": "code",
   "execution_count": 1,
   "metadata": {},
   "outputs": [
    {
     "name": "stdout",
     "output_type": "stream",
     "text": [
      "x y Z <class 'sympy.core.symbol.Symbol'> <class 'sympy.core.symbol.Symbol'> <class 'sympy.core.symbol.Symbol'>\n"
     ]
    }
   ],
   "source": [
    "# sympy : 방정식 기호를 사용하게 해주는 라이브러리, 문제를 풀기 위해 연습장이 필요할떄 ... \n",
    "\n",
    "from fractions import Fraction\n",
    "import sympy \n",
    "\n",
    "x = sympy.symbols('x')\n",
    "y,z = sympy.symbols('y Z')\n",
    "print(x,y,z, type(x), type(y), type(z))"
   ]
  },
  {
   "cell_type": "code",
   "execution_count": 5,
   "metadata": {},
   "outputs": [
    {
     "name": "stdout",
     "output_type": "stream",
     "text": [
      "Eq(2*x/5, 1760)\n",
      "[4400]\n",
      "잔액은 2640원 입니다\n"
     ]
    }
   ],
   "source": [
    "# 서윤이가 가진 돈의 2/5 으로 물건을 샀고, 그 금액이 1760원 일때, 서윤이가 가진 잔액은?\n",
    "\n",
    "f = sympy.Eq(x*Fraction(2,5), 1760)  # equation 방정식\n",
    "                                       # Fraction 은 유리수를 만듬 : Fraction(분자,분모) or Fraction('분자/분모') \n",
    "print(f) # f 라는 방정식을 만든것 \n",
    "\n",
    "result = sympy.solve(f)  # 방정식을 푸는 방법\n",
    "print(result)   # 방정식의 해는 여러개일 수 있어서 결과값은 리스트 형식으로 반환된다. \n",
    "remain = result[0] - 1760\n",
    "print(f'잔액은 {remain}원 입니다')"
   ]
  },
  {
   "cell_type": "code",
   "execution_count": 11,
   "metadata": {},
   "outputs": [
    {
     "data": {
      "text/plain": [
       "[-1, 1]"
      ]
     },
     "execution_count": 11,
     "metadata": {},
     "output_type": "execute_result"
    }
   ],
   "source": [
    "# 방정식 예시 - 1\n",
    "f = sympy.Eq(x**2,1)\n",
    "sympy.solve(f)  # 해가 2개"
   ]
  },
  {
   "cell_type": "code",
   "execution_count": 6,
   "metadata": {},
   "outputs": [
    {
     "data": {
      "text/plain": [
       "{Z: 3, y: 7}"
      ]
     },
     "execution_count": 6,
     "metadata": {},
     "output_type": "execute_result"
    }
   ],
   "source": [
    "# 방정식 예시 - 2 : 연립방정식 \n",
    "f1 = sympy.Eq(y+z,10)\n",
    "f2 = sympy.Eq(y-z,4)\n",
    "sympy.solve([f1,f2])"
   ]
  }
 ],
 "metadata": {
  "kernelspec": {
   "display_name": "base",
   "language": "python",
   "name": "python3"
  },
  "language_info": {
   "codemirror_mode": {
    "name": "ipython",
    "version": 3
   },
   "file_extension": ".py",
   "mimetype": "text/x-python",
   "name": "python",
   "nbconvert_exporter": "python",
   "pygments_lexer": "ipython3",
   "version": "3.10.9"
  }
 },
 "nbformat": 4,
 "nbformat_minor": 2
}
