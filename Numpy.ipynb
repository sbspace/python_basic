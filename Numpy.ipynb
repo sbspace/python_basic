{
 "cells": [
  {
   "cell_type": "code",
   "execution_count": 1,
   "metadata": {},
   "outputs": [
    {
     "name": "stdout",
     "output_type": "stream",
     "text": [
      "array1 type: <class 'numpy.ndarray'>\n",
      "array1 array 형태: (3,)\n",
      "array2 type: <class 'numpy.ndarray'>\n",
      "array2 array 형태: (1, 3)\n",
      "array2 type: <class 'numpy.ndarray'>\n",
      "array2 array 형태: (2, 3)\n"
     ]
    }
   ],
   "source": [
    "import numpy as np\n",
    "\n",
    "array1 = np.array([1,2,3]) #array 함수는 입력된 객체를 Numpy 배열 형식으로 반환하는 함수\n",
    "print('array1 type:',type(array1)) # array 의 type 은 \"numpy.ndarray\" 이다. \n",
    "print('array1 array 형태:',array1.shape) # 반환값 (3,)\n",
    "\n",
    "array3 = np.array([[1,2,3]])\n",
    "print('array2 type:',type(array3))\n",
    "print('array2 array 형태:',array3.shape) # 반환값 (1,3)\n",
    "\n",
    "array2 = np.array([[1,2,3],[2,3,4]])\n",
    "print('array2 type:',type(array2))\n",
    "print('array2 array 형태:',array2.shape) # 반환값 (2,3)\n",
    " "
   ]
  },
  {
   "cell_type": "code",
   "execution_count": 2,
   "metadata": {},
   "outputs": [
    {
     "name": "stdout",
     "output_type": "stream",
     "text": [
      "array:\n",
      " [1 2 3 4 5 6 7 8] (8,)\n",
      "array3d:\n",
      " [[[1 2]\n",
      "  [3 4]]\n",
      "\n",
      " [[5 6]\n",
      "  [7 8]]]\n",
      "array2d:\n",
      " [[1]\n",
      " [2]\n",
      " [3]\n",
      " [4]\n",
      " [5]\n",
      " [6]\n",
      " [7]\n",
      " [8]] (8, 1)\n"
     ]
    }
   ],
   "source": [
    "# 배열 혹은 행렬을 만드는 예시 \n",
    "\n",
    "array1 = np.arange(1,9) #start 부터 stop 까지 균일간격으로 숫자 생성\n",
    "print('array:\\n', array1, array1.shape) # 반환값: [1 2 3 4 5 6 7 8] (8,)\n",
    "\n",
    "array3d = array1.reshape((2,2,2))\n",
    "print('array3d:\\n', array3d) # 3차원: 2행2열의 행렬 2개 생성\n",
    "\n",
    "array2d = array3d.reshape(-1,1) #reshape(-1,n) 의 의미는 n 은 고정하고 첫번째 차원의 크기를 자동으로 계산\n",
    "print('array2d:\\n', array2d, array2d.shape) # (8행 1열짜리 2차원 행렬생성)"
   ]
  },
  {
   "cell_type": "code",
   "execution_count": 3,
   "metadata": {},
   "outputs": [
    {
     "name": "stdout",
     "output_type": "stream",
     "text": [
      "array:\n",
      " [1 2 3 4 5 6 7 8] (8,)\n",
      "array3d:\n",
      " [[[1 2]\n",
      "  [3 4]]\n",
      "\n",
      " [[5 6]\n",
      "  [7 8]]]\n",
      "array2d:\n",
      " [[1]\n",
      " [2]\n",
      " [3]\n",
      " [4]\n",
      " [5]\n",
      " [6]\n",
      " [7]\n",
      " [8]] (8, 1)\n"
     ]
    }
   ],
   "source": [
    "# arange 함수를 이용한 배열생성 및 reshape 활용 방법\n",
    "\n",
    "array1 = np.arange(1,9) #start 부터 stop 까지 균일간격으로 숫자 생성\n",
    "print('array:\\n', array1, array1.shape) # 반환값: [1 2 3 4 5 6 7 8] (8,)\n",
    "\n",
    "array3d = array1.reshape((2,2,2))\n",
    "print('array3d:\\n', array3d) # 3차원: 2행2열의 행렬 2개 생성\n",
    "\n",
    "array2d = array3d.reshape(-1,1) #reshape(-1,n) 의 의미는 n 은 고정하고 첫번째 차원의 크기를 자동으로 계산\n",
    "print('array2d:\\n', array2d, array2d.shape) # (8행 1열짜리 2차원 행렬생성)"
   ]
  },
  {
   "cell_type": "code",
   "execution_count": 4,
   "metadata": {},
   "outputs": [
    {
     "name": "stdout",
     "output_type": "stream",
     "text": [
      "[[1 2 3]\n",
      " [4 5 6]\n",
      " [7 8 9]]\n",
      "6\n",
      "[[1 2]\n",
      " [4 5]]\n",
      "[[4 5 6]\n",
      " [7 8 9]]\n",
      "[[5 6]\n",
      " [2 3]]\n",
      "[6 7 8 9]\n",
      "[[False False False]\n",
      " [False False  True]\n",
      " [ True  True  True]]\n"
     ]
    }
   ],
   "source": [
    "# 배열(array)의 여러가지 인덱싱(indexing), 슬라이싱(slicing) 방법\n",
    "\n",
    "array3d = np.arange(1,10).reshape(3,3)\n",
    "print(array3d)\n",
    "print(array3d[1,2]) #인덱싱 :2행3열의 숫자 반환\n",
    "print(array3d[0:2,0:2]) #슬라이싱 \n",
    "print(array3d[1:,:]) #슬라이싱: 2,3행만 반환\n",
    "print(array3d[[1,0],1:3]) #팬시 인덱싱 : 리스트나 ndarray 로 인덱스 집합을 지정\n",
    "print(array3d[array3d>5], array3d>5, sep='\\n')\n",
    "#불린 인덱싱 : [] 내에 조건문에 해당하는 값만 추출\n",
    "#첫번째는 5초과하는 원소들을 array형식으로 반환, 두번째는 5초과 여부를 T/F 불린으로 행렬반환"
   ]
  },
  {
   "cell_type": "code",
   "execution_count": 5,
   "metadata": {},
   "outputs": [
    {
     "name": "stdout",
     "output_type": "stream",
     "text": [
      "[1 3 5 9]\n",
      "None\n",
      "[9 5 3 1]\n",
      "[[ 7 12]\n",
      " [ 8 15]]\n"
     ]
    }
   ],
   "source": [
    "# 배열/행렬의 정렬방법\n",
    "\n",
    "array = np.array([3,1,9,5])\n",
    "sort_array = np.sort(array) #원본 array 객체는 건들지 않음\n",
    "print(sort_array) #[1,3,9,5]\n",
    "sort_array2 = array.sort() #ndarray.sort() 는 반환값이 None이며, 대신 원본 ndarray 를 정렬해줌 \n",
    "print(sort_array2) # None\n",
    "sort_array3 = np.sort(array)[::-1] #내림차순 정렬\n",
    "print(sort_array3)\n",
    "\n",
    "array2 = np.array([[8,12]\n",
    "                   ,[7,15]])\n",
    "array2s = np.sort(array2, axis=0) # 2차원 행렬의 정렬 axis 0=열, 1=행\n",
    "print(array2s) # 반환 [[7, 12], [8,15]]"
   ]
  },
  {
   "cell_type": "code",
   "execution_count": 6,
   "metadata": {},
   "outputs": [
    {
     "name": "stdout",
     "output_type": "stream",
     "text": [
      "[1 0 3 2]\n",
      "[4 2 1 3 5 0]\n",
      "['네네' '영희' '짱구' '미선' '짱아' '맹구']\n",
      "[35 67 92 94 97 99] <class 'numpy.ndarray'> <class 'numpy.ndarray'>\n"
     ]
    }
   ],
   "source": [
    "# argsort() : 정렬된 행렬의 인덱스 반환하기\n",
    "# 주어진 배열의 각 요소를 오름차순 정렬한 후, 각 요소의 기존 인덱스를 반환한다.\n",
    "\n",
    "array = np.array([3,1,9,5])\n",
    "sort_index_array = np.argsort(array) #주어진 배열의 각 요소를 정렬한 후, 해당 요소의 기존 인덱스를 반환하는 함수입니다 \n",
    "print(sort_index_array) #[1,0,3,2]\n",
    "\n",
    "#argsort 활용예시 : 성적순으로 학생이름 출력하기 \n",
    "name = np.array(['맹구','짱구','영희','미선','네네','짱아'])\n",
    "score = np.array([99,92,67,94,35,97])\n",
    "score_index = np.argsort(score)\n",
    "print(score_index) # [4 2 1 3 5 0]\n",
    "print(name[score_index]) # 점수 낮은 이름순서 정렬\n",
    "print(score[score_index], type(score_index), type(score)) "
   ]
  },
  {
   "cell_type": "code",
   "execution_count": 7,
   "metadata": {},
   "outputs": [
    {
     "name": "stdout",
     "output_type": "stream",
     "text": [
      "[[1 2 3]\n",
      " [4 5 6]]\n",
      "[[ 7  8]\n",
      " [ 9 10]\n",
      " [11 12]]\n",
      "[[ 58  64]\n",
      " [139 154]]\n",
      "[[1 4]\n",
      " [2 5]\n",
      " [3 6]]\n"
     ]
    }
   ],
   "source": [
    "# 행렬 곱(내적)과 전치행렬 구하기\n",
    "\n",
    "A = np.array([[1,2,3],[4,5,6]])\n",
    "B = np.array([[7,8],[9,10],[11,12]])\n",
    "print(A,B, sep='\\n')\n",
    "print(np.dot(A,B)) # 행렬 곱 \n",
    "print(np.transpose(A))"
   ]
  }
 ],
 "metadata": {
  "kernelspec": {
   "display_name": "base",
   "language": "python",
   "name": "python3"
  },
  "language_info": {
   "codemirror_mode": {
    "name": "ipython",
    "version": 3
   },
   "file_extension": ".py",
   "mimetype": "text/x-python",
   "name": "python",
   "nbconvert_exporter": "python",
   "pygments_lexer": "ipython3",
   "version": "3.10.9"
  }
 },
 "nbformat": 4,
 "nbformat_minor": 2
}
