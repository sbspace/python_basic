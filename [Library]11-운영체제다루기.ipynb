{
 "cells": [
  {
   "cell_type": "code",
   "execution_count": 4,
   "metadata": {},
   "outputs": [],
   "source": [
    "# 파이썬 스크립트의 명령행 옵션을 지정하여 실행하기 : sys.argv 혹은 argparse 를 사용\n",
    "# 명령행을 파싱 : 입력된 명령어에서 옵션과 인자들을 구분하고, 해석해서 프로그램에서 사용할 수 있도록 처리\n",
    "# 사용예시는 py파일 참고 "
   ]
  },
  {
   "cell_type": "code",
   "execution_count": 13,
   "metadata": {},
   "outputs": [],
   "source": [
    "# 디버깅용 로그를 남기기. 로그(Log)는 프로그램 실행되면서 발생하는 기록(이벤트, 동작, 오류 등) 프로그램의 활동 일지.\n",
    "# 로그를 파일로 출력하여 남기기 \n",
    "\n",
    "from logging.config import dictConfig\n",
    "import logging\n",
    "\n",
    "dictConfig({\n",
    "    'version': 1,\n",
    "    'formatters': {\n",
    "        'default': {\n",
    "            'format': '[%(asctime)s] %(message)s',\n",
    "        }\n",
    "    },\n",
    "    'handlers': {\n",
    "        'file': {\n",
    "            'level': 'DEBUG',\n",
    "            'class': 'logging.FileHandler',\n",
    "            'filename': 'debug.log',\n",
    "            'formatter': 'default',\n",
    "        },\n",
    "    },\n",
    "    'root': {\n",
    "        'level': 'DEBUG',\n",
    "        'handlers': ['file']\n",
    "    }\n",
    "})\n",
    "\n",
    "\n",
    "def myfunc():\n",
    "    logging.debug(\"함수가 시작되었습니다.\")\n",
    "    logging.info(\"2단계\")\n",
    "\n",
    "\n",
    "myfunc()"
   ]
  },
  {
   "cell_type": "code",
   "execution_count": 14,
   "metadata": {},
   "outputs": [
    {
     "name": "stdout",
     "output_type": "stream",
     "text": [
      "[2025-01-02 13:45:38,989] 함수가 시작되었습니다.\n",
      "[2025-01-02 13:59:02,224] 함수가 시작되었습니다.\n",
      "[2025-01-02 13:59:19,141] 함수가 시작되었습니다.\n",
      "[2025-01-02 13:59:27,756] 함수가 시작되었습니다.\n",
      "[2025-01-02 13:59:27,766] 2단계\n",
      "\n"
     ]
    }
   ],
   "source": [
    "with open('debug.log') as f:\n",
    "    a = f.read()\n",
    "    print(a)"
   ]
  },
  {
   "cell_type": "code",
   "execution_count": 19,
   "metadata": {},
   "outputs": [
    {
     "name": "stdout",
     "output_type": "stream",
     "text": [
      "uname_result(system='Windows', node='LAPTOP-1HLMSM59', release='10', version='10.0.19045', machine='AMD64')\n",
      "Intel64 Family 6 Model 141 Stepping 1, GenuineIntel\n",
      "Windows\n"
     ]
    }
   ],
   "source": [
    "# 시스템 정보를 확인하기. 현재 사용하는 PC의 사양 (CPU, OS 등)을 확인\n",
    "\n",
    "import platform\n",
    "info = platform.uname()  # namedtuple 형태로 시스템 정보 반환\n",
    "print(info)\n",
    "print(info.processor)  # CPU 정보 \n",
    "print(info.system)  # OS 정보 "
   ]
  },
  {
   "cell_type": "code",
   "execution_count": null,
   "metadata": {},
   "outputs": [
    {
     "name": "stdout",
     "output_type": "stream",
     "text": [
      "3.004225492477417\n",
      "B\n",
      "5.00511908531189\n",
      "A\n",
      "7.0208070278167725\n",
      "C\n"
     ]
    }
   ],
   "source": [
    "# 지정된 시간에 원하는 이벤트 실행하는 이벤트 스케쥴러\n",
    "\n",
    "import time\n",
    "import sched\n",
    "\n",
    "start = time.time()\n",
    "\n",
    "def print_a(a):\n",
    "    print(time.time() - start)\n",
    "    print(a)\n",
    "\n",
    "def print_b(b):\n",
    "    print(time.time() - start)\n",
    "    print(b)\n",
    "\n",
    "def print_c(c):\n",
    "    print(time.time() - start)\n",
    "    print(c)\n",
    "\n",
    "s = sched.scheduler()   # 스케쥴러 생성\n",
    "s.enter(5, 1, print_a, ('A',))   # 실행할 이벤트 등록. 매개변수는 순서대로 : delay 시간(초), 우선순위, 실행함수, 실행함수 전달 인수 \n",
    "s.enter(3, 1, print_b, ('B',))\n",
    "s.enter(7, 1, print_c, ('C',))\n",
    "s.run()"
   ]
  }
 ],
 "metadata": {
  "kernelspec": {
   "display_name": "base",
   "language": "python",
   "name": "python3"
  },
  "language_info": {
   "codemirror_mode": {
    "name": "ipython",
    "version": 3
   },
   "file_extension": ".py",
   "mimetype": "text/x-python",
   "name": "python",
   "nbconvert_exporter": "python",
   "pygments_lexer": "ipython3",
   "version": "3.10.9"
  }
 },
 "nbformat": 4,
 "nbformat_minor": 2
}
