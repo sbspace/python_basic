{
 "cells": [
  {
   "cell_type": "markdown",
   "metadata": {},
   "source": [
    "iterable 을 이용한 다양한 기능들 - by itertools \n",
    "iterable 과 iterator 는 구분해야한다. iterable 은 리스트, 튜플과 같이 그냥 반복 가능한 객체들..."
   ]
  },
  {
   "cell_type": "code",
   "execution_count": 5,
   "metadata": {},
   "outputs": [
    {
     "name": "stdout",
     "output_type": "stream",
     "text": [
      "1 2\n"
     ]
    }
   ],
   "source": [
    "# iterator 로의 변환. iterator 는 반복 가능한 개체, next() 함수를 이용해 계속해서 다음값을 출력 사능한 객체\n",
    "\n",
    "l = [1,2,3,4,5]\n",
    "l = iter(l)\n",
    "print(next(l), next(l))"
   ]
  },
  {
   "cell_type": "code",
   "execution_count": 6,
   "metadata": {},
   "outputs": [
    {
     "name": "stdout",
     "output_type": "stream",
     "text": [
      "one\n",
      "two\n",
      "three\n",
      "one\n",
      "two\n"
     ]
    }
   ],
   "source": [
    "# itertools.cycle() : 반복 가능한 객체(iterable)을 통해 무한히 반복되는 이터레이터 생성\n",
    "import itertools\n",
    "\n",
    "emp_pool = itertools.cycle(['one','two','three'])\n",
    "\n",
    "num = 0\n",
    "while num <5 :\n",
    "    print(next(emp_pool))\n",
    "    num += 1 "
   ]
  },
  {
   "cell_type": "code",
   "execution_count": 7,
   "metadata": {},
   "outputs": [
    {
     "name": "stdout",
     "output_type": "stream",
     "text": [
      "[100, 50, 250, -50, 0, 50, -450, 550]\n",
      "[100, 100, 200, 200, 200, 200, 200, 1000]\n"
     ]
    }
   ],
   "source": [
    "# itertools.accumulate(iterable) : 이터러블의 각 원소들의 누적합을 반환\n",
    "\n",
    "monthly_income = [100, -50, 200, -300, 50, 50, -500, 1000]\n",
    "cum_income = list(itertools.accumulate(monthly_income))\n",
    "# 그때까지의 최대값(running maximum)을 표현하려면 두번째 인덱스에 max.. 반대로 min도 가능\n",
    "max_income = list(itertools.accumulate(monthly_income, max)) \n",
    "\n",
    "print(cum_income, max_income, sep='\\n')"
   ]
  },
  {
   "cell_type": "code",
   "execution_count": 3,
   "metadata": {},
   "outputs": [
    {
     "name": "stdout",
     "output_type": "stream",
     "text": [
      "{'A': [{'blood': 'A', 'name': '김지아'},\n",
      "       {'blood': 'A', 'name': '손우진'},\n",
      "       {'blood': 'A', 'name': '박은주'}],\n",
      " 'AB': [{'blood': 'AB', 'name': '이상호'}, {'blood': 'AB', 'name': '최상현'}],\n",
      " 'B': [{'blood': 'B', 'name': '이영순'}, {'blood': 'B', 'name': '김지민'}],\n",
      " 'O': [{'blood': 'O', 'name': '이민서'}]}\n"
     ]
    }
   ],
   "source": [
    "# iterable을 키(key)값으로 분류하고, 그 결과를 반환하는 함수 \n",
    "\n",
    "import itertools\n",
    "import operator\n",
    "import pprint\n",
    "\n",
    "data = [\n",
    "    {'name': '이민서', 'blood': 'O'},\n",
    "    {'name': '이영순', 'blood': 'B'},\n",
    "    {'name': '이상호', 'blood': 'AB'},\n",
    "    {'name': '김지민', 'blood': 'B'},\n",
    "    {'name': '최상현', 'blood': 'AB'},\n",
    "    {'name': '김지아', 'blood': 'A'},\n",
    "    {'name': '손우진', 'blood': 'A'},\n",
    "    {'name': '박은주', 'blood': 'A'}\n",
    "]\n",
    "\n",
    "data = sorted(data, key=operator.itemgetter('blood'))  # groupby 전 분류기준으로 소트를 해야 한다.\n",
    "grouped_data = itertools.groupby(data, key=operator.itemgetter('blood'))\n",
    "\n",
    "result = {}\n",
    "for key, group_data in grouped_data:\n",
    "    result[key] = list(group_data)  # group_data는 이터레이터이므로 리스트로 바꾼다.\n",
    "\n",
    "pprint.pprint(result)\n",
    "\n",
    "# 그루핑을 하기 전에는 반드시 먼저 그루핑할 key를 기준으로 정렬해야한다. \n"
   ]
  },
  {
   "cell_type": "markdown",
   "metadata": {},
   "source": [
    "길이가 다른 iterable을 묶기. zip() 심화버전"
   ]
  },
  {
   "cell_type": "code",
   "execution_count": 24,
   "metadata": {},
   "outputs": [
    {
     "name": "stdout",
     "output_type": "stream",
     "text": [
      "[('song', 'A'), ('sae', 'B'), ('sun', 'A'), ('jae', 'C'), ('yang', 'C')]\n"
     ]
    }
   ],
   "source": [
    "player = ['song', 'sae', 'sun', 'jae', 'yang']\n",
    "grade = ['A', 'B', 'A']\n",
    "\n",
    "result = itertools.zip_longest(player, grade, fillvalue='C')\n",
    "print(list(result))"
   ]
  },
  {
   "cell_type": "markdown",
   "metadata": {},
   "source": [
    "순열과 조합"
   ]
  },
  {
   "cell_type": "code",
   "execution_count": 25,
   "metadata": {},
   "outputs": [
    {
     "name": "stdout",
     "output_type": "stream",
     "text": [
      "[(1, 2), (1, 3), (1, 4), (2, 1), (2, 3), (2, 4), (3, 1), (3, 2), (3, 4), (4, 1), (4, 2), (4, 3)]\n",
      "6\n"
     ]
    }
   ],
   "source": [
    "order = [1,2,3,4]\n",
    "\n",
    "p = itertools.permutations(order,2)\n",
    "print(list(p))\n",
    "\n",
    "c = itertools.combinations(order,2)\n",
    "print(len(list(c)))"
   ]
  },
  {
   "cell_type": "markdown",
   "metadata": {},
   "source": [
    "복잡한 규칙을 함수로 전달하여 정렬하는 방법. ex) 특정 순서대로 좌표 정렬"
   ]
  },
  {
   "cell_type": "code",
   "execution_count": 26,
   "metadata": {},
   "outputs": [
    {
     "name": "stdout",
     "output_type": "stream",
     "text": [
      "[(1, -1), (1, 2), (2, 2), (3, 3), (0, 4)]\n"
     ]
    }
   ],
   "source": [
    "import functools\n",
    "\n",
    "# 2차원 좌표에서 y축 기준으로 소팅, y값이 같다면 x축 기준으로 소팅하기. \n",
    "\n",
    "def xy_compare(n1, n2):\n",
    "    if n1[1] > n2[1]:         # y 좌표가 크면\n",
    "        return 1\n",
    "    elif n1[1] == n2[1]:      # y 좌표가 같으면\n",
    "        if n1[0] > n2[0]:     # x 좌표가 크면\n",
    "            return 1\n",
    "        elif n1[0] == n2[0]:  # x 좌표가 같으면\n",
    "            return 0\n",
    "        else:                 # x 좌표가 작으면\n",
    "            return -1\n",
    "    else:                     # y 좌표가 작으면\n",
    "        return -1\n",
    "\n",
    "src = [(0, 4), (1, 2), (1, -1), (2, 2), (3, 3)]\n",
    "result = sorted(src, key=functools.cmp_to_key(xy_compare))\n",
    "print(result)"
   ]
  },
  {
   "cell_type": "code",
   "execution_count": 27,
   "metadata": {},
   "outputs": [
    {
     "name": "stdout",
     "output_type": "stream",
     "text": [
      "wikidocs page:6\n",
      "wikidocs page:7\n"
     ]
    }
   ],
   "source": [
    "import urllib.request\n",
    "from functools import lru_cache\n",
    "\n",
    "\n",
    "@lru_cache(maxsize=32)\n",
    "def get_wikidocs(page):\n",
    "    print(\"wikidocs page:{}\".format(page))  # 페이지 호출시 출력\n",
    "    resource = 'https://wikidocs.net/{}'.format(page)\n",
    "    try:\n",
    "        with urllib.request.urlopen(resource) as s:\n",
    "            return s.read()\n",
    "    except urllib.error.HTTPError:\n",
    "        return 'Not Found'\n",
    "\n",
    "\n",
    "first_6 = get_wikidocs(6)\n",
    "first_7 = get_wikidocs(7)\n",
    "\n",
    "second_6 = get_wikidocs(6)\n",
    "second_7 = get_wikidocs(7)\n",
    "\n",
    "assert first_6 == second_6  # 처음 요청한 6번 페이지의 내용과 두번째 요청한 6번 페이지의 내용이 같은지를 확인\n",
    "assert first_7 == second_7\n"
   ]
  },
  {
   "cell_type": "code",
   "execution_count": null,
   "metadata": {},
   "outputs": [
    {
     "name": "stdout",
     "output_type": "stream",
     "text": [
      "15\n",
      "120\n",
      "106\n"
     ]
    }
   ],
   "source": [
    "from functools import partial\n",
    "\n",
    "# 하나 이상의 인수가 이미 채워진 새 버전의 함수를 만들때 사용. \n",
    "\n",
    "def add_mul(choice,*args):\n",
    "    if choice == \"add\":\n",
    "        result = 0\n",
    "        for i in args:\n",
    "            result = result + i\n",
    "    elif choice == \"mul\":\n",
    "        result = 1\n",
    "        for i in args:\n",
    "            result = result * i\n",
    "    return result\n",
    "\n",
    "\n",
    "add = partial(add_mul, 'add')  # add_mul 함수인데, choice 라는 인수는 이미 add로 정의한 케이스의 신규함수 생성\n",
    "mul = partial(add_mul, 'mul')\n",
    "\n",
    "print(add(1,2,3,4,5))  # 15 출력\n",
    "print(mul(1,2,3,4,5))  # 120 출력\n",
    "\n",
    "add_100 = partial(add_mul, 'add', 100)  # 기준값을 100으로 지정. \n",
    "print(add_100(1,2,3))\n"
   ]
  },
  {
   "cell_type": "code",
   "execution_count": 37,
   "metadata": {},
   "outputs": [
    {
     "name": "stdout",
     "output_type": "stream",
     "text": [
      "15\n",
      "5\n"
     ]
    }
   ],
   "source": [
    "import functools\n",
    "\n",
    "# funtools.reduce(function, iterable)은 iterable 의 각 요소에 대해 왼쪽부터 function 을 누적적용 : iterable 을 하나의 값으로 줄여줌\n",
    "\n",
    "data = [3, 2, 5, 4, 1]\n",
    "\n",
    "add_result = functools.reduce(lambda x, y: x + y, data)\n",
    "print(add_result)  # 15 출력\n",
    "\n",
    "max_result = functools.reduce(lambda x,y : x if x>y else y, data)\n",
    "print(max_result)\n",
    "\n"
   ]
  },
  {
   "cell_type": "code",
   "execution_count": 39,
   "metadata": {},
   "outputs": [
    {
     "name": "stdout",
     "output_type": "stream",
     "text": [
      "[{'name': 'sally', 'age': 17, 'grade': 'B'}, {'name': 'jane', 'age': 22, 'grade': 'A'}, {'name': 'dave', 'age': 32, 'grade': 'B'}]\n",
      "[('dave', 32, 'B'), ('sally', 17, 'B'), ('jane', 22, 'C')]\n"
     ]
    }
   ],
   "source": [
    "from operator import itemgetter\n",
    "\n",
    "students = [\n",
    "    {\"name\": \"jane\", \"age\": 22, \"grade\": 'A'},\n",
    "    {\"name\": \"dave\", \"age\": 32, \"grade\": 'B'},\n",
    "    {\"name\": \"sally\", \"age\": 17, \"grade\": 'B'},\n",
    "]\n",
    "\n",
    "result = sorted(students, key=itemgetter('age'))\n",
    "print(result)\n",
    "\n",
    "students = [\n",
    "    (\"jane\", 22, 'C'),\n",
    "    (\"dave\", 32, 'B'),\n",
    "    (\"sally\", 17, 'B'),\n",
    "]\n",
    "\n",
    "result = sorted(students, key=itemgetter(2))\n",
    "print(result)\n"
   ]
  }
 ],
 "metadata": {
  "kernelspec": {
   "display_name": "base",
   "language": "python",
   "name": "python3"
  },
  "language_info": {
   "codemirror_mode": {
    "name": "ipython",
    "version": 3
   },
   "file_extension": ".py",
   "mimetype": "text/x-python",
   "name": "python",
   "nbconvert_exporter": "python",
   "pygments_lexer": "ipython3",
   "version": "3.9.5"
  }
 },
 "nbformat": 4,
 "nbformat_minor": 2
}
