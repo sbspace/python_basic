{
 "cells": [
  {
   "cell_type": "markdown",
   "metadata": {},
   "source": [
    "패키지(package)란?\n",
    "\n",
    "관련 있는 모듈의 집합을 말함. 모듈을 계층적(디렉터리 구조)으로 관리할 수 있게 해줌\n",
    "어느정도 복잡성이 있는 프로그램을 만들때에는 패키지 구조로 만드는게 다방면으로 유리하다. "
   ]
  },
  {
   "cell_type": "code",
   "execution_count": 1,
   "metadata": {},
   "outputs": [
    {
     "name": "stderr",
     "output_type": "stream",
     "text": [
      "<>:4: SyntaxWarning: invalid escape sequence '\\P'\n",
      "<>:4: SyntaxWarning: invalid escape sequence '\\P'\n",
      "C:\\Users\\bmseo\\AppData\\Local\\Temp\\ipykernel_8584\\4205543519.py:4: SyntaxWarning: invalid escape sequence '\\P'\n",
      "  sys.path.append(\"G:\\내 드라이브\\Python\\점프투파이썬\\game\")  # -> 이 과정은 set PYTHONPATH=G:\\내 드라이브\\파이썬공부\\game  으로 대체\n"
     ]
    },
    {
     "name": "stdout",
     "output_type": "stream",
     "text": [
      "Initializing game ..\n",
      "echo\n",
      "echo\n",
      "echo\n"
     ]
    }
   ],
   "source": [
    "# 아래 실행과정은 명령프롬프트에서 실행해볼것 \n",
    "\n",
    "import sys\n",
    "sys.path.append(\"G:\\내 드라이브\\Python\\점프투파이썬\\game\")  # -> 이 과정은 set PYTHONPATH=G:\\내 드라이브\\파이썬공부\\game  으로 대체 \n",
    "\n",
    "import game.sound.echo\n",
    "game.sound.echo.echo_test()\n",
    "\n",
    "from game.sound import echo\n",
    "echo.echo_test()\n",
    "\n",
    "from game.sound.echo import echo_test\n",
    "echo_test()\n",
    "\n",
    "# import game.sound.echo.echo_test() 도 안됨. 도트 연산자를 이용한 import 의 마지막은 모듈 혹은 패키지여야함 "
   ]
  },
  {
   "cell_type": "code",
   "execution_count": null,
   "metadata": {},
   "outputs": [],
   "source": [
    "game.print_version_info()"
   ]
  },
  {
   "cell_type": "markdown",
   "metadata": {},
   "source": [
    "__init__.py 의 용도 ? 해당 디렉터리가 패키지의 일부임을 알려주는 역할을함. \n",
    "만약 graphic 디렉터리에 __init__.py 가 없다면 패키지로 인식못함.\n",
    "사실, python 3.3 버전부터는 init 파일 없어도 되지만... 하위버전 호환을 위해 작성하자\n",
    "\n",
    "또한, __init__ 파일은 패키지와 관련된 설정이나 초기화 코드를 포함할 수 있다. \n",
    "패키지 수준 (모듈까지 import 하지 않아도 패키지 자체에 들어있는..)의 변수와 함수를 정의할 수 있음. \n",
    "\n",
    "또한, 패키지를 처음 불러올 때 디폴트로 실행되어야 하는 코드 (초기화코드)를 작성할 수도 있다. \n",
    "예를들어 데이터베이스 연결이나, 설정 파일 로드와 같은 작업을 수행할 수 있다. \n",
    "초기화 코드는 한번 실행되면, 다시 하위 모듈을 임포트 하거나 해도 실행되지 않음 (한번만 실행)"
   ]
  },
  {
   "cell_type": "code",
   "execution_count": 1,
   "metadata": {},
   "outputs": [
    {
     "name": "stdout",
     "output_type": "stream",
     "text": [
      "Initializing game ..\n",
      "3.5\n",
      "The version of this game is 3.5\n",
      "render\n",
      "echo\n"
     ]
    }
   ],
   "source": [
    "# 아래 코드 실행전에 game 패키지의 init 파일에 들어있는 변수, 함수, 모듈 확인해볼것 \n",
    "\n",
    "import game\n",
    "print(game.VERSION)  \n",
    "game.print_version_info()\n",
    "game.render_test()"
   ]
  },
  {
   "cell_type": "markdown",
   "metadata": {},
   "source": [
    " __all__ : 특정 디렉터리안에 있는 모든 모듈을 가져오고 싶을 때\n",
    "해당 디렉토리의 __init__ 파일안에 __all__ 로 정의해줘야한다. \n",
    "\n",
    "relative 패키지: 서브드렉터리에서 다른 서브디렉터리의 모듈을 불러오고 싶을때 \n",
    "예를들어 render 에서 echo_test 를 쓰고싶다면 -> from game.sound.echo import echo_test 대신에\n",
    "-> from ..sound.echo import echo_test 라고 쓸 수 있다. \n",
    "경로 접근자에서 .. 는 부모디렉터리를 의미하고 . 은 현재 디렉터리를 의미한다. "
   ]
  },
  {
   "cell_type": "code",
   "execution_count": null,
   "metadata": {},
   "outputs": [],
   "source": [
    "from game.sound import *\n",
    "echo.echo_test()"
   ]
  }
 ],
 "metadata": {
  "kernelspec": {
   "display_name": "base",
   "language": "python",
   "name": "python3"
  },
  "language_info": {
   "codemirror_mode": {
    "name": "ipython",
    "version": 3
   },
   "file_extension": ".py",
   "mimetype": "text/x-python",
   "name": "python",
   "nbconvert_exporter": "python",
   "pygments_lexer": "ipython3",
   "version": "3.10.9"
  }
 },
 "nbformat": 4,
 "nbformat_minor": 2
}
