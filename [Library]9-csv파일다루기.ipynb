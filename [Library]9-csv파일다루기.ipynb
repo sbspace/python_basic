{
 "cells": [
  {
   "cell_type": "code",
   "execution_count": null,
   "metadata": {},
   "outputs": [
    {
     "data": {
      "text/plain": [
       "[['1', '80,55', '홍길동', 67.5],\n",
       " ['2', '90,77', '김철수', 83.5],\n",
       " ['3', '88,66', '박희수', 77.0]]"
      ]
     },
     "execution_count": 10,
     "metadata": {},
     "output_type": "execute_result"
    }
   ],
   "source": [
    "# CSV 파일의 읽고 쓰기 : CSV 파일을 인코딩해 파이썬에서 계산해서 CSV 파일로 다시 만들기 (수정)\n",
    "\n",
    "import csv\n",
    "\n",
    "result = []\n",
    "with open('score.csv', 'r', encoding='euc-kr') as f:  # ms 엑셀은 기본적으로 euc-kr 인코딩함\n",
    "    reader = csv.reader(f)\n",
    "    for line in reader:\n",
    "        average = sum(map(int, line[1].split(','))) / 2\n",
    "        line.append(average)\n",
    "        result.append(line)\n",
    "\n",
    "with open('score_result.csv', 'w', newline='') as f:  # newline = '' 지정안하면 윈도우에서 자동으로 데이터 줄바꿈 들어감 \n",
    "    writer = csv.writer(f)\n",
    "    writer.writerows(result)\n",
    "\n",
    "result"
   ]
  }
 ],
 "metadata": {
  "kernelspec": {
   "display_name": "base",
   "language": "python",
   "name": "python3"
  },
  "language_info": {
   "codemirror_mode": {
    "name": "ipython",
    "version": 3
   },
   "file_extension": ".py",
   "mimetype": "text/x-python",
   "name": "python",
   "nbconvert_exporter": "python",
   "pygments_lexer": "ipython3",
   "version": "3.10.9"
  }
 },
 "nbformat": 4,
 "nbformat_minor": 2
}
